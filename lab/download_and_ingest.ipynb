{
 "cells": [
  {
   "cell_type": "markdown",
   "id": "0a51e27c-374b-4f35-812e-5d086cdd3fcc",
   "metadata": {},
   "source": [
    "# Interacting with Elasticsearch from a Python notebook"
   ]
  },
  {
   "cell_type": "code",
   "execution_count": 214,
   "id": "c1d23ca3-0851-413b-90e1-dc2a6e26dc8d",
   "metadata": {},
   "outputs": [],
   "source": [
    "# Install the dependencies for the lab\n",
    "!pip install -qU elasticsearch overturemaps pandas geopandas matplotlib\n",
    "\n",
    "WORK_DIR=\"/lab\""
   ]
  },
  {
   "cell_type": "markdown",
   "id": "751eeb7e-3afd-4ac8-b751-28c95252e97f",
   "metadata": {},
   "source": [
    "## Get the data from Overturemaps Places dataset"
   ]
  },
  {
   "cell_type": "code",
   "execution_count": 215,
   "id": "bc070000-6706-4096-8b96-c8cca054d9af",
   "metadata": {},
   "outputs": [],
   "source": [
    "import os\n",
    "places_path = os.path.join(WORK_DIR, \"places.parquet\")"
   ]
  },
  {
   "cell_type": "code",
   "execution_count": 3,
   "id": "e1f58937-04fb-4269-a210-a6711c7a7283",
   "metadata": {},
   "outputs": [
    {
     "name": "stdout",
     "output_type": "stream",
     "text": [
      "36193 features downloaded\n"
     ]
    }
   ],
   "source": [
    "# Download places (POI) from the Overturemaps parquet release\n",
    "from overturemaps import core\n",
    "\n",
    "# Get bounding boxes from http://bboxfinder.com\n",
    "bosnia_bbox = [15.688477,41.873651,20.489502,45.278752]\n",
    "valencia_bbox = [-0.432243,39.419221,-0.296288,39.504306]\n",
    "\n",
    "gdf = core.geodataframe(\"place\",bbox=valencia_bbox)\n",
    "print(f\"{len(gdf)} features downloaded\")\n",
    "gdf.head(1)\n",
    "\n",
    "# Save the content into a file\n",
    "gdf.to_parquet(path=places_path)"
   ]
  },
  {
   "cell_type": "code",
   "execution_count": 192,
   "id": "c22137f5-6913-4878-bf71-baf2759c083b",
   "metadata": {},
   "outputs": [
    {
     "name": "stdout",
     "output_type": "stream",
     "text": [
      "36193 features downloaded\n"
     ]
    }
   ],
   "source": [
    "# If Internet download does not work, read the content from a file\n",
    "import geopandas as gpd\n",
    "\n",
    "gdf = gpd.read_parquet(path=places_path)\n",
    "print(f\"{len(gdf)} features downloaded\")"
   ]
  },
  {
   "cell_type": "code",
   "execution_count": 201,
   "id": "0d0a3f8e-7926-4eef-b5c2-0501b9057e2b",
   "metadata": {},
   "outputs": [],
   "source": [
    "# Modify the dataframe to get the data out from the object types\n",
    "gdf[\"source\"] = gdf[\"sources\"].apply(lambda x: x[0].get(\"sources\",{}).get(\"dataset\",None) if len(x)>0 else None )\n",
    "gdf[\"name\"] = gdf[\"names\"].apply(lambda x: x.get(\"names\",{}).get(\"primary\", None))\n",
    "gdf[\"category\"] = gdf[\"categories\"].apply(lambda x: x.get(\"primary\", None))\n",
    "gdf[\"alt_categories\"] = gdf[\"categories\"].apply(lambda x: x.get(\"alternate\", []))\n",
    "gdf[\"brand_\"] = gdf[\"brand\"].apply(lambda x: x.get(\"primary\",None) if x else None)"
   ]
  },
  {
   "cell_type": "code",
   "execution_count": 213,
   "id": "44be0ae4-c130-47eb-94e9-e195a90ad14d",
   "metadata": {},
   "outputs": [
    {
     "data": {
      "text/plain": [
       "id                             9597ee8e-84c0-4dc3-9395-20a389ba0c59\n",
       "geometry                                POINT (-0.43221 39.4208799)\n",
       "bbox              {'xmax': -0.4322099983692169, 'xmin': -0.43221...\n",
       "version                                                           1\n",
       "sources           [{'between': None, 'confidence': 0.49293966623...\n",
       "names             {'common': None, 'primary': 'Naranjas Hort Alb...\n",
       "categories        {'alternate': ['shopping', 'grocery_store'], '...\n",
       "confidence                                                  0.49294\n",
       "websites                       [http://www.naranjasalbagarces.com/]\n",
       "socials                     [https://www.facebook.com/102986254619]\n",
       "emails                                                         None\n",
       "phones                                               [+34961591344]\n",
       "brand                                                          None\n",
       "addresses         [{'country': 'ES', 'freeform': 'Camí dels Hort...\n",
       "source                                                         None\n",
       "name                                                           None\n",
       "category                                          health_food_store\n",
       "alt_categories                            [shopping, grocery_store]\n",
       "brand_                                                         None\n",
       "Name: 0, dtype: object"
      ]
     },
     "execution_count": 213,
     "metadata": {},
     "output_type": "execute_result"
    },
    {
     "data": {
      "image/png": "[encoded data removed]",
      "text/plain": [
       "<Figure size 640x480 with 1 Axes>"
      ]
     },
     "metadata": {},
     "output_type": "display_data"
    }
   ],
   "source": [
    "# See the first row and some points on a map\n",
    "gdf.head(200).plot()\n",
    "gdf.iloc[0]"
   ]
  },
  {
   "cell_type": "markdown",
   "id": "6121cdc3-6587-4a88-9d15-63c91302ff6c",
   "metadata": {},
   "source": [
    "## Connect to Elasticsearch"
   ]
  },
  {
   "cell_type": "code",
   "execution_count": 5,
   "id": "9760861d-f9cf-4934-a499-7d5a1562656d",
   "metadata": {},
   "outputs": [],
   "source": [
    "from elasticsearch import Elasticsearch\n",
    "import os\n",
    "\n",
    "# Login details\n",
    "ES_URL=os.getenv(\"ES_URL\",\"http://elasticsearch:9200\")\n",
    "KB_URL=os.getenv(\"KB_URL\",\"http://kibana:5601\")\n",
    "ES_PASS=os.getenv(\"ES_PASS\",\"changeme\")\n",
    "ES_AUTH=(\"elastic\", ES_PASS)"
   ]
  },
  {
   "cell_type": "code",
   "execution_count": 6,
   "id": "d2b1805c-0882-4a4a-81c3-b2e752eb22aa",
   "metadata": {},
   "outputs": [
    {
     "name": "stdout",
     "output_type": "stream",
     "text": [
      "Cluster name: 367de8788b3e\n",
      "Version: 9.0.3\n"
     ]
    }
   ],
   "source": [
    "client = Elasticsearch(hosts=[ES_URL], basic_auth=ES_AUTH)\n",
    "\n",
    "c_info = client.info()\n",
    "print(f\"Cluster name: {c_info['name']}\")\n",
    "print(f\"Version: {c_info['version']['number']}\")"
   ]
  },
  {
   "cell_type": "code",
   "execution_count": 5,
   "id": "08c17937-2c9e-4df4-8bdb-d245073d4750",
   "metadata": {},
   "outputs": [
    {
     "name": "stdout",
     "output_type": "stream",
     "text": [
      "License is active and on **basic** until **N/A**\n"
     ]
    }
   ],
   "source": [
    "from pprint import pprint\n",
    "c_license = client.license.get()['license']\n",
    "print(f\"License is {c_license.get('status')} and on **{c_license.get('type')}** until **{c_license.get('expiry_date', \"N/A\")}**\")"
   ]
  },
  {
   "cell_type": "code",
   "execution_count": 7,
   "id": "56ed89e7-c867-4789-a729-961da0f1d0b4",
   "metadata": {},
   "outputs": [
    {
     "name": "stdout",
     "output_type": "stream",
     "text": [
      "License is active and on **basic**\n"
     ]
    }
   ],
   "source": [
    "# Opt out from trial\n",
    "if client.license.get_basic_status().get('eligible_to_start_basic',False):\n",
    "    print(\"Moving to basic\")\n",
    "    client.license.post_start_basic(acknowledge=True)\n",
    "\n",
    "c_license = client.license.get().get('license')\n",
    "print(f\"License is {c_license.get('status')} and on **{c_license.get('type')}**\")"
   ]
  },
  {
   "cell_type": "markdown",
   "id": "04121822-7943-46ab-9785-5cb522a00d73",
   "metadata": {},
   "source": [
    "## Connect to Kibana"
   ]
  },
  {
   "cell_type": "code",
   "execution_count": 8,
   "id": "0369115c-7e8d-4bd0-a0d2-0348c7d3746a",
   "metadata": {},
   "outputs": [],
   "source": [
    "import requests\n",
    "import json\n",
    "from functools import partial\n",
    "\n",
    "kibana_headers = {\n",
    "    \"kbn-xsrf\": \"true\",\n",
    "    \"Content-Type\": \"application/json\"\n",
    "}\n",
    "session = requests.Session()\n",
    "session.auth = ES_AUTH\n",
    "kib_get = partial(session.get, headers=kibana_headers)\n",
    "kib_put = partial(session.put, headers=kibana_headers)\n"
   ]
  },
  {
   "cell_type": "code",
   "execution_count": 10,
   "id": "e6444281-309a-482f-af10-955a016531c5",
   "metadata": {},
   "outputs": [
    {
     "name": "stdout",
     "output_type": "stream",
     "text": [
      "Kibana 9.0.3: All services and plugins are available\n"
     ]
    }
   ],
   "source": [
    "# Check the status\n",
    "r_status = kib_get(f\"{KB_URL}/api/status\")\n",
    "r_status_json = r_status.json()\n",
    "print(f\"Kibana {r_status_json['version']['number']}: {r_status_json['status']['overall']['summary']}\")"
   ]
  },
  {
   "cell_type": "code",
   "execution_count": 11,
   "id": "2cf6eace-87f0-415c-b001-b0beb3355f2e",
   "metadata": {},
   "outputs": [
    {
     "name": "stdout",
     "output_type": "stream",
     "text": [
      "Space is already a search type\n"
     ]
    }
   ],
   "source": [
    "# Optional: change default space to Search type (simpler UI)\n",
    "desired_solution = \"es\"\n",
    "\n",
    "# Get the default space data\n",
    "default_space = kib_get(f\"{KB_URL}/api/spaces/space/default\").json()\n",
    "\n",
    "# If a solution is not defined or the desired, change it\n",
    "solution = default_space.get(\"solution\", False) \n",
    "if solution != desired_solution:\n",
    "    payload = {\n",
    "        \"id\": default_space[\"id\"],\n",
    "        \"name\": default_space[\"name\"],\n",
    "        \"solution\": desired_solution\n",
    "    }\n",
    "    \n",
    "    # Modify the Space with the new solution\n",
    "    r_space = kib_put(\n",
    "        f\"{KB_URL}/api/spaces/space/default\",\n",
    "        data=json.dumps(payload)\n",
    "    )\n",
    "    r_space_json = r_space.json()\n",
    "    print(f\"Space is now a '{r_space_json.get(\"solution\")}' type\")\n",
    "else:\n",
    "    print(\"Space is already a search type\")"
   ]
  },
  {
   "cell_type": "markdown",
   "id": "20e1ed20-7ccd-4a9c-8658-a5386ccaf576",
   "metadata": {},
   "source": [
    "## Upload the dataset"
   ]
  },
  {
   "cell_type": "code",
   "execution_count": 185,
   "id": "0e253d23-b1af-4379-8054-5c88ad81e031",
   "metadata": {},
   "outputs": [],
   "source": [
    "\n",
    "\n",
    "# Generator funcion to yield documents to upload to ES\n",
    "def generate_actions():\n",
    "    for index, doc in gdf.iterrows():\n",
    "        yield {\n",
    "            \"_index\": index_name,\n",
    "            \"_id\": doc[\"id\"],\n",
    "            \"_source\": {\n",
    "                \"id\": doc[\"id\"],\n",
    "                \"geometry\": str(doc[\"geometry\"]),\n",
    "                \"version\": doc[\"version\"],\n",
    "                \"source\": doc[\"source\"],\n",
    "                \"name\": doc[\"name\"],\n",
    "                \"category\": doc[\"category\"],\n",
    "                \"alt_categories\": doc[\"alt_categories\"],\n",
    "                \"brand\": doc[\"brand_\"],\n",
    "                \"socials\": doc[\"socials\"],\n",
    "                \"emails\": doc[\"emails\"],\n",
    "                \"phones\": doc[\"phones\"],\n",
    "                \"addresses\": doc[\"addresses\"]\n",
    "            }\n",
    "        }"
   ]
  },
  {
   "cell_type": "code",
   "execution_count": 186,
   "id": "e0257ef9-84db-4eae-8d7d-3241d2531231",
   "metadata": {},
   "outputs": [],
   "source": [
    "# Check if the places index exists and remove it\n",
    "index_name = \"places\"\n",
    "\n",
    "# Define the mappings\n",
    "index_body = {\n",
    "    \"settings\": {\n",
    "        \"number_of_shards\": 1,\n",
    "        \"number_of_replicas\": 0\n",
    "    },\n",
    "    \"mappings\": {\n",
    "        \"properties\": {\n",
    "            \"id\": {\"type\": \"text\"},\n",
    "            \"geometry\": {\"type\": \"geo_point\"},\n",
    "            \"version\": {\"type\": \"integer\"},\n",
    "            \"source\": {\"type\": \"keyword\"},\n",
    "            \"confidence\": {\"type\": \"float\"},\n",
    "            \"name\": {\"type\": \"text\"},\n",
    "            \"category\": {\"type\": \"keyword\"},\n",
    "            \"alt_categories\": {\"type\": \"keyword\"},\n",
    "            \"website\": {\"type\": \"text\"},\n",
    "            \"socials\": {\"type\": \"text\"},\n",
    "            \"emails\": {\"type\": \"text\"},\n",
    "            \"phones\": {\"type\": \"text\"},\n",
    "            \"brand\": {\"type\": \"keyword\"},\n",
    "            \"addresses\": {\n",
    "                \"properties\": {\n",
    "                    \"country\": {\"type\": \"keyword\"},\n",
    "                    \"freeform\": {\"type\": \"text\"},\n",
    "                    \"locality\": {\"type\": \"keyword\"},\n",
    "                    \"postcode\": {\"type\": \"keyword\"},\n",
    "                    \"region\": {\"type\": \"keyword\"},\n",
    "                }\n",
    "            }\n",
    "        }\n",
    "    }\n",
    "}"
   ]
  },
  {
   "cell_type": "code",
   "execution_count": null,
   "id": "008fc2c0-62c2-47ec-9b83-8df71632f6e3",
   "metadata": {},
   "outputs": [],
   "source": []
  },
  {
   "cell_type": "code",
   "execution_count": 187,
   "id": "69c2c4f9-bfdf-4b40-9d23-91c45addd8c3",
   "metadata": {},
   "outputs": [
    {
     "name": "stdout",
     "output_type": "stream",
     "text": [
      "Deleting previous index...\n",
      "Starting ingestion...\n",
      "Bulk ingestion completed in 2.97 seconds.\n",
      "Successfully indexed: 36193 documents.\n",
      "Index refresh successful\n"
     ]
    }
   ],
   "source": [
    "from elasticsearch import helpers\n",
    "import time\n",
    "\n",
    "# Remove the index if necessary\n",
    "if client.indices.exists(index=index_name):\n",
    "    print(\"Deleting previous index...\")\n",
    "    client.indices.delete(index=index_name)\n",
    "\n",
    "# Create the index with the correct mappings and properties\n",
    "client.indices.create(index=index_name, body=index_body)\n",
    "\n",
    "# Perform the bulk ingestion\n",
    "print(\"Starting ingestion...\")\n",
    "start_time = time.time()\n",
    "success_count, errors = helpers.bulk(\n",
    "    client,\n",
    "    generate_actions(),\n",
    "    stats_only=True\n",
    ")\n",
    "end_time = time.time()\n",
    "\n",
    "print(f\"Bulk ingestion completed in {end_time - start_time:.2f} seconds.\")\n",
    "print(f\"Successfully indexed: {success_count} documents.\")\n",
    "if errors:\n",
    "    print(f\"Errors encountered: {len(errors)}\")\n",
    "    # print(\"First few errors:\", errors[:5]) # Uncomment to see actual errors\n",
    "\n",
    "# (Optional) Refresh the index to make documents searchable immediately\n",
    "# This is usually done for testing/development. For production, rely on refresh_interval.\n",
    "refresh = client.indices.refresh(index=index_name)\n",
    "if refresh.get(\"_shards\",{}).get(\"successful\",0) == 1:\n",
    "    print(\"Index refresh successful\")"
   ]
  },
  {
   "cell_type": "code",
   "execution_count": 188,
   "id": "df85fbc2-878b-4ddd-bc3e-db65af2f09f0",
   "metadata": {},
   "outputs": [
    {
     "name": "stdout",
     "output_type": "stream",
     "text": [
      "\n",
      "Verifying document count in 'places':\n",
      "Documents in 'places': 36193\n",
      "\n",
      "Searching for any document in 'places'...\n",
      "\n",
      "--- First Document Found ---\n",
      "Index: places\n",
      "ID: 9597ee8e-84c0-4dc3-9395-20a389ba0c59\n",
      "Score: 1.0\n",
      "Source Document:\n",
      "{\n",
      "  \"id\": \"9597ee8e-84c0-4dc3-9395-20a389ba0c59\",\n",
      "  \"geometry\": \"POINT (-0.43221 39.4208799)\",\n",
      "  \"version\": 1,\n",
      "  \"source\": null,\n",
      "  \"name\": null,\n",
      "  \"category\": \"health_food_store\",\n",
      "  \"alt_categories\": [\n",
      "    \"shopping\",\n",
      "    \"grocery_store\"\n",
      "  ],\n",
      "  \"brand\": null,\n",
      "  \"socials\": [\n",
      "    \"https://www.facebook.com/102986254619\"\n",
      "  ],\n",
      "  \"emails\": null,\n",
      "  \"phones\": [\n",
      "    \"+34961591344\"\n",
      "  ],\n",
      "  \"addresses\": [\n",
      "    {\n",
      "      \"country\": \"ES\",\n",
      "      \"freeform\": \"Cam\\u00ed dels Horts s/n\",\n",
      "      \"locality\": \"Pica\\u00f1a\",\n",
      "      \"postcode\": \"46210\",\n",
      "      \"region\": null\n",
      "    }\n",
      "  ]\n",
      "}\n",
      "----------------------------\n"
     ]
    }
   ],
   "source": [
    "# Verify ingestion by searching\n",
    "print(f\"\\nVerifying document count in '{index_name}':\")\n",
    "try:\n",
    "    count_response = client.count(index=index_name)\n",
    "    print(f\"Documents in '{index_name}': {count_response['count']}\")\n",
    "except Exception as e:\n",
    "    print(f\"Error verifying documents: {e}\")\n",
    "\n",
    "\n",
    "print(f\"\\nSearching for any document in '{index_name}'...\")\n",
    "try:\n",
    "    response = client.search(\n",
    "        index=index_name,\n",
    "        query={\"match_all\": {}}, # This query matches all documents\n",
    "        size=1                   # We only want the first document found\n",
    "    )\n",
    "\n",
    "    # 5. Process the search results\n",
    "    if response['hits']['total']['value'] > 0:\n",
    "        first_hit = response['hits']['hits'][0]\n",
    "        print(\"\\n--- First Document Found ---\")\n",
    "        print(f\"Index: {first_hit['_index']}\")\n",
    "        print(f\"ID: {first_hit['_id']}\")\n",
    "        print(f\"Score: {first_hit['_score']}\")\n",
    "        print(\"Source Document:\")\n",
    "        import json\n",
    "        print(json.dumps(first_hit['_source'], indent=2)) # Pretty print the document source\n",
    "        print(\"----------------------------\")\n",
    "    else:\n",
    "        print(\"No documents found in the index.\")\n",
    "\n",
    "except Exception as e:\n",
    "    print(f\"Error during search: {e}\")"
   ]
  }
 ],
 "metadata": {
  "kernelspec": {
   "display_name": "Python 3 (ipykernel)",
   "language": "python",
   "name": "python3"
  },
  "language_info": {
   "codemirror_mode": {
    "name": "ipython",
    "version": 3
   },
   "file_extension": ".py",
   "mimetype": "text/x-python",
   "name": "python",
   "nbconvert_exporter": "python",
   "pygments_lexer": "ipython3",
   "version": "3.12.11"
  }
 },
 "nbformat": 4,
 "nbformat_minor": 5
}
