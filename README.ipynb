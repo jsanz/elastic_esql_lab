{
 "cells": [
  {
   "cell_type": "markdown",
   "id": "c14cbc38-cda8-4c7c-9273-c7219bda4ae3",
   "metadata": {},
   "source": [
    "# FOSS4G Europe Elasticsearch and Kibana workshop\n",
    "\n",
    "## Objectives\n",
    "\n",
    "*\n",
    "*\n",
    "*\n",
    "\n",
    "## Content\n",
    "\n",
    "* [setup.ipynb](setup.ipynb): Set up the Elastic Stack and a notebook environment\n",
    "* [download_and_ingest.ipynb](download_and_ingest.ipynb): Feed data into your Elastic cluster\n",
    "* [esql.ipynb](esql.ipynb): Learn the ES|QL language"
   ]
  },
  {
   "cell_type": "code",
   "execution_count": null,
   "id": "8de96b42-ee4e-42d4-bc84-c64d191a6a54",
   "metadata": {},
   "outputs": [],
   "source": []
  }
 ],
 "metadata": {
  "kernelspec": {
   "display_name": "Python 3 (ipykernel)",
   "language": "python",
   "name": "python3"
  },
  "language_info": {
   "codemirror_mode": {
    "name": "ipython",
    "version": 3
   },
   "file_extension": ".py",
   "mimetype": "text/x-python",
   "name": "python",
   "nbconvert_exporter": "python",
   "pygments_lexer": "ipython3",
   "version": "3.12.11"
  }
 },
 "nbformat": 4,
 "nbformat_minor": 5
}
