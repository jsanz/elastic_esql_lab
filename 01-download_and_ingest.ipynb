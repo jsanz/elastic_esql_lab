{
 "cells": [
  {
   "cell_type": "markdown",
   "id": "0a51e27c-374b-4f35-812e-5d086cdd3fcc",
   "metadata": {
    "id": "0a51e27c-374b-4f35-812e-5d086cdd3fcc"
   },
   "source": [
    "# Prepare data"
   ]
  },
  {
   "cell_type": "code",
   "execution_count": 13,
   "id": "c1d23ca3-0851-413b-90e1-dc2a6e26dc8d",
   "metadata": {
    "executionInfo": {
     "elapsed": 7844,
     "status": "ok",
     "timestamp": 1752069948942,
     "user": {
      "displayName": "Jorge Sanz",
      "userId": "09161710353453699946"
     },
     "user_tz": -120
    },
    "id": "c1d23ca3-0851-413b-90e1-dc2a6e26dc8d"
   },
   "outputs": [],
   "source": [
    "# Install the dependencies for this lab\n",
    "!uv pip install -qU elasticsearch overturemaps geopandas matplotlib requests\n",
    "\n",
    "# Data dir\n",
    "WORK_DIR=\"./data\""
   ]
  },
  {
   "cell_type": "markdown",
   "id": "751eeb7e-3afd-4ac8-b751-28c95252e97f",
   "metadata": {
    "id": "751eeb7e-3afd-4ac8-b751-28c95252e97f"
   },
   "source": [
    "## Get the data from Overturemaps Places dataset"
   ]
  },
  {
   "cell_type": "markdown",
   "id": "0X_CKA7-GeKY",
   "metadata": {
    "id": "0X_CKA7-GeKY"
   },
   "source": [
    "Get Overturemaps Foundation Points of Interest (`places` dataset) using thir python library.\n",
    "\n",
    "[Library](https://github.com/OvertureMaps/overturemaps-py/tree/main) | [Documentation](https://docs.overturemaps.org/guides/places/)  | [Reference](https://docs.overturemaps.org/schema/reference/places/place/)"
   ]
  },
  {
   "cell_type": "code",
   "execution_count": 2,
   "id": "cbd7e26a-8060-4b4e-8cd2-44e396ecafff",
   "metadata": {
    "colab": {
     "base_uri": "https://localhost:8080/"
    },
    "executionInfo": {
     "elapsed": 6,
     "status": "ok",
     "timestamp": 1752069948954,
     "user": {
      "displayName": "Jorge Sanz",
      "userId": "09161710353453699946"
     },
     "user_tz": -120
    },
    "id": "cbd7e26a-8060-4b4e-8cd2-44e396ecafff",
    "outputId": "4bca36ef-f307-4d2f-fefb-554ac1c622c5"
   },
   "outputs": [
    {
     "name": "stdout",
     "output_type": "stream",
     "text": [
      "./data/places_bosnia.parquet already downloaded\n",
      "./data/places_valencia.parquet already downloaded\n",
      "./data/places_belem.parquet already downloaded\n",
      "CPU times: user 2.04 s, sys: 64.4 ms, total: 2.11 s\n",
      "Wall time: 479 ms\n"
     ]
    }
   ],
   "source": [
    "%%time\n",
    "import os\n",
    "import io\n",
    "import pandas as pd\n",
    "import geopandas as gpd\n",
    "from overturemaps import core\n",
    "\n",
    "# Get different bounding boxes from http://bboxfinder.com\n",
    "places = {\n",
    "    \"bosnia\": { \"bbox\": [15.688477,41.873651,20.489502,45.278752]},\n",
    "    \"valencia\": {\"bbox\": [-0.432243,39.419221,-0.296288,39.504306]},\n",
    "    \"belem\": {\"bbox\": [-48.524294,-1.492160,-48.371258,-1.397691]}\n",
    "}\n",
    "\n",
    "# Create the data dir if not exists\n",
    "if not os.path.exists(WORK_DIR):\n",
    "    os.makedirs(WORK_DIR)\n",
    "\n",
    "for key, value in places.items():\n",
    "    places_path = os.path.join(WORK_DIR, f\"places_{key}.parquet\")\n",
    "    # Only download if file does not exist\n",
    "    if not os.path.isfile(path=places_path):\n",
    "\n",
    "        # Download places (POI) from the Overturemaps parquet release\n",
    "        # using the overture library\n",
    "        print(f\"Downloading data for {key}\")\n",
    "        gdf = core.geodataframe(\"place\",bbox=value[\"bbox\"])\n",
    "        print(f\"{len(gdf)} features downloaded into {places_path}\")\n",
    "\n",
    "        # Save the content into a file\n",
    "        gdf.to_parquet(path=places_path)\n",
    "    else:\n",
    "        print(f\"{places_path} already downloaded\")"
   ]
  },
  {
   "cell_type": "code",
   "execution_count": 3,
   "id": "c22137f5-6913-4878-bf71-baf2759c083b",
   "metadata": {
    "colab": {
     "base_uri": "https://localhost:8080/"
    },
    "executionInfo": {
     "elapsed": 2772,
     "status": "ok",
     "timestamp": 1752069952350,
     "user": {
      "displayName": "Jorge Sanz",
      "userId": "09161710353453699946"
     },
     "user_tz": -120
    },
    "id": "c22137f5-6913-4878-bf71-baf2759c083b",
    "outputId": "34491b64-537a-41e3-9a47-f1cfc7a79151"
   },
   "outputs": [
    {
     "name": "stdout",
     "output_type": "stream",
     "text": [
      "166644 features loaded from ./data/places_bosnia.parquet\n",
      "36193 features loaded from ./data/places_valencia.parquet\n",
      "27736 features loaded from ./data/places_belem.parquet\n"
     ]
    }
   ],
   "source": [
    "# Get the parquet files from disk as GeoDataFrames into a list\n",
    "dataframes = []\n",
    "\n",
    "for key in places.keys():\n",
    "    places_path = os.path.join(WORK_DIR, f\"places_{key}.parquet\")\n",
    "    places[key][\"gdf\"] = gpd.read_parquet(path=places_path)\n",
    "    print(f\"{len(places[key]['gdf'])} features loaded from {places_path}\")\n"
   ]
  },
  {
   "cell_type": "code",
   "execution_count": 4,
   "id": "44be0ae4-c130-47eb-94e9-e195a90ad14d",
   "metadata": {
    "colab": {
     "base_uri": "https://localhost:8080/",
     "height": 669
    },
    "executionInfo": {
     "elapsed": 205,
     "status": "ok",
     "timestamp": 1752069952565,
     "user": {
      "displayName": "Jorge Sanz",
      "userId": "09161710353453699946"
     },
     "user_tz": -120
    },
    "id": "44be0ae4-c130-47eb-94e9-e195a90ad14d",
    "outputId": "8aea93df-97b0-4be8-eaec-af5fca6ba363"
   },
   "outputs": [
    {
     "data": {
      "text/plain": [
       "id                         284b4fcf-224a-438a-b665-9ca6f572d909\n",
       "geometry                          POINT (15.6921637 41.9091427)\n",
       "bbox          {'xmax': 15.69216537475586, 'xmin': 15.6921634...\n",
       "version                                                       1\n",
       "sources       [{'between': None, 'confidence': 0.98792562183...\n",
       "names         {'common': None, 'primary': 'Village Camping R...\n",
       "categories    {'alternate': ['restaurant', 'accommodation'],...\n",
       "confidence                                             0.987926\n",
       "websites                                [http://www.rancho.it/]\n",
       "socials                  [https://www.facebook.com/48506552944]\n",
       "emails                                                     None\n",
       "phones                                          [+393281871361]\n",
       "brand                                                      None\n",
       "addresses     [{'country': 'IT', 'freeform': 'Contrada Capoi...\n",
       "Name: 0, dtype: object"
      ]
     },
     "execution_count": 4,
     "metadata": {},
     "output_type": "execute_result"
    },
    {
     "data": {
      "image/png": "[encoded data removed]",
      "text/plain": [
       "<Figure size 640x480 with 1 Axes>"
      ]
     },
     "metadata": {},
     "output_type": "display_data"
    }
   ],
   "source": [
    "# See the first row and some points on a map\n",
    "gdf = list(places.items())[0][1][\"gdf\"]\n",
    "# See the first row and some points on a map\n",
    "gdf.head(200).plot()\n",
    "gdf.iloc[0]"
   ]
  },
  {
   "cell_type": "markdown",
   "id": "6121cdc3-6587-4a88-9d15-63c91302ff6c",
   "metadata": {
    "id": "6121cdc3-6587-4a88-9d15-63c91302ff6c"
   },
   "source": [
    "## Connect to Elasticsearch"
   ]
  },
  {
   "cell_type": "markdown",
   "id": "mXCfulGBqUIZ",
   "metadata": {
    "id": "mXCfulGBqUIZ"
   },
   "source": [
    "If running in Google Colab, get the Elastic cluster credentials from the session **Secrets**. Otherwise update the cell to use `os.getenv` to get details from environment variables, for example."
   ]
  },
  {
   "cell_type": "code",
   "execution_count": null,
   "id": "9760861d-f9cf-4934-a499-7d5a1562656d",
   "metadata": {
    "executionInfo": {
     "elapsed": 1445,
     "status": "ok",
     "timestamp": 1752070130742,
     "user": {
      "displayName": "Jorge Sanz",
      "userId": "09161710353453699946"
     },
     "user_tz": -120
    },
    "id": "9760861d-f9cf-4934-a499-7d5a1562656d"
   },
   "outputs": [],
   "source": [
    "try:\n",
    "    from google.colab import userdata\n",
    "    from elasticsearch import Elasticsearch\n",
    "    # Login details\n",
    "    ES_URL=userdata.get('es_url_foss4ge')\n",
    "    KB_URL=userdata.get('kb_url_foss4ge')\n",
    "    ES_APIKEY=userdata.get('apikey_foss4ge')\n",
    "except ImportError:\n",
    "    if os.environ.get('ES_URL') and os.environ.get('KB_URL'):\n",
    "        import os\n",
    "        # Local development\n",
    "        ES_URL = os.environ.get('ES_URL', 'http://localhost:9200')\n",
    "        KB_URL = os.environ.get('KB_URL', 'http://localhost:8000')\n",
    "        ES_APIKEY = os.environ.get('ES_APIKEY', None)\n",
    "    else:\n",
    "        import getpass\n",
    "        ES_URL = getpass.getpass(prompt='Enter the Elasticsearch URL: ')\n",
    "        KB_URL = getpass.getpass(prompt='Enter the Kibana URL: ')\n",
    "        ES_APIKEY = getpass.getpass(prompt='Enter the Elasticsearch API Key: ')"
   ]
  },
  {
   "cell_type": "code",
   "execution_count": 11,
   "id": "d2b1805c-0882-4a4a-81c3-b2e752eb22aa",
   "metadata": {
    "colab": {
     "base_uri": "https://localhost:8080/"
    },
    "executionInfo": {
     "elapsed": 287,
     "status": "ok",
     "timestamp": 1752070133187,
     "user": {
      "displayName": "Jorge Sanz",
      "userId": "09161710353453699946"
     },
     "user_tz": -120
    },
    "id": "d2b1805c-0882-4a4a-81c3-b2e752eb22aa",
    "outputId": "10b5a66f-2c1d-4c43-9d66-54ce68d499fa"
   },
   "outputs": [
    {
     "name": "stdout",
     "output_type": "stream",
     "text": [
      "Elasticsearch URL: https://foss4geurope.es.us-central1.gcp.cloud.es.io\n",
      "Cluster name: instance-0000000000\n",
      "Version: 9.0.3\n",
      "License is active and on **enterprise** until **2028-02-29T23:59:59.999Z**\n"
     ]
    }
   ],
   "source": [
    "from elasticsearch import Elasticsearch\n",
    "\n",
    "# Create the Elasticsearch lient and print some cluster details\n",
    "client = Elasticsearch(hosts=[ES_URL], api_key=ES_APIKEY)\n",
    "\n",
    "c_info = client.info()\n",
    "c_license = client.license.get()['license']\n",
    "is_serverless = c_info['version']['build_flavor'] == 'serverless'\n",
    "\n",
    "print(f\"Elasticsearch URL: {ES_URL}\")\n",
    "print(f\"Cluster name: {c_info['name']}\")\n",
    "print(f\"Version: {c_info['version']['number'] if not is_serverless else 'serverless'}\")\n",
    "print(f\"License is {c_license.get('status')} and on **{c_license.get('type')}** until **{c_license.get('expiry_date', 'N/A')}**\")"
   ]
  },
  {
   "cell_type": "markdown",
   "id": "04121822-7943-46ab-9785-5cb522a00d73",
   "metadata": {
    "id": "04121822-7943-46ab-9785-5cb522a00d73"
   },
   "source": [
    "## Connect to Kibana"
   ]
  },
  {
   "cell_type": "code",
   "execution_count": 14,
   "id": "0369115c-7e8d-4bd0-a0d2-0348c7d3746a",
   "metadata": {
    "executionInfo": {
     "elapsed": 73,
     "status": "ok",
     "timestamp": 1752070146240,
     "user": {
      "displayName": "Jorge Sanz",
      "userId": "09161710353453699946"
     },
     "user_tz": -120
    },
    "id": "0369115c-7e8d-4bd0-a0d2-0348c7d3746a"
   },
   "outputs": [],
   "source": [
    "import requests\n",
    "import json\n",
    "from functools import partial\n",
    "\n",
    "session = requests.Session()\n",
    "kibana_headers = {\n",
    "    \"kbn-xsrf\": \"true\",\n",
    "    \"Content-Type\": \"application/json\",\n",
    "    \"Authorization\": f\"ApiKey {ES_APIKEY}\"\n",
    "    }\n",
    "\n",
    "# Helper functions to just pass API paths and data\n",
    "def kib_get(path):\n",
    "    return session.get(f\"{KB_URL}{path}\", headers=kibana_headers)\n",
    "def kib_put(path, data):\n",
    "    return session.put(f\"{KB_URL}{path}\",\n",
    "                       headers=kibana_headers,\n",
    "                       data=json.dumps(data))\n",
    "def kib_post(path, data):\n",
    "    return session.post(f\"{KB_URL}{path}\",\n",
    "                        headers=kibana_headers,\n",
    "                        data=json.dumps(data))"
   ]
  },
  {
   "cell_type": "code",
   "execution_count": 15,
   "id": "e6444281-309a-482f-af10-955a016531c5",
   "metadata": {
    "colab": {
     "base_uri": "https://localhost:8080/"
    },
    "executionInfo": {
     "elapsed": 179,
     "status": "ok",
     "timestamp": 1752070149507,
     "user": {
      "displayName": "Jorge Sanz",
      "userId": "09161710353453699946"
     },
     "user_tz": -120
    },
    "id": "e6444281-309a-482f-af10-955a016531c5",
    "outputId": "58ec9930-4c10-4ab3-9416-5694aa4148b3"
   },
   "outputs": [
    {
     "name": "stdout",
     "output_type": "stream",
     "text": [
      "Kibana URL: https://foss4geurope.kb.us-central1.gcp.cloud.es.io\n",
      "{\n",
      "  \"level\": \"available\",\n",
      "  \"summary\": \"All services and plugins are available\"\n",
      "}\n"
     ]
    }
   ],
   "source": [
    "# Check the status\n",
    "print(f\"Kibana URL: {KB_URL}\")\n",
    "k_status = kib_get(\"/api/status\").json()\n",
    "if 'status' in k_status:\n",
    "    print(json.dumps(k_status['status']['overall'], indent=2))\n",
    "else:\n",
    "    print(\"Kibana is not available\")"
   ]
  },
  {
   "cell_type": "code",
   "execution_count": 16,
   "id": "2cf6eace-87f0-415c-b001-b0beb3355f2e",
   "metadata": {
    "colab": {
     "base_uri": "https://localhost:8080/"
    },
    "executionInfo": {
     "elapsed": 11,
     "status": "ok",
     "timestamp": 1752070150667,
     "user": {
      "displayName": "Jorge Sanz",
      "userId": "09161710353453699946"
     },
     "user_tz": -120
    },
    "id": "2cf6eace-87f0-415c-b001-b0beb3355f2e",
    "outputId": "b3a58323-fa1f-4c30-c0c7-a17eccb5cba7"
   },
   "outputs": [
    {
     "name": "stdout",
     "output_type": "stream",
     "text": [
      "Space is already a search type\n"
     ]
    }
   ],
   "source": [
    "# Optional: change default space to Search type (simpler UI)\n",
    "desired_solution = \"es\"\n",
    "\n",
    "# Get the default space data\n",
    "default_space = kib_get(\"/api/spaces/space/default\").json()\n",
    "\n",
    "if not is_serverless:\n",
    "    # If a solution is not defined or the desired, change it\n",
    "    solution = default_space.get(\"solution\", False)\n",
    "    if solution != desired_solution:\n",
    "        payload = {\n",
    "            \"id\": default_space[\"id\"],\n",
    "            \"name\": default_space[\"name\"],\n",
    "            \"solution\": desired_solution\n",
    "        }\n",
    "\n",
    "        # Modify the Space with the new solution\n",
    "        r_space = kib_put(\"/api/spaces/space/default\", data=payload)\n",
    "        r_space_json = r_space.json()\n",
    "        print(f\"Space is now a '{r_space_json.get('solution')}' type\")\n",
    "    else:\n",
    "        print(\"Space is already a search type\")\n",
    "else:\n",
    "    print(\"Serverless projects can't set up Spaces solutions\")"
   ]
  },
  {
   "cell_type": "markdown",
   "id": "20e1ed20-7ccd-4a9c-8658-a5386ccaf576",
   "metadata": {
    "id": "20e1ed20-7ccd-4a9c-8658-a5386ccaf576"
   },
   "source": [
    "## Upload the Overturemaps datasets"
   ]
  },
  {
   "cell_type": "code",
   "execution_count": 17,
   "id": "e0257ef9-84db-4eae-8d7d-3241d2531231",
   "metadata": {
    "colab": {
     "base_uri": "https://localhost:8080/"
    },
    "executionInfo": {
     "elapsed": 23,
     "status": "ok",
     "timestamp": 1752070152835,
     "user": {
      "displayName": "Jorge Sanz",
      "userId": "09161710353453699946"
     },
     "user_tz": -120
    },
    "id": "e0257ef9-84db-4eae-8d7d-3241d2531231",
    "outputId": "0c7c6226-d9bd-4acf-f25e-674aa20c9a10"
   },
   "outputs": [
    {
     "data": {
      "text/plain": [
       "ObjectApiResponse({'acknowledged': True})"
      ]
     },
     "execution_count": 17,
     "metadata": {},
     "output_type": "execute_result"
    }
   ],
   "source": [
    "# Define an index template for places indices\n",
    "index_shards = 1\n",
    "index_replicas = 0 if ES_URL.startswith(\"http://elasticsearch\") else 1\n",
    "\n",
    "component_template_body = {\n",
    "    \"mappings\": {\n",
    "        \"properties\": {\n",
    "            \"id\": {\"type\": \"text\"},\n",
    "            \"geometry\": {\"type\": \"geo_point\"},\n",
    "            \"version\": {\"type\": \"integer\"},\n",
    "            \"source\": {\"type\": \"keyword\"},\n",
    "            \"confidence\": {\"type\": \"float\"},\n",
    "            \"name\": {\"type\": \"text\"},\n",
    "            \"category\": {\"type\": \"keyword\"},\n",
    "            \"alt_categories\": {\"type\": \"keyword\"},\n",
    "            \"websites\": {\"type\": \"text\"},\n",
    "            \"socials\": {\"type\": \"text\"},\n",
    "            \"emails\": {\"type\": \"text\"},\n",
    "            \"phones\": {\"type\": \"text\"},\n",
    "            \"brand\": {\"type\": \"keyword\"},\n",
    "            \"addresses\": {\n",
    "                \"properties\": {\n",
    "                    \"country\": {\"type\": \"keyword\"},\n",
    "                    \"freeform\": {\"type\": \"text\"},\n",
    "                    \"locality\": {\"type\": \"keyword\"},\n",
    "                    \"postcode\": {\"type\": \"keyword\"},\n",
    "                    \"region\": {\"type\": \"keyword\"},\n",
    "                }\n",
    "            },\n",
    "            \"updated\": {\"type\": \"date\"}\n",
    "        }\n",
    "    }\n",
    "}\n",
    "\n",
    "# Self-hosted allow to set up shards and replica settings\n",
    "if not is_serverless:\n",
    "    component_template_body[\"settings\"] = {\n",
    "        \"number_of_shards\": index_shards,\n",
    "        \"number_of_replicas\": index_replicas\n",
    "    }\n",
    "\n",
    "# Create a template that automatically configures indices named as places*\n",
    "client.indices.put_index_template(\n",
    "    name=\"overturemaps-places\",\n",
    "    index_patterns=\"places-*\",\n",
    "    template=component_template_body)"
   ]
  },
  {
   "cell_type": "code",
   "execution_count": 18,
   "id": "0e253d23-b1af-4379-8054-5c88ad81e031",
   "metadata": {
    "executionInfo": {
     "elapsed": 14,
     "status": "ok",
     "timestamp": 1752070155892,
     "user": {
      "displayName": "Jorge Sanz",
      "userId": "09161710353453699946"
     },
     "user_tz": -120
    },
    "id": "0e253d23-b1af-4379-8054-5c88ad81e031"
   },
   "outputs": [],
   "source": [
    "# Generator funcion to yield documents to upload to ES\n",
    "def generate_actions(gdf):\n",
    "    for index, doc in gdf.iterrows():\n",
    "        yield {\n",
    "            \"_index\": index_name,\n",
    "            \"_id\": doc[\"id\"],\n",
    "            \"_source\": {\n",
    "                \"id\": doc[\"id\"],\n",
    "                \"geometry\": str(doc[\"geometry\"]),\n",
    "                \"version\": doc[\"version\"],\n",
    "                \"source\": [s.get(\"dataset\",None) for s in doc.get(\"sources\",[])],\n",
    "                \"name\": doc.get(\"names\").get(\"primary\", None) if \"names\" in doc else None,\n",
    "                \"category\": doc.get(\"categories\").get(\"primary\", None) if \"categories\" in doc else None,\n",
    "                \"alt_categories\": doc.get(\"categories\").get(\"alternate\", []),\n",
    "                \"brand\": doc.get(\"brand\").get(\"primary\",None) if doc.get(\"brand\", None) is not None else None,\n",
    "                \"websites\": doc.get(\"websites\",[]),\n",
    "                \"socials\": doc.get(\"socials\",[]),\n",
    "                \"emails\": doc.get(\"emails\",[]),\n",
    "                \"phones\": doc.get(\"phones\",[]),\n",
    "                \"addresses\": doc.get(\"addresses\",[]),\n",
    "                \"updated\": [s.get('update_time') for s in doc.get('sources')][0],\n",
    "                \"confidence\": [s.get('confidence') for s in doc.get('sources')][0],\n",
    "            }\n",
    "        }"
   ]
  },
  {
   "cell_type": "code",
   "execution_count": 19,
   "id": "69c2c4f9-bfdf-4b40-9d23-91c45addd8c3",
   "metadata": {
    "colab": {
     "base_uri": "https://localhost:8080/"
    },
    "executionInfo": {
     "elapsed": 10,
     "status": "ok",
     "timestamp": 1752070160682,
     "user": {
      "displayName": "Jorge Sanz",
      "userId": "09161710353453699946"
     },
     "user_tz": -120
    },
    "id": "69c2c4f9-bfdf-4b40-9d23-91c45addd8c3",
    "outputId": "8744eacb-7f1d-4fe4-99a5-895abd20931a"
   },
   "outputs": [
    {
     "name": "stdout",
     "output_type": "stream",
     "text": [
      "Start processing places-bosnia\n",
      "Index is present, skipping upload\n",
      "Start processing places-valencia\n",
      "Index is present, skipping upload\n",
      "Start processing places-belem\n",
      "Index is present, skipping upload\n",
      "CPU times: user 15.8 ms, sys: 6.11 ms, total: 21.9 ms\n",
      "Wall time: 732 ms\n"
     ]
    }
   ],
   "source": [
    "%%time\n",
    "from elasticsearch import helpers\n",
    "import time\n",
    "\n",
    "DELETE_INDEX=False\n",
    "\n",
    "# Iterate over the geodataframes to create\n",
    "# one index per parquet file\n",
    "for key, value in places.items():\n",
    "    index_name = f\"places-{key}\"\n",
    "    print(f\"Start processing {index_name}\")\n",
    "\n",
    "    # Remove the index if necessary\n",
    "    if client.indices.exists(index=index_name):\n",
    "        if DELETE_INDEX:\n",
    "            print(f\"Deleting previous index {index_name}\")\n",
    "            client.indices.delete(index=index_name)\n",
    "        else:\n",
    "            print(\"Index is present, skipping upload\")\n",
    "\n",
    "    if not client.indices.exists(index=index_name):\n",
    "        # Create the index with the correct mappings and properties\n",
    "        client.indices.create(index=index_name)\n",
    "\n",
    "        # Perform the bulk ingestion\n",
    "        print(f\"Starting ingestion into {index_name}...\")\n",
    "        start_time = time.time()\n",
    "        success_count, errors = helpers.bulk(\n",
    "            client,\n",
    "            generate_actions(value[\"gdf\"]),\n",
    "            stats_only=True\n",
    "        )\n",
    "        end_time = time.time()\n",
    "\n",
    "        print(f\"Bulk ingestion completed in {end_time - start_time:.2f} seconds.\")\n",
    "        print(f\"Successfully indexed: {success_count} documents.\")\n",
    "        if errors:\n",
    "            print(f\"Errors encountered: {len(errors)}\")\n",
    "            # print(\"First few errors:\", errors[:5]) # Uncomment to see actual errors\n",
    "\n",
    "        # (Optional) Refresh the index to make documents searchable immediately\n",
    "        # This is usually done for testing/development. For production, rely on refresh_interval.\n",
    "        refresh = client.indices.refresh(index=index_name)\n",
    "        if refresh.get(\"_shards\",{}).get(\"successful\",0) == 1:\n",
    "            print(\"Index refresh successful\")\n",
    "\n",
    "        print(\"-----------------------------------\")"
   ]
  },
  {
   "cell_type": "code",
   "execution_count": 20,
   "id": "9611def7-14cd-46e9-8271-f3239513ff90",
   "metadata": {
    "colab": {
     "base_uri": "https://localhost:8080/"
    },
    "executionInfo": {
     "elapsed": 192,
     "status": "ok",
     "timestamp": 1752070160965,
     "user": {
      "displayName": "Jorge Sanz",
      "userId": "09161710353453699946"
     },
     "user_tz": -120
    },
    "id": "9611def7-14cd-46e9-8271-f3239513ff90",
    "outputId": "519e8140-da0a-45b0-ef8a-8397f33d5449"
   },
   "outputs": [
    {
     "name": "stdout",
     "output_type": "stream",
     "text": [
      "Data view not created\n",
      "Message: Duplicate data view: Overturemaps Places\n"
     ]
    }
   ],
   "source": [
    "# Create a Kibana data view for the places-* pattern\n",
    "payload = {\n",
    "    \"data_view\": {\n",
    "        \"name\": \"Overturemaps Places\",\n",
    "        \"title\": \"places-*\",\n",
    "        \"timeFieldName\": \"update_time\"\n",
    "  }\n",
    "}\n",
    "# Add the data view using the Kibana API\n",
    "r_dataview = kib_post(\"/api/data_views/data_view\", data=payload).json()\n",
    "\n",
    "if 'data_view' in r_dataview:\n",
    "    print(\"Data view created!\")\n",
    "else:\n",
    "    print(\"Data view not created\")\n",
    "    print(f\"Message: {r_dataview['message']}\")"
   ]
  },
  {
   "cell_type": "code",
   "execution_count": 21,
   "id": "df85fbc2-878b-4ddd-bc3e-db65af2f09f0",
   "metadata": {
    "colab": {
     "base_uri": "https://localhost:8080/"
    },
    "executionInfo": {
     "elapsed": 56,
     "status": "ok",
     "timestamp": 1752070163488,
     "user": {
      "displayName": "Jorge Sanz",
      "userId": "09161710353453699946"
     },
     "user_tz": -120
    },
    "id": "df85fbc2-878b-4ddd-bc3e-db65af2f09f0",
    "outputId": "698a8033-3c07-447e-87f1-050f574ce8bc"
   },
   "outputs": [
    {
     "name": "stdout",
     "output_type": "stream",
     "text": [
      "Verifying document count in all places indices':\n",
      "Documents places-*: 230573\n",
      "\n",
      "Searching for documents in places-* with names...\n",
      "[places-belem] Depyl Action [hair_removal]\n",
      "[places-belem] Salão Atrevida [beauty_salon]\n",
      "[places-belem] Clínica Carolini Carneiro Estética & Neopilates [beauty_salon]\n",
      "[places-belem] Edificio Ipê [landmark_and_historical_building]\n",
      "[places-belem] Bar e Restaurante Parrilha [bar]\n",
      "[places-belem] Condomínio do Edifício Ipê Matriz [landmark_and_historical_building]\n",
      "[places-belem] papamassado [automotive_repair]\n",
      "[places-belem] Edifício Francisca Julia [landmark_and_historical_building]\n",
      "[places-belem] Elas no Civil [lawyer]\n",
      "[places-belem] Salão SR Fashion [beauty_salon]\n"
     ]
    }
   ],
   "source": [
    "# Verify ingestion by searching in places-*\n",
    "print(\"Verifying document count in all places indices':\")\n",
    "try:\n",
    "    count_response = client.count(index=\"places-*\")\n",
    "    print(f\"Documents places-*: {count_response['count']}\")\n",
    "except Exception as e:\n",
    "    print(f\"Error verifying documents: {e}\")\n",
    "\n",
    "\n",
    "print(\"\\nSearching for documents in places-* with names...\")\n",
    "try:\n",
    "    response = client.search(\n",
    "        index=\"places-*\",\n",
    "        query={\"bool\": {\"filter\": {\"exists\": {\"field\": \"name\"}}}},\n",
    "        size=10\n",
    "    )\n",
    "\n",
    "    # Process the search results\n",
    "    if response['hits']['total']['value'] > 0:\n",
    "        for hit in response['hits']['hits']:\n",
    "            print(f\"[{hit['_index']}] {hit['_source']['name']} [{hit['_source']['category']}]\")\n",
    "    else:\n",
    "        print(\"No documents found in the index.\")\n",
    "\n",
    "except Exception as e:\n",
    "    print(f\"Error during search: {e}\")"
   ]
  },
  {
   "cell_type": "markdown",
   "id": "cda4460b-43cc-4603-a7dd-a7781032a62e",
   "metadata": {
    "id": "cda4460b-43cc-4603-a7dd-a7781032a62e"
   },
   "source": [
    "## Download and ingest Countries data"
   ]
  },
  {
   "cell_type": "code",
   "execution_count": 22,
   "id": "466036e1-8354-48aa-b4a1-11ebc7d20483",
   "metadata": {
    "colab": {
     "base_uri": "https://localhost:8080/"
    },
    "executionInfo": {
     "elapsed": 7,
     "status": "ok",
     "timestamp": 1752070167434,
     "user": {
      "displayName": "Jorge Sanz",
      "userId": "09161710353453699946"
     },
     "user_tz": -120
    },
    "id": "466036e1-8354-48aa-b4a1-11ebc7d20483",
    "outputId": "94410685-48b4-4eca-fa55-ab91fd7d9139"
   },
   "outputs": [
    {
     "name": "stdout",
     "output_type": "stream",
     "text": [
      "data/ne_10m_admin_0_countries.shp ready to use\n"
     ]
    }
   ],
   "source": [
    "# Download and uncompress the NaturalEarth countries dataset\n",
    "from io import BytesIO\n",
    "import zipfile\n",
    "\n",
    "ne_countries_shp = \"data/ne_10m_admin_0_countries.shp\"\n",
    "\n",
    "try:\n",
    "    if not os.path.exists(ne_countries_shp):\n",
    "        url = \"https://naciscdn.org/naturalearth/10m/cultural/ne_10m_admin_0_countries.zip\"\n",
    "        extract_to = \"data/\"\n",
    "        print(f\"Downloading zip file from: {url}\")\n",
    "        response = requests.get(url, stream=True)\n",
    "        response.raise_for_status()  # Raise an exception for bad status codes (4xx or 5xx)\n",
    "\n",
    "        # Create a BytesIO object from the response content\n",
    "        zip_file_in_memory = BytesIO(response.content)\n",
    "\n",
    "        print(f\"Extracting contents to: {os.path.abspath(extract_to)}\")\n",
    "        # Create the extraction directory if it doesn't exist\n",
    "        os.makedirs(extract_to, exist_ok=True)\n",
    "\n",
    "        with zipfile.ZipFile(zip_file_in_memory, 'r') as zf:\n",
    "            zf.extractall(extract_to)\n",
    "        print(\"Zip file successfully downloaded and uncompressed.\")\n",
    "    else:\n",
    "        print(\"data/ne_10m_admin_0_countries.shp ready to use\")\n",
    "except requests.exceptions.RequestException as e:\n",
    "    print(f\"Error downloading the file: {e}\")\n",
    "except zipfile.BadZipFile:\n",
    "    print(\"Error: The downloaded file is not a valid zip file.\")\n",
    "except Exception as e:\n",
    "    print(f\"An unexpected error occurred: {e}\")\n"
   ]
  },
  {
   "cell_type": "code",
   "execution_count": 23,
   "id": "aed9df7c-8353-405b-989b-9ec28200c0f6",
   "metadata": {
    "executionInfo": {
     "elapsed": 812,
     "status": "ok",
     "timestamp": 1752070169899,
     "user": {
      "displayName": "Jorge Sanz",
      "userId": "09161710353453699946"
     },
     "user_tz": -120
    },
    "id": "aed9df7c-8353-405b-989b-9ec28200c0f6"
   },
   "outputs": [],
   "source": [
    "gdf = gpd.GeoDataFrame.from_file(ne_countries_shp)\n",
    "\n",
    "# Simplify the geometries before uploading\n",
    "gdf['geometry'] = gdf['geometry'].simplify(0.0001, preserve_topology=True)"
   ]
  },
  {
   "cell_type": "code",
   "execution_count": 24,
   "id": "1ea48bb8-7dea-4074-8ef3-56206448c951",
   "metadata": {
    "colab": {
     "base_uri": "https://localhost:8080/"
    },
    "executionInfo": {
     "elapsed": 308,
     "status": "ok",
     "timestamp": 1752070940143,
     "user": {
      "displayName": "Jorge Sanz",
      "userId": "09161710353453699946"
     },
     "user_tz": -120
    },
    "id": "1ea48bb8-7dea-4074-8ef3-56206448c951",
    "outputId": "0db346b9-85e7-4e1a-8490-3e53f7aa89cd"
   },
   "outputs": [
    {
     "data": {
      "text/plain": [
       "ObjectApiResponse({'acknowledged': True})"
      ]
     },
     "execution_count": 24,
     "metadata": {},
     "output_type": "execute_result"
    }
   ],
   "source": [
    "# Select the columns to ingest as field mappings\n",
    "component_template_body = {\n",
    "    \"mappings\": {\n",
    "        \"properties\": {\n",
    "            \"id\": {\"type\": \"text\"},\n",
    "            \"geometry\": {\"type\": \"geo_shape\"},\n",
    "            \"type\": {\"type\": \"keyword\"},\n",
    "            \"name\": {\"type\": \"text\"},\n",
    "            \"iso_a2\": {\"type\": \"keyword\"},\n",
    "            \"iso_a3\": {\"type\": \"keyword\"},\n",
    "            \"continent\": {\"type\": \"keyword\"},\n",
    "            \"region_un\": {\"type\": \"keyword\"},\n",
    "            \"subregion\": {\"type\": \"keyword\"},\n",
    "            \"economy\": {\"type\": \"keyword\"},\n",
    "            \"income_grp\": {\"type\": \"keyword\"},\n",
    "            \"pop_est\": {\"type\": \"integer\"},\n",
    "            \"gdp_md\": {\"type\": \"integer\"},\n",
    "        }\n",
    "    }\n",
    "}\n",
    "\n",
    "# Self-hosted allow to set up shards and replica settings\n",
    "if not is_serverless:\n",
    "    component_template_body[\"settings\"] = {\n",
    "        \"number_of_shards\": 1,\n",
    "        \"number_of_replicas\": 0,\n",
    "        \"index.mode\": \"lookup\"\n",
    "    }\n",
    "\n",
    "# Create a template that automatically configures indices named as places*\n",
    "client.indices.put_index_template(\n",
    "    name=\"overturemaps-places\",\n",
    "    index_patterns=\"ne_countries\",\n",
    "    template=component_template_body)"
   ]
  },
  {
   "cell_type": "code",
   "execution_count": 25,
   "id": "27cf1d8e-7e05-484b-b997-ffb555896adb",
   "metadata": {
    "executionInfo": {
     "elapsed": 15,
     "status": "ok",
     "timestamp": 1752070944201,
     "user": {
      "displayName": "Jorge Sanz",
      "userId": "09161710353453699946"
     },
     "user_tz": -120
    },
    "id": "27cf1d8e-7e05-484b-b997-ffb555896adb"
   },
   "outputs": [],
   "source": [
    "# Generator funcion to yield documents to upload to ES\n",
    "def generate_actions(gdf):\n",
    "    for index, doc in gdf.iterrows():\n",
    "        yield {\n",
    "            \"_index\": index_name,\n",
    "            \"_source\": {\n",
    "                \"id\": doc[\"WOE_ID_EH\"],\n",
    "                \"geometry\": str(doc[\"geometry\"]),\n",
    "                \"type\": doc[\"TYPE\"],\n",
    "                \"name\": doc[\"NAME\"],\n",
    "                \"iso_a2\": doc[\"ISO_A2_EH\"],\n",
    "                \"iso_a3\": doc[\"ISO_A3_EH\"],\n",
    "                \"continent\": doc[\"CONTINENT\"],\n",
    "                \"region_un\": doc[\"REGION_UN\"],\n",
    "                \"subregion\": doc[\"SUBREGION\"],\n",
    "                \"economy\": doc[\"ECONOMY\"],\n",
    "                \"income_grp\": doc[\"INCOME_GRP\"],\n",
    "                \"pop_est\": doc[\"POP_EST\"],\n",
    "                \"gdp_md\": doc[\"GDP_MD\"],\n",
    "            }\n",
    "        }"
   ]
  },
  {
   "cell_type": "code",
   "execution_count": null,
   "id": "ee2bfaac-a0df-43c7-a13c-45842c291d04",
   "metadata": {
    "colab": {
     "base_uri": "https://localhost:8080/"
    },
    "executionInfo": {
     "elapsed": 5554,
     "status": "ok",
     "timestamp": 1752070951363,
     "user": {
      "displayName": "Jorge Sanz",
      "userId": "09161710353453699946"
     },
     "user_tz": -120
    },
    "id": "ee2bfaac-a0df-43c7-a13c-45842c291d04",
    "outputId": "b70997bd-fad4-47bf-e216-954765c061a3"
   },
   "outputs": [
    {
     "name": "stdout",
     "output_type": "stream",
     "text": [
      "Start processing ne_countries\n",
      "Deleting previous index ne_countries\n",
      "Starting ingestion into ne_countries...\n",
      "Bulk ingestion completed in 8.23 seconds.\n",
      "Successfully indexed: 257 documents.\n",
      "1\n",
      "Index refresh successful\n",
      "-----------------------------------\n",
      "CPU times: user 220 ms, sys: 27.8 ms, total: 248 ms\n",
      "Wall time: 9 s\n"
     ]
    }
   ],
   "source": [
    "%%time\n",
    "from elasticsearch import helpers\n",
    "import time\n",
    "\n",
    "DELETE_INDEX=False\n",
    "\n",
    "index_name = \"ne_countries\"\n",
    "print(f\"Start processing {index_name}\")\n",
    "\n",
    "# Remove the index if necessary\n",
    "if client.indices.exists(index=index_name):\n",
    "    if DELETE_INDEX:\n",
    "        print(f\"Deleting previous index {index_name}\")\n",
    "        client.indices.delete(index=index_name)\n",
    "    else:\n",
    "        print(\"Index is present, skipping upload\")\n",
    "\n",
    "if not client.indices.exists(index=index_name):\n",
    "    # Create the index with the correct mappings and properties\n",
    "    client.indices.create(index=index_name)\n",
    "\n",
    "    # Perform the bulk ingestion\n",
    "    print(f\"Starting ingestion into {index_name}...\")\n",
    "    start_time = time.time()\n",
    "    success_count, errors = helpers.bulk(\n",
    "        client,\n",
    "        generate_actions(gdf),\n",
    "        stats_only=True,\n",
    "        chunk_size=50,\n",
    "        raise_on_error=False\n",
    "    )\n",
    "    end_time = time.time()\n",
    "\n",
    "    print(f\"Bulk ingestion completed in {end_time - start_time:.2f} seconds.\")\n",
    "    print(f\"Successfully indexed: {success_count} documents.\")\n",
    "    if errors:\n",
    "        print(errors)\n",
    "        # print(f\"Errors encountered: {len(errors)}\")\n",
    "        # print(\"First few errors:\", errors[:5]) # Uncomment to see actual errors\n",
    "\n",
    "    # (Optional) Refresh the index to make documents searchable immediately\n",
    "    # This is usually done for testing/development. For production, rely on refresh_interval.\n",
    "    refresh = client.indices.refresh(index=index_name)\n",
    "    if refresh.get(\"_shards\",{}).get(\"successful\",0) == 1:\n",
    "        print(\"Index refresh successful\")\n",
    "\n",
    "    print(\"-----------------------------------\")"
   ]
  },
  {
   "cell_type": "code",
   "execution_count": 27,
   "id": "03ae5ee6-e178-4c7e-a036-826971749c81",
   "metadata": {
    "colab": {
     "base_uri": "https://localhost:8080/"
    },
    "executionInfo": {
     "elapsed": 2187,
     "status": "ok",
     "timestamp": 1752070200721,
     "user": {
      "displayName": "Jorge Sanz",
      "userId": "09161710353453699946"
     },
     "user_tz": -120
    },
    "id": "03ae5ee6-e178-4c7e-a036-826971749c81",
    "outputId": "9aa5d892-ccea-4a13-dd44-0dae217e65ec"
   },
   "outputs": [
    {
     "name": "stdout",
     "output_type": "stream",
     "text": [
      "Data view not created\n",
      "Message: Duplicate data view: NaturalEarth Countries\n"
     ]
    }
   ],
   "source": [
    "# Create a Kibana data view for the places-* pattern\n",
    "payload = {\n",
    "    \"data_view\": {\n",
    "        \"name\": \"NaturalEarth Countries\",\n",
    "        \"title\": index_name\n",
    "  }\n",
    "}\n",
    "# Add the data view using the Kibana API\n",
    "r_dataview = kib_post(\"/api/data_views/data_view\", data=payload).json()\n",
    "\n",
    "if 'data_view' in r_dataview:\n",
    "    print(\"Data view created!\")\n",
    "else:\n",
    "    print(\"Data view not created\")\n",
    "    print(f\"Message: {r_dataview['message']}\")"
   ]
  },
  {
   "cell_type": "code",
   "execution_count": 28,
   "id": "8639de70-1708-4aac-94e2-d26400f2f468",
   "metadata": {
    "colab": {
     "base_uri": "https://localhost:8080/"
    },
    "executionInfo": {
     "elapsed": 66,
     "status": "ok",
     "timestamp": 1752070201665,
     "user": {
      "displayName": "Jorge Sanz",
      "userId": "09161710353453699946"
     },
     "user_tz": -120
    },
    "id": "8639de70-1708-4aac-94e2-d26400f2f468",
    "outputId": "fadb57ba-1ae4-4adb-8281-1f76d1bbca0c"
   },
   "outputs": [
    {
     "name": "stdout",
     "output_type": "stream",
     "text": [
      "\n",
      "Verifying document count:\n",
      "Documents places-*: 257\n",
      "\n",
      "Searching for countries of type Lease...\n",
      "[ne_countries] USNB Guantanamo Bay [USNB Guantanamo Bay]\n",
      "[ne_countries] Baikonur [Baikonur]\n"
     ]
    }
   ],
   "source": [
    "# Verify ingestion by searching in places-*\n",
    "print(f\"\\nVerifying document count:\")\n",
    "try:\n",
    "    count_response = client.count(index=index_name)\n",
    "    print(f\"Documents places-*: {count_response['count']}\")\n",
    "except Exception as e:\n",
    "    print(f\"Error verifying documents: {e}\")\n",
    "\n",
    "\n",
    "print(f\"\\nSearching for countries of type Lease...\")\n",
    "try:\n",
    "    response = client.search(\n",
    "        index=index_name,\n",
    "        query={\"term\":{\"type\":{\"value\": \"Lease\"}}},\n",
    "        size=10\n",
    "    )\n",
    "\n",
    "    # Process the search results\n",
    "    if response['hits']['total']['value'] > 0:\n",
    "        for hit in response['hits']['hits']:\n",
    "            print(f\"[{hit['_index']}] {hit['_source']['name']} [{hit['_source']['name']}]\")\n",
    "    else:\n",
    "        print(\"No documents found in the index.\")\n",
    "\n",
    "except Exception as e:\n",
    "    print(f\"Error during search: {e}\")"
   ]
  },
  {
   "cell_type": "markdown",
   "id": "HM0rRhDexLRE",
   "metadata": {
    "id": "HM0rRhDexLRE"
   },
   "source": [
    "## Checking for a missing document\n",
    "\n",
    "We indexed `257` document but our Natural Earth dataset has `258` document. What is missing? Why?"
   ]
  },
  {
   "cell_type": "code",
   "execution_count": 30,
   "id": "0q4cLXELxfhc",
   "metadata": {
    "colab": {
     "base_uri": "https://localhost:8080/"
    },
    "executionInfo": {
     "elapsed": 16,
     "status": "ok",
     "timestamp": 1752070207339,
     "user": {
      "displayName": "Jorge Sanz",
      "userId": "09161710353453699946"
     },
     "user_tz": -120
    },
    "id": "0q4cLXELxfhc",
    "outputId": "a2932561-5d00-43d2-94d5-5ecf0e79afa0"
   },
   "outputs": [
    {
     "name": "stdout",
     "output_type": "stream",
     "text": [
      "There are 257 different countries in our ES index\n",
      "There are 258 different countries in the Natural Earth DataFrame\n"
     ]
    }
   ],
   "source": [
    "# Lets get the countries in our index\n",
    "es_names_docs=client.search(\n",
    "    index=index_name,\n",
    "    query={\"match_all\": {}},\n",
    "    _source_includes=False,\n",
    "    fields=[\"name\"],\n",
    "    size=1000\n",
    ")\n",
    "es_countries = set([hit['fields']['name'][0] for hit in es_names_docs[\"hits\"][\"hits\"]])\n",
    "print(f\"There are {len(es_countries)} different countries in our ES index\")\n",
    "\n",
    "\n",
    "# And a set from the \"WOE_ID_EH\" in the DataFrame\n",
    "gdf_countries = set(gdf[\"NAME\"])\n",
    "print(f\"There are {len(gdf_countries)} different countries in the Natural Earth DataFrame\")"
   ]
  },
  {
   "cell_type": "code",
   "execution_count": 31,
   "id": "JFZGSCGUx4qM",
   "metadata": {
    "colab": {
     "base_uri": "https://localhost:8080/"
    },
    "executionInfo": {
     "elapsed": 9,
     "status": "ok",
     "timestamp": 1752070209061,
     "user": {
      "displayName": "Jorge Sanz",
      "userId": "09161710353453699946"
     },
     "user_tz": -120
    },
    "id": "JFZGSCGUx4qM",
    "outputId": "a3c8e0dc-c3da-4dd9-cd89-40eaa4e8f175"
   },
   "outputs": [
    {
     "data": {
      "text/plain": [
       "{'Antarctica'}"
      ]
     },
     "execution_count": 31,
     "metadata": {},
     "output_type": "execute_result"
    }
   ],
   "source": [
    "# Let's substract the sets to get the missing country\n",
    "gdf_countries - es_countries"
   ]
  },
  {
   "cell_type": "code",
   "execution_count": 32,
   "id": "32fbe5ff-eeb2-4f56-a7f6-0e5957acf19a",
   "metadata": {
    "colab": {
     "base_uri": "https://localhost:8080/"
    },
    "executionInfo": {
     "elapsed": 420,
     "status": "ok",
     "timestamp": 1752070210870,
     "user": {
      "displayName": "Jorge Sanz",
      "userId": "09161710353453699946"
     },
     "user_tz": -120
    },
    "id": "32fbe5ff-eeb2-4f56-a7f6-0e5957acf19a",
    "outputId": "380629c1-9fd1-4d98-8f6d-80453a9365e5"
   },
   "outputs": [
    {
     "name": "stdout",
     "output_type": "stream",
     "text": [
      "{\n",
      "  \"error\": {\n",
      "    \"root_cause\": [\n",
      "      {\n",
      "        \"type\": \"document_parsing_exception\",\n",
      "        \"reason\": \"[1:13] failed to parse field [geometry] of type [geo_shape]\"\n",
      "      }\n",
      "    ],\n",
      "    \"type\": \"document_parsing_exception\",\n",
      "    \"reason\": \"[1:13] failed to parse field [geometry] of type [geo_shape]\",\n",
      "    \"caused_by\": {\n",
      "      \"type\": \"illegal_argument_exception\",\n",
      "      \"reason\": \"Polygon self-intersection at lat=-84.3517829528102 lon=-163.03271507289995\"\n",
      "    }\n",
      "  },\n",
      "  \"status\": 400\n",
      "}\n"
     ]
    }
   ],
   "source": [
    "# Antarctica was not indexed in our bulk process, let's try to index it manually\n",
    "from elasticsearch.exceptions import BadRequestError\n",
    "\n",
    "# Get the Antarctica row\n",
    "antarctica = gdf[gdf['NAME'] == 'Antarctica'].copy()\n",
    "\n",
    "# Try the classic buffer-zero fix\n",
    "antarctica[\"geometry\"] = antarctica[\"geometry\"].buffer(0)\n",
    "doc = antarctica.iloc[0]\n",
    "\n",
    "# Try to manually index that geometry\n",
    "try:\n",
    "    client.index(\n",
    "        index=\"ne_countries\",\n",
    "        document={\"geometry\": str(doc[\"geometry\"]),\"name\": doc[\"NAME\"]}\n",
    "    )\n",
    "except BadRequestError as e:\n",
    "    print(json.dumps(e.info, indent=2))"
   ]
  },
  {
   "cell_type": "code",
   "execution_count": null,
   "id": "44fDqqbHhcKX",
   "metadata": {
    "id": "44fDqqbHhcKX"
   },
   "outputs": [],
   "source": []
  }
 ],
 "metadata": {
  "colab": {
   "provenance": [
    {
     "file_id": "1A2HZX7N3OHg4OoGgNzeRRYlij_qftX9G",
     "timestamp": 1752055447921
    }
   ]
  },
  "kernelspec": {
   "display_name": ".venv",
   "language": "python",
   "name": "python3"
  },
  "language_info": {
   "codemirror_mode": {
    "name": "ipython",
    "version": 3
   },
   "file_extension": ".py",
   "mimetype": "text/x-python",
   "name": "python",
   "nbconvert_exporter": "python",
   "pygments_lexer": "ipython3",
   "version": "3.12.10"
  }
 },
 "nbformat": 4,
 "nbformat_minor": 5
}
