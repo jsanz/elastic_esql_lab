{
  "cells": [
    {
      "cell_type": "markdown",
      "metadata": {
        "id": "view-in-github",
        "colab_type": "text"
      },
      "source": [
        "<a href=\"https://colab.research.google.com/github/jsanz/elastic_esql_lab/blob/main/01-download_and_ingest.ipynb\" target=\"_parent\"><img src=\"https://colab.research.google.com/assets/colab-badge.svg\" alt=\"Open In Colab\"/></a>"
      ]
    },
    {
      "cell_type": "markdown",
      "id": "0a51e27c-374b-4f35-812e-5d086cdd3fcc",
      "metadata": {
        "id": "0a51e27c-374b-4f35-812e-5d086cdd3fcc"
      },
      "source": [
        "# Prepare data"
      ]
    },
    {
      "cell_type": "markdown",
      "id": "8ed42302",
      "metadata": {
        "id": "8ed42302"
      },
      "source": [
        "Run this notebook in Google Colaboratory if your Elastic Stack is available from the internet. Otherwise, download the notebook and run it from your computer.\n",
        "\n",
        "https://colab.research.google.com/github/jsanz/foss4g_europe_lab/blob/main/01-download_and_ingest.ipynb"
      ]
    },
    {
      "cell_type": "code",
      "execution_count": 1,
      "id": "c1d23ca3-0851-413b-90e1-dc2a6e26dc8d",
      "metadata": {
        "colab": {
          "base_uri": "https://localhost:8080/"
        },
        "id": "c1d23ca3-0851-413b-90e1-dc2a6e26dc8d",
        "outputId": "a98fd412-d4e8-4c6f-be10-c8cb83bc7e90"
      },
      "outputs": [
        {
          "output_type": "stream",
          "name": "stdout",
          "text": [
            "\u001b[2K   \u001b[90m━━━━━━━━━━━━━━━━━━━━━━━━━━━━━━━━━━━━━━━━\u001b[0m \u001b[32m929.5/929.5 kB\u001b[0m \u001b[31m19.1 MB/s\u001b[0m eta \u001b[36m0:00:00\u001b[0m\n",
            "\u001b[2K   \u001b[90m━━━━━━━━━━━━━━━━━━━━━━━━━━━━━━━━━━━━━━━━\u001b[0m \u001b[32m8.7/8.7 MB\u001b[0m \u001b[31m85.6 MB/s\u001b[0m eta \u001b[36m0:00:00\u001b[0m\n",
            "\u001b[2K   \u001b[90m━━━━━━━━━━━━━━━━━━━━━━━━━━━━━━━━━━━━━━━━\u001b[0m \u001b[32m65.1/65.1 kB\u001b[0m \u001b[31m3.8 MB/s\u001b[0m eta \u001b[36m0:00:00\u001b[0m\n",
            "\u001b[?25h"
          ]
        }
      ],
      "source": [
        "# Install the dependencies for this lab\n",
        "!pip install -qU elasticsearch overturemaps geopandas matplotlib\n",
        "\n",
        "# Data dir\n",
        "WORK_DIR=\"./data\""
      ]
    },
    {
      "cell_type": "markdown",
      "id": "1fca5486-1d96-4b27-b90e-753ee7b363d3",
      "metadata": {
        "id": "1fca5486-1d96-4b27-b90e-753ee7b363d3"
      },
      "source": [
        "## Connect to the Elastic stack"
      ]
    },
    {
      "cell_type": "markdown",
      "id": "6121cdc3-6587-4a88-9d15-63c91302ff6c",
      "metadata": {
        "id": "6121cdc3-6587-4a88-9d15-63c91302ff6c"
      },
      "source": [
        "### Connect to Elasticsearch"
      ]
    },
    {
      "cell_type": "markdown",
      "id": "mXCfulGBqUIZ",
      "metadata": {
        "id": "mXCfulGBqUIZ"
      },
      "source": [
        "If running in Google Colab, get the Elastic cluster credentials from the session **Secrets**. Otherwise update the cell to use `os.getenv` to get details from environment variables, for example."
      ]
    },
    {
      "cell_type": "code",
      "execution_count": 2,
      "id": "9760861d-f9cf-4934-a499-7d5a1562656d",
      "metadata": {
        "id": "9760861d-f9cf-4934-a499-7d5a1562656d"
      },
      "outputs": [],
      "source": [
        "try:\n",
        "    from google.colab import userdata\n",
        "    from elasticsearch import Elasticsearch\n",
        "    # Login details\n",
        "    ES_URL=userdata.get('es_url_siglibre')\n",
        "    KB_URL=userdata.get('kb_url_siglibre')\n",
        "    ES_APIKEY=userdata.get('apikey_siglibre')\n",
        "except ImportError:\n",
        "    import os\n",
        "    if os.environ.get('ES_URL') and os.environ.get('KB_URL'):\n",
        "        # Local development\n",
        "        ES_URL = os.environ.get('ES_URL', 'http://localhost:9200')\n",
        "        KB_URL = os.environ.get('KB_URL', 'http://localhost:8000')\n",
        "        ES_APIKEY = os.environ.get('ES_APIKEY', None)\n",
        "    else:\n",
        "        import getpass\n",
        "        ES_URL = getpass.getpass(prompt='Enter the Elasticsearch URL: ')\n",
        "        KB_URL = getpass.getpass(prompt='Enter the Kibana URL: ')\n",
        "        ES_APIKEY = getpass.getpass(prompt='Enter the Elasticsearch API Key: ')"
      ]
    },
    {
      "cell_type": "code",
      "execution_count": 3,
      "id": "d2b1805c-0882-4a4a-81c3-b2e752eb22aa",
      "metadata": {
        "colab": {
          "base_uri": "https://localhost:8080/"
        },
        "id": "d2b1805c-0882-4a4a-81c3-b2e752eb22aa",
        "outputId": "520ed74c-0efd-4a53-9949-97e83c224e27"
      },
      "outputs": [
        {
          "output_type": "stream",
          "name": "stdout",
          "text": [
            "Connected to https://siglibre2025.es.us-central1.gcp.cloud.es.io\n",
            "Elasticsearch URL: https://siglibre2025.es.us-central1.gcp.cloud.es.io\n",
            "Cluster name: instance-0000000004\n",
            "Version: 9.1.3\n",
            "License is active and on **enterprise** until **2028-02-29T23:59:59.999Z**\n"
          ]
        }
      ],
      "source": [
        "from elasticsearch import Elasticsearch\n",
        "\n",
        "# Create the Elasticsearch lient and print some cluster details\n",
        "client = Elasticsearch(hosts=[ES_URL], api_key=ES_APIKEY)\n",
        "\n",
        "if client.ping():\n",
        "  print(f\"Connected to {ES_URL}\")\n",
        "  c_info = client.info()\n",
        "  c_license = client.license.get()['license']\n",
        "  is_serverless = c_info['version']['build_flavor'] == 'serverless'\n",
        "\n",
        "  print(f\"Elasticsearch URL: {ES_URL}\")\n",
        "  print(f\"Cluster name: {c_info['name']}\")\n",
        "  print(f\"Version: {c_info['version']['number'] if not is_serverless else 'serverless'}\")\n",
        "  print(f\"License is {c_license.get('status')} and on **{c_license.get('type')}** until **{c_license.get('expiry_date', 'N/A')}**\")\n",
        "else:\n",
        "  print(\"Connection failed\")"
      ]
    },
    {
      "cell_type": "markdown",
      "id": "04121822-7943-46ab-9785-5cb522a00d73",
      "metadata": {
        "id": "04121822-7943-46ab-9785-5cb522a00d73"
      },
      "source": [
        "### Connect to Kibana"
      ]
    },
    {
      "cell_type": "code",
      "execution_count": 5,
      "id": "0369115c-7e8d-4bd0-a0d2-0348c7d3746a",
      "metadata": {
        "id": "0369115c-7e8d-4bd0-a0d2-0348c7d3746a"
      },
      "outputs": [],
      "source": [
        "import requests\n",
        "import json\n",
        "from functools import partial\n",
        "\n",
        "session = requests.Session()\n",
        "kibana_headers = {\n",
        "    \"kbn-xsrf\": \"true\",\n",
        "    \"Content-Type\": \"application/json\",\n",
        "    \"Authorization\": f\"ApiKey {ES_APIKEY}\"\n",
        "    }\n",
        "\n",
        "# Helper functions to just pass API paths and data\n",
        "def kib_get(path):\n",
        "    return session.get(f\"{KB_URL}{path}\", headers=kibana_headers)\n",
        "def kib_put(path, data):\n",
        "    return session.put(f\"{KB_URL}{path}\",\n",
        "                       headers=kibana_headers,\n",
        "                       data=json.dumps(data))\n",
        "def kib_post(path, data):\n",
        "    return session.post(f\"{KB_URL}{path}\",\n",
        "                        headers=kibana_headers,\n",
        "                        data=json.dumps(data))"
      ]
    },
    {
      "cell_type": "code",
      "execution_count": 6,
      "id": "e6444281-309a-482f-af10-955a016531c5",
      "metadata": {
        "colab": {
          "base_uri": "https://localhost:8080/"
        },
        "id": "e6444281-309a-482f-af10-955a016531c5",
        "outputId": "8bb75afa-f92f-4509-ba44-c9df7c0c606c"
      },
      "outputs": [
        {
          "output_type": "stream",
          "name": "stdout",
          "text": [
            "Kibana URL: https://siglibre2025.kb.us-central1.gcp.cloud.es.io\n",
            "{\n",
            "  \"level\": \"available\",\n",
            "  \"summary\": \"All services and plugins are available\"\n",
            "}\n"
          ]
        }
      ],
      "source": [
        "# Check the status\n",
        "print(f\"Kibana URL: {KB_URL}\")\n",
        "k_status = kib_get(\"/api/status\").json()\n",
        "if 'status' in k_status:\n",
        "    print(json.dumps(k_status['status']['overall'], indent=2))\n",
        "else:\n",
        "    print(\"Kibana is not available\")"
      ]
    },
    {
      "cell_type": "code",
      "execution_count": 7,
      "id": "2cf6eace-87f0-415c-b001-b0beb3355f2e",
      "metadata": {
        "colab": {
          "base_uri": "https://localhost:8080/"
        },
        "id": "2cf6eace-87f0-415c-b001-b0beb3355f2e",
        "outputId": "0136347c-8018-4d0d-d2a9-bb4503076f3a"
      },
      "outputs": [
        {
          "output_type": "stream",
          "name": "stdout",
          "text": [
            "Space is already a search type\n"
          ]
        }
      ],
      "source": [
        "# Optional: change default space to Search type (simpler UI)\n",
        "desired_solution = \"es\"\n",
        "\n",
        "# Get the default space data\n",
        "default_space = kib_get(\"/api/spaces/space/default\").json()\n",
        "\n",
        "if not is_serverless:\n",
        "    # If a solution is not defined or the desired, change it\n",
        "    solution = default_space.get(\"solution\", False)\n",
        "    if solution != desired_solution:\n",
        "        payload = {\n",
        "            \"id\": default_space[\"id\"],\n",
        "            \"name\": default_space[\"name\"],\n",
        "            \"solution\": desired_solution\n",
        "        }\n",
        "\n",
        "        # Modify the Space with the new solution\n",
        "        r_space = kib_put(\"/api/spaces/space/default\", data=payload)\n",
        "        r_space_json = r_space.json()\n",
        "        print(f\"Space is now a '{r_space_json.get('solution')}' type\")\n",
        "    else:\n",
        "        print(\"Space is already a search type\")\n",
        "else:\n",
        "    print(\"Serverless projects can't set up Spaces solutions\")"
      ]
    },
    {
      "cell_type": "markdown",
      "id": "751eeb7e-3afd-4ac8-b751-28c95252e97f",
      "metadata": {
        "id": "751eeb7e-3afd-4ac8-b751-28c95252e97f",
        "jp-MarkdownHeadingCollapsed": true
      },
      "source": [
        "## Overturemaps Places"
      ]
    },
    {
      "cell_type": "markdown",
      "id": "e48bde4a-5994-4391-90ee-a8da11d6a0b4",
      "metadata": {
        "id": "e48bde4a-5994-4391-90ee-a8da11d6a0b4",
        "jp-MarkdownHeadingCollapsed": true
      },
      "source": [
        "### Download the data"
      ]
    },
    {
      "cell_type": "markdown",
      "id": "0X_CKA7-GeKY",
      "metadata": {
        "id": "0X_CKA7-GeKY"
      },
      "source": [
        "Get Overturemaps Foundation Points of Interest (`places` dataset) using thir python library.\n",
        "\n",
        "[Library](https://github.com/OvertureMaps/overturemaps-py/tree/main) | [Documentation](https://docs.overturemaps.org/guides/places/)  | [Reference](https://docs.overturemaps.org/schema/reference/places/place/)"
      ]
    },
    {
      "cell_type": "code",
      "execution_count": null,
      "id": "cbd7e26a-8060-4b4e-8cd2-44e396ecafff",
      "metadata": {
        "colab": {
          "base_uri": "https://localhost:8080/"
        },
        "id": "cbd7e26a-8060-4b4e-8cd2-44e396ecafff",
        "outputId": "6ea156dc-70ca-4eaa-b1f8-ceadeb2e7e1b"
      },
      "outputs": [
        {
          "output_type": "stream",
          "name": "stdout",
          "text": [
            "Downloading data for bosnia\n",
            "166644 features downloaded into ./data/places_bosnia.parquet\n",
            "Downloading data for girona\n",
            "20899 features downloaded into ./data/places_girona.parquet\n",
            "Downloading data for valencia\n",
            "36193 features downloaded into ./data/places_valencia.parquet\n",
            "CPU times: user 15.6 s, sys: 2.49 s, total: 18.1 s\n",
            "Wall time: 21 s\n"
          ]
        }
      ],
      "source": [
        "%%time\n",
        "import os\n",
        "import io\n",
        "import pandas as pd\n",
        "import geopandas as gpd\n",
        "from overturemaps import core\n",
        "\n",
        "# Get different bounding boxes from http://bboxfinder.com\n",
        "# or https://boundingbox.klokantech.com/\n",
        "places = {\n",
        "    \"bosnia\": { \"bbox\": [15.688477,41.873651,20.489502,45.278752]},\n",
        "    \"girona\": {\"bbox\": [2.3381,41.7123,3.2801,42.2483]},\n",
        "    \"valencia\": {\"bbox\": [-0.432243,39.419221,-0.296288,39.504306]}\n",
        "}\n",
        "\n",
        "# Create the data dir if not exists\n",
        "if not os.path.exists(WORK_DIR):\n",
        "    os.makedirs(WORK_DIR)\n",
        "\n",
        "for key, value in places.items():\n",
        "    places_path = os.path.join(WORK_DIR, f\"places_{key}.parquet\")\n",
        "    # Only download if file does not exist\n",
        "    if not os.path.isfile(path=places_path):\n",
        "\n",
        "        # Download places (POI) from the Overturemaps parquet release\n",
        "        # using the overture library\n",
        "        print(f\"Downloading data for {key}\")\n",
        "        gdf = core.geodataframe(\"place\",bbox=value[\"bbox\"])\n",
        "        print(f\"{len(gdf)} features downloaded into {places_path}\")\n",
        "\n",
        "        # Save the content into a file\n",
        "        gdf.to_parquet(path=places_path)\n",
        "    else:\n",
        "        print(f\"{places_path} already downloaded\")"
      ]
    },
    {
      "cell_type": "code",
      "execution_count": null,
      "id": "c22137f5-6913-4878-bf71-baf2759c083b",
      "metadata": {
        "colab": {
          "base_uri": "https://localhost:8080/"
        },
        "id": "c22137f5-6913-4878-bf71-baf2759c083b",
        "outputId": "98b4bf8d-145d-424d-f2c6-d010753a5618"
      },
      "outputs": [
        {
          "output_type": "stream",
          "name": "stdout",
          "text": [
            "166644 features loaded from ./data/places_bosnia.parquet\n",
            "20899 features loaded from ./data/places_girona.parquet\n",
            "36193 features loaded from ./data/places_valencia.parquet\n"
          ]
        }
      ],
      "source": [
        "# Get the parquet files from disk as GeoDataFrames into a list\n",
        "dataframes = []\n",
        "\n",
        "for key in places.keys():\n",
        "    places_path = os.path.join(WORK_DIR, f\"places_{key}.parquet\")\n",
        "    places[key][\"gdf\"] = gpd.read_parquet(path=places_path)\n",
        "    print(f\"{len(places[key]['gdf'])} features loaded from {places_path}\")\n"
      ]
    },
    {
      "cell_type": "code",
      "execution_count": null,
      "id": "44be0ae4-c130-47eb-94e9-e195a90ad14d",
      "metadata": {
        "colab": {
          "base_uri": "https://localhost:8080/",
          "height": 669
        },
        "id": "44be0ae4-c130-47eb-94e9-e195a90ad14d",
        "outputId": "fba429e2-6eba-4088-c5ba-c41852583743"
      },
      "outputs": [
        {
          "output_type": "execute_result",
          "data": {
            "text/plain": [
              "id                         284b4fcf-224a-438a-b665-9ca6f572d909\n",
              "geometry                          POINT (15.6921637 41.9091427)\n",
              "bbox          {'xmax': 15.69216537475586, 'xmin': 15.6921634...\n",
              "version                                                       1\n",
              "sources       [{'between': None, 'confidence': 0.98792562183...\n",
              "names         {'common': None, 'primary': 'Village Camping R...\n",
              "categories    {'alternate': ['restaurant', 'accommodation'],...\n",
              "confidence                                             0.987926\n",
              "websites                                [http://www.rancho.it/]\n",
              "socials                  [https://www.facebook.com/48506552944]\n",
              "emails                                                     None\n",
              "phones                                          [+393281871361]\n",
              "brand                                                      None\n",
              "addresses     [{'country': 'IT', 'freeform': 'Contrada Capoi...\n",
              "Name: 0, dtype: object"
            ],
            "text/html": [
              "<div>\n",
              "<style scoped>\n",
              "    .dataframe tbody tr th:only-of-type {\n",
              "        vertical-align: middle;\n",
              "    }\n",
              "\n",
              "    .dataframe tbody tr th {\n",
              "        vertical-align: top;\n",
              "    }\n",
              "\n",
              "    .dataframe thead th {\n",
              "        text-align: right;\n",
              "    }\n",
              "</style>\n",
              "<table border=\"1\" class=\"dataframe\">\n",
              "  <thead>\n",
              "    <tr style=\"text-align: right;\">\n",
              "      <th></th>\n",
              "      <th>0</th>\n",
              "    </tr>\n",
              "  </thead>\n",
              "  <tbody>\n",
              "    <tr>\n",
              "      <th>id</th>\n",
              "      <td>284b4fcf-224a-438a-b665-9ca6f572d909</td>\n",
              "    </tr>\n",
              "    <tr>\n",
              "      <th>geometry</th>\n",
              "      <td>POINT (15.6921637 41.9091427)</td>\n",
              "    </tr>\n",
              "    <tr>\n",
              "      <th>bbox</th>\n",
              "      <td>{'xmax': 15.69216537475586, 'xmin': 15.6921634...</td>\n",
              "    </tr>\n",
              "    <tr>\n",
              "      <th>version</th>\n",
              "      <td>1</td>\n",
              "    </tr>\n",
              "    <tr>\n",
              "      <th>sources</th>\n",
              "      <td>[{'between': None, 'confidence': 0.98792562183...</td>\n",
              "    </tr>\n",
              "    <tr>\n",
              "      <th>names</th>\n",
              "      <td>{'common': None, 'primary': 'Village Camping R...</td>\n",
              "    </tr>\n",
              "    <tr>\n",
              "      <th>categories</th>\n",
              "      <td>{'alternate': ['restaurant', 'accommodation'],...</td>\n",
              "    </tr>\n",
              "    <tr>\n",
              "      <th>confidence</th>\n",
              "      <td>0.987926</td>\n",
              "    </tr>\n",
              "    <tr>\n",
              "      <th>websites</th>\n",
              "      <td>[http://www.rancho.it/]</td>\n",
              "    </tr>\n",
              "    <tr>\n",
              "      <th>socials</th>\n",
              "      <td>[https://www.facebook.com/48506552944]</td>\n",
              "    </tr>\n",
              "    <tr>\n",
              "      <th>emails</th>\n",
              "      <td>None</td>\n",
              "    </tr>\n",
              "    <tr>\n",
              "      <th>phones</th>\n",
              "      <td>[+393281871361]</td>\n",
              "    </tr>\n",
              "    <tr>\n",
              "      <th>brand</th>\n",
              "      <td>None</td>\n",
              "    </tr>\n",
              "    <tr>\n",
              "      <th>addresses</th>\n",
              "      <td>[{'country': 'IT', 'freeform': 'Contrada Capoi...</td>\n",
              "    </tr>\n",
              "  </tbody>\n",
              "</table>\n",
              "</div><br><label><b>dtype:</b> object</label>"
            ]
          },
          "metadata": {},
          "execution_count": 9
        },
        {
          "output_type": "display_data",
          "data": {
            "text/plain": [
              "<Figure size 640x480 with 1 Axes>"
            ],
            "image/png": "[encoded data removed]"
          },
          "metadata": {}
        }
      ],
      "source": [
        "# See the first row and some points on a map\n",
        "gdf = list(places.items())[0][1][\"gdf\"]\n",
        "# See the first row and some points on a map\n",
        "gdf.head(200).plot()\n",
        "gdf.iloc[0]"
      ]
    },
    {
      "cell_type": "markdown",
      "id": "20e1ed20-7ccd-4a9c-8658-a5386ccaf576",
      "metadata": {
        "id": "20e1ed20-7ccd-4a9c-8658-a5386ccaf576"
      },
      "source": [
        "### Upload the Overturemaps datasets"
      ]
    },
    {
      "cell_type": "code",
      "execution_count": null,
      "id": "e0257ef9-84db-4eae-8d7d-3241d2531231",
      "metadata": {
        "colab": {
          "base_uri": "https://localhost:8080/"
        },
        "id": "e0257ef9-84db-4eae-8d7d-3241d2531231",
        "outputId": "23de1b69-eb03-461b-fbb5-88a6a642767e"
      },
      "outputs": [
        {
          "output_type": "execute_result",
          "data": {
            "text/plain": [
              "ObjectApiResponse({'acknowledged': True})"
            ]
          },
          "metadata": {},
          "execution_count": 10
        }
      ],
      "source": [
        "# Define an index template for places indices\n",
        "index_shards = 1\n",
        "index_replicas = 0 if ES_URL.startswith(\"http://elasticsearch\") else 1\n",
        "\n",
        "component_template_body = {\n",
        "    \"mappings\": {\n",
        "        \"properties\": {\n",
        "            \"id\": {\"type\": \"text\"},\n",
        "            \"geometry\": {\"type\": \"geo_point\"},\n",
        "            \"version\": {\"type\": \"integer\"},\n",
        "            \"source\": {\"type\": \"keyword\"},\n",
        "            \"confidence\": {\"type\": \"float\"},\n",
        "            \"name\": {\"type\": \"text\"},\n",
        "            \"category\": {\"type\": \"keyword\"},\n",
        "            \"alt_categories\": {\"type\": \"keyword\"},\n",
        "            \"websites\": {\"type\": \"text\"},\n",
        "            \"socials\": {\"type\": \"text\"},\n",
        "            \"emails\": {\"type\": \"text\"},\n",
        "            \"phones\": {\"type\": \"text\"},\n",
        "            \"brand\": {\"type\": \"keyword\"},\n",
        "            \"addresses\": {\n",
        "                \"properties\": {\n",
        "                    \"country\": {\"type\": \"keyword\"},\n",
        "                    \"freeform\": {\"type\": \"text\"},\n",
        "                    \"locality\": {\"type\": \"keyword\"},\n",
        "                    \"postcode\": {\"type\": \"keyword\"},\n",
        "                    \"region\": {\"type\": \"keyword\"},\n",
        "                }\n",
        "            },\n",
        "            \"updated\": {\"type\": \"date\"}\n",
        "        }\n",
        "    }\n",
        "}\n",
        "\n",
        "# Self-hosted allow to set up shards and replica settings\n",
        "if not is_serverless:\n",
        "    component_template_body[\"settings\"] = {\n",
        "        \"number_of_shards\": index_shards,\n",
        "        \"number_of_replicas\": index_replicas\n",
        "    }\n",
        "\n",
        "# Create a template that automatically configures indices named as places*\n",
        "client.indices.put_index_template(\n",
        "    name=\"overturemaps-places\",\n",
        "    index_patterns=\"places-*\",\n",
        "    template=component_template_body)"
      ]
    },
    {
      "cell_type": "code",
      "execution_count": null,
      "id": "0e253d23-b1af-4379-8054-5c88ad81e031",
      "metadata": {
        "id": "0e253d23-b1af-4379-8054-5c88ad81e031"
      },
      "outputs": [],
      "source": [
        "# Generator funcion to yield documents to upload to ES\n",
        "def generate_actions(gdf):\n",
        "    for index, doc in gdf.iterrows():\n",
        "        yield {\n",
        "            \"_index\": index_name,\n",
        "            \"_id\": doc[\"id\"],\n",
        "            \"_source\": {\n",
        "                \"id\": doc[\"id\"],\n",
        "                \"geometry\": str(doc[\"geometry\"]),\n",
        "                \"version\": doc[\"version\"],\n",
        "                \"source\": [s.get(\"dataset\",None) for s in doc.get(\"sources\",[])],\n",
        "                \"name\": doc.get(\"names\").get(\"primary\", None) if \"names\" in doc else None,\n",
        "                \"category\": doc.get(\"categories\").get(\"primary\", None) if \"categories\" in doc else None,\n",
        "                \"alt_categories\": doc.get(\"categories\").get(\"alternate\", []),\n",
        "                \"brand\": doc.get(\"brand\").get(\"primary\",None) if doc.get(\"brand\", None) is not None else None,\n",
        "                \"websites\": doc.get(\"websites\",[]),\n",
        "                \"socials\": doc.get(\"socials\",[]),\n",
        "                \"emails\": doc.get(\"emails\",[]),\n",
        "                \"phones\": doc.get(\"phones\",[]),\n",
        "                \"addresses\": doc.get(\"addresses\",[]),\n",
        "                \"updated\": [s.get('update_time') for s in doc.get('sources')][0],\n",
        "                \"confidence\": [s.get('confidence') for s in doc.get('sources')][0],\n",
        "            }\n",
        "        }"
      ]
    },
    {
      "cell_type": "code",
      "execution_count": null,
      "id": "69c2c4f9-bfdf-4b40-9d23-91c45addd8c3",
      "metadata": {
        "colab": {
          "base_uri": "https://localhost:8080/"
        },
        "id": "69c2c4f9-bfdf-4b40-9d23-91c45addd8c3",
        "outputId": "27cb8190-a01b-458a-f91f-136cad015b91"
      },
      "outputs": [
        {
          "output_type": "stream",
          "name": "stdout",
          "text": [
            "Start processing places-bosnia\n",
            "Starting ingestion into places-bosnia...\n",
            "Bulk ingestion completed in 81.15 seconds.\n",
            "Successfully indexed: 166644 documents.\n",
            "-----------------------------------\n",
            "Start processing places-girona\n",
            "Starting ingestion into places-girona...\n",
            "Bulk ingestion completed in 9.62 seconds.\n",
            "Successfully indexed: 20899 documents.\n",
            "-----------------------------------\n",
            "Start processing places-valencia\n",
            "Starting ingestion into places-valencia...\n",
            "Bulk ingestion completed in 15.96 seconds.\n",
            "Successfully indexed: 36193 documents.\n",
            "-----------------------------------\n",
            "CPU times: user 50.9 s, sys: 271 ms, total: 51.2 s\n",
            "Wall time: 1min 49s\n"
          ]
        }
      ],
      "source": [
        "%%time\n",
        "from elasticsearch import helpers\n",
        "import time\n",
        "\n",
        "DELETE_INDEX=False\n",
        "\n",
        "# Iterate over the geodataframes to create\n",
        "# one index per parquet file\n",
        "for key, value in places.items():\n",
        "    index_name = f\"places-{key}\"\n",
        "    print(f\"Start processing {index_name}\")\n",
        "\n",
        "    # Remove the index if necessary\n",
        "    if client.indices.exists(index=index_name):\n",
        "        if DELETE_INDEX:\n",
        "            print(f\"Deleting previous index {index_name}\")\n",
        "            client.indices.delete(index=index_name)\n",
        "        else:\n",
        "            print(\"Index is present, skipping upload\")\n",
        "\n",
        "    if not client.indices.exists(index=index_name):\n",
        "        # Create the index with the correct mappings and properties\n",
        "        client.indices.create(index=index_name)\n",
        "\n",
        "        # Perform the bulk ingestion\n",
        "        print(f\"Starting ingestion into {index_name}...\")\n",
        "        start_time = time.time()\n",
        "        success_count, errors = helpers.bulk(\n",
        "            client,\n",
        "            generate_actions(value[\"gdf\"]),\n",
        "            stats_only=True\n",
        "        )\n",
        "        end_time = time.time()\n",
        "\n",
        "        print(f\"Bulk ingestion completed in {end_time - start_time:.2f} seconds.\")\n",
        "        print(f\"Successfully indexed: {success_count} documents.\")\n",
        "        if errors:\n",
        "            print(f\"Errors encountered: {len(errors)}\")\n",
        "            # print(\"First few errors:\", errors[:5]) # Uncomment to see actual errors\n",
        "\n",
        "        # (Optional) Refresh the index to make documents searchable immediately\n",
        "        # This is usually done for testing/development. For production, rely on refresh_interval.\n",
        "        refresh = client.indices.refresh(index=index_name)\n",
        "        if refresh.get(\"_shards\",{}).get(\"successful\",0) == 1:\n",
        "            print(\"Index refresh successful\")\n",
        "\n",
        "        print(\"-----------------------------------\")"
      ]
    },
    {
      "cell_type": "code",
      "execution_count": null,
      "id": "9611def7-14cd-46e9-8271-f3239513ff90",
      "metadata": {
        "colab": {
          "base_uri": "https://localhost:8080/"
        },
        "id": "9611def7-14cd-46e9-8271-f3239513ff90",
        "outputId": "73a08de1-68bd-4e2d-a0e1-342e526644d6"
      },
      "outputs": [
        {
          "output_type": "stream",
          "name": "stdout",
          "text": [
            "Data view created!\n"
          ]
        }
      ],
      "source": [
        "# Create a Kibana data view for the places-* pattern\n",
        "payload = {\n",
        "    \"data_view\": {\n",
        "        \"name\": \"Overturemaps Places\",\n",
        "        \"title\": \"places-*\",\n",
        "        \"timeFieldName\": \"update_time\"\n",
        "  }\n",
        "}\n",
        "# Add the data view using the Kibana API\n",
        "r_dataview = kib_post(\"/api/data_views/data_view\", data=payload).json()\n",
        "\n",
        "if 'data_view' in r_dataview:\n",
        "    print(\"Data view created!\")\n",
        "else:\n",
        "    print(\"Data view not created\")\n",
        "    print(f\"Message: {r_dataview['message']}\")"
      ]
    },
    {
      "cell_type": "code",
      "execution_count": null,
      "id": "df85fbc2-878b-4ddd-bc3e-db65af2f09f0",
      "metadata": {
        "colab": {
          "base_uri": "https://localhost:8080/"
        },
        "id": "df85fbc2-878b-4ddd-bc3e-db65af2f09f0",
        "outputId": "532cbf46-b388-46cb-ea1c-8ecef705e043"
      },
      "outputs": [
        {
          "output_type": "stream",
          "name": "stdout",
          "text": [
            "Verifying document count in all places indices':\n",
            "Documents places-*: 223736\n",
            "\n",
            "Searching for documents in places-* with names...\n",
            "[places-bosnia] 4coffee soul food [coffee_shop]\n",
            "[places-bosnia] In The Palace - Rooms [hotel]\n",
            "[places-bosnia] Tae kwon-do klub \"Split\" [community_services_non_profits]\n",
            "[places-bosnia] Splash [cafe]\n",
            "[places-bosnia] Tris Split [cafe]\n",
            "[places-bosnia] Apartment Paradiso Split [hotel]\n",
            "[places-bosnia] Benediktinski samostan sv. Eufemije [convents_and_monasteries]\n",
            "[places-bosnia] Kamali [womens_clothing_store]\n",
            "[places-bosnia] Pellegrini Luxury Rooms [hotel]\n",
            "[places-bosnia] EVO RUKE [topic_concert_venue]\n"
          ]
        }
      ],
      "source": [
        "# Verify ingestion by searching in places-*\n",
        "print(\"Verifying document count in all places indices':\")\n",
        "try:\n",
        "    count_response = client.count(index=\"places-*\")\n",
        "    print(f\"Documents places-*: {count_response['count']}\")\n",
        "except Exception as e:\n",
        "    print(f\"Error verifying documents: {e}\")\n",
        "\n",
        "\n",
        "print(\"\\nSearching for documents in places-* with names...\")\n",
        "try:\n",
        "    response = client.search(\n",
        "        index=\"places-*\",\n",
        "        query={\"bool\": {\"filter\": {\"exists\": {\"field\": \"name\"}}}},\n",
        "        size=10\n",
        "    )\n",
        "\n",
        "    # Process the search results\n",
        "    if response['hits']['total']['value'] > 0:\n",
        "        for hit in response['hits']['hits']:\n",
        "            print(f\"[{hit['_index']}] {hit['_source']['name']} [{hit['_source']['category']}]\")\n",
        "    else:\n",
        "        print(\"No documents found in the index.\")\n",
        "\n",
        "except Exception as e:\n",
        "    print(f\"Error during search: {e}\")"
      ]
    },
    {
      "cell_type": "markdown",
      "id": "cda4460b-43cc-4603-a7dd-a7781032a62e",
      "metadata": {
        "id": "cda4460b-43cc-4603-a7dd-a7781032a62e",
        "jp-MarkdownHeadingCollapsed": true
      },
      "source": [
        "## Natural Earth Countries data"
      ]
    },
    {
      "cell_type": "code",
      "execution_count": null,
      "id": "466036e1-8354-48aa-b4a1-11ebc7d20483",
      "metadata": {
        "colab": {
          "base_uri": "https://localhost:8080/"
        },
        "id": "466036e1-8354-48aa-b4a1-11ebc7d20483",
        "outputId": "d0c5627f-6c04-4fc9-db04-8feb4eba527a"
      },
      "outputs": [
        {
          "output_type": "stream",
          "name": "stdout",
          "text": [
            "Downloading zip file from: https://naciscdn.org/naturalearth/10m/cultural/ne_10m_admin_0_countries.zip\n",
            "Extracting contents to: /content/data\n",
            "Zip file successfully downloaded and uncompressed.\n"
          ]
        }
      ],
      "source": [
        "# Download and uncompress the NaturalEarth countries dataset\n",
        "from io import BytesIO\n",
        "import zipfile\n",
        "\n",
        "ne_countries_shp = \"data/ne_10m_admin_0_countries.shp\"\n",
        "\n",
        "try:\n",
        "    if not os.path.exists(ne_countries_shp):\n",
        "        url = \"https://naciscdn.org/naturalearth/10m/cultural/ne_10m_admin_0_countries.zip\"\n",
        "        extract_to = \"data/\"\n",
        "        print(f\"Downloading zip file from: {url}\")\n",
        "        response = requests.get(url, stream=True)\n",
        "        response.raise_for_status()  # Raise an exception for bad status codes (4xx or 5xx)\n",
        "\n",
        "        # Create a BytesIO object from the response content\n",
        "        zip_file_in_memory = BytesIO(response.content)\n",
        "\n",
        "        print(f\"Extracting contents to: {os.path.abspath(extract_to)}\")\n",
        "        # Create the extraction directory if it doesn't exist\n",
        "        os.makedirs(extract_to, exist_ok=True)\n",
        "\n",
        "        with zipfile.ZipFile(zip_file_in_memory, 'r') as zf:\n",
        "            zf.extractall(extract_to)\n",
        "        print(\"Zip file successfully downloaded and uncompressed.\")\n",
        "    else:\n",
        "        print(\"data/ne_10m_admin_0_countries.shp ready to use\")\n",
        "except requests.exceptions.RequestException as e:\n",
        "    print(f\"Error downloading the file: {e}\")\n",
        "except zipfile.BadZipFile:\n",
        "    print(\"Error: The downloaded file is not a valid zip file.\")\n",
        "except Exception as e:\n",
        "    print(f\"An unexpected error occurred: {e}\")\n"
      ]
    },
    {
      "cell_type": "code",
      "execution_count": null,
      "id": "aed9df7c-8353-405b-989b-9ec28200c0f6",
      "metadata": {
        "id": "aed9df7c-8353-405b-989b-9ec28200c0f6"
      },
      "outputs": [],
      "source": [
        "gdf = gpd.GeoDataFrame.from_file(ne_countries_shp)\n",
        "\n",
        "# Simplify the geometries before uploading\n",
        "gdf['geometry'] = gdf['geometry'].simplify(0.0001, preserve_topology=True)"
      ]
    },
    {
      "cell_type": "code",
      "execution_count": null,
      "id": "1ea48bb8-7dea-4074-8ef3-56206448c951",
      "metadata": {
        "colab": {
          "base_uri": "https://localhost:8080/"
        },
        "id": "1ea48bb8-7dea-4074-8ef3-56206448c951",
        "outputId": "9608d535-cf55-442f-9bd0-fc2139176f84"
      },
      "outputs": [
        {
          "output_type": "execute_result",
          "data": {
            "text/plain": [
              "ObjectApiResponse({'acknowledged': True})"
            ]
          },
          "metadata": {},
          "execution_count": 17
        }
      ],
      "source": [
        "# Select the columns to ingest as field mappings\n",
        "component_template_body = {\n",
        "    \"mappings\": {\n",
        "        \"properties\": {\n",
        "            \"id\": {\"type\": \"text\"},\n",
        "            \"geometry\": {\"type\": \"geo_shape\"},\n",
        "            \"type\": {\"type\": \"keyword\"},\n",
        "            \"name\": {\"type\": \"text\"},\n",
        "            \"iso_a2\": {\"type\": \"keyword\"},\n",
        "            \"iso_a3\": {\"type\": \"keyword\"},\n",
        "            \"continent\": {\"type\": \"keyword\"},\n",
        "            \"region_un\": {\"type\": \"keyword\"},\n",
        "            \"subregion\": {\"type\": \"keyword\"},\n",
        "            \"economy\": {\"type\": \"keyword\"},\n",
        "            \"income_grp\": {\"type\": \"keyword\"},\n",
        "            \"pop_est\": {\"type\": \"integer\"},\n",
        "            \"gdp_md\": {\"type\": \"integer\"},\n",
        "        }\n",
        "    }\n",
        "}\n",
        "\n",
        "# Self-hosted allow to set up shards and replica settings\n",
        "if not is_serverless:\n",
        "    component_template_body[\"settings\"] = {\n",
        "        \"number_of_shards\": 1,\n",
        "        \"number_of_replicas\": 0,\n",
        "        \"index.mode\": \"lookup\"\n",
        "    }\n",
        "\n",
        "# Create a template that automatically configures indices named as places*\n",
        "client.indices.put_index_template(\n",
        "    name=\"overturemaps-places\",\n",
        "    index_patterns=\"ne_countries\",\n",
        "    template=component_template_body)"
      ]
    },
    {
      "cell_type": "code",
      "execution_count": null,
      "id": "27cf1d8e-7e05-484b-b997-ffb555896adb",
      "metadata": {
        "id": "27cf1d8e-7e05-484b-b997-ffb555896adb"
      },
      "outputs": [],
      "source": [
        "# Generator funcion to yield documents to upload to ES\n",
        "def generate_actions(gdf):\n",
        "    for index, doc in gdf.iterrows():\n",
        "        yield {\n",
        "            \"_index\": index_name,\n",
        "            \"_source\": {\n",
        "                \"id\": doc[\"WOE_ID_EH\"],\n",
        "                \"geometry\": str(doc[\"geometry\"]),\n",
        "                \"type\": doc[\"TYPE\"],\n",
        "                \"name\": doc[\"NAME\"],\n",
        "                \"iso_a2\": doc[\"ISO_A2_EH\"],\n",
        "                \"iso_a3\": doc[\"ISO_A3_EH\"],\n",
        "                \"continent\": doc[\"CONTINENT\"],\n",
        "                \"region_un\": doc[\"REGION_UN\"],\n",
        "                \"subregion\": doc[\"SUBREGION\"],\n",
        "                \"economy\": doc[\"ECONOMY\"],\n",
        "                \"income_grp\": doc[\"INCOME_GRP\"],\n",
        "                \"pop_est\": doc[\"POP_EST\"],\n",
        "                \"gdp_md\": doc[\"GDP_MD\"],\n",
        "            }\n",
        "        }"
      ]
    },
    {
      "cell_type": "code",
      "execution_count": null,
      "id": "ee2bfaac-a0df-43c7-a13c-45842c291d04",
      "metadata": {
        "colab": {
          "base_uri": "https://localhost:8080/"
        },
        "id": "ee2bfaac-a0df-43c7-a13c-45842c291d04",
        "outputId": "10435959-db06-42d8-ed16-4a19f8c59348"
      },
      "outputs": [
        {
          "output_type": "stream",
          "name": "stdout",
          "text": [
            "Start processing ne_countries\n",
            "Starting ingestion into ne_countries...\n",
            "Bulk ingestion completed in 6.29 seconds.\n",
            "Successfully indexed: 257 documents.\n",
            "1\n",
            "Index refresh successful\n",
            "-----------------------------------\n",
            "CPU times: user 450 ms, sys: 18 ms, total: 468 ms\n",
            "Wall time: 6.63 s\n"
          ]
        }
      ],
      "source": [
        "%%time\n",
        "from elasticsearch import helpers\n",
        "import time\n",
        "\n",
        "DELETE_INDEX=False\n",
        "\n",
        "index_name = \"ne_countries\"\n",
        "print(f\"Start processing {index_name}\")\n",
        "\n",
        "# Remove the index if necessary\n",
        "if client.indices.exists(index=index_name):\n",
        "    if DELETE_INDEX:\n",
        "        print(f\"Deleting previous index {index_name}\")\n",
        "        client.indices.delete(index=index_name)\n",
        "    else:\n",
        "        print(\"Index is present, skipping upload\")\n",
        "\n",
        "if not client.indices.exists(index=index_name):\n",
        "    # Create the index with the correct mappings and properties\n",
        "    client.indices.create(index=index_name)\n",
        "\n",
        "    # Perform the bulk ingestion\n",
        "    print(f\"Starting ingestion into {index_name}...\")\n",
        "    start_time = time.time()\n",
        "    success_count, errors = helpers.bulk(\n",
        "        client,\n",
        "        generate_actions(gdf),\n",
        "        stats_only=True,\n",
        "        chunk_size=50,\n",
        "        raise_on_error=False\n",
        "    )\n",
        "    end_time = time.time()\n",
        "\n",
        "    print(f\"Bulk ingestion completed in {end_time - start_time:.2f} seconds.\")\n",
        "    print(f\"Successfully indexed: {success_count} documents.\")\n",
        "    if errors:\n",
        "        print(errors)\n",
        "        # print(f\"Errors encountered: {len(errors)}\")\n",
        "        # print(\"First few errors:\", errors[:5]) # Uncomment to see actual errors\n",
        "\n",
        "    # (Optional) Refresh the index to make documents searchable immediately\n",
        "    # This is usually done for testing/development. For production, rely on refresh_interval.\n",
        "    refresh = client.indices.refresh(index=index_name)\n",
        "    if refresh.get(\"_shards\",{}).get(\"successful\",0) == 1:\n",
        "        print(\"Index refresh successful\")\n",
        "\n",
        "    print(\"-----------------------------------\")"
      ]
    },
    {
      "cell_type": "code",
      "execution_count": null,
      "id": "03ae5ee6-e178-4c7e-a036-826971749c81",
      "metadata": {
        "colab": {
          "base_uri": "https://localhost:8080/"
        },
        "id": "03ae5ee6-e178-4c7e-a036-826971749c81",
        "outputId": "64e3941c-5434-4f19-a7ef-d58111cb2482"
      },
      "outputs": [
        {
          "output_type": "stream",
          "name": "stdout",
          "text": [
            "Data view created!\n"
          ]
        }
      ],
      "source": [
        "# Create a Kibana data view for the places-* pattern\n",
        "payload = {\n",
        "    \"data_view\": {\n",
        "        \"name\": \"NaturalEarth Countries\",\n",
        "        \"title\": index_name\n",
        "  }\n",
        "}\n",
        "# Add the data view using the Kibana API\n",
        "r_dataview = kib_post(\"/api/data_views/data_view\", data=payload).json()\n",
        "\n",
        "if 'data_view' in r_dataview:\n",
        "    print(\"Data view created!\")\n",
        "else:\n",
        "    print(\"Data view not created\")\n",
        "    print(f\"Message: {r_dataview['message']}\")"
      ]
    },
    {
      "cell_type": "code",
      "execution_count": null,
      "id": "8639de70-1708-4aac-94e2-d26400f2f468",
      "metadata": {
        "colab": {
          "base_uri": "https://localhost:8080/"
        },
        "id": "8639de70-1708-4aac-94e2-d26400f2f468",
        "outputId": "c9f6c9a4-e0b5-4f0e-e137-03760b69fa6f"
      },
      "outputs": [
        {
          "output_type": "stream",
          "name": "stdout",
          "text": [
            "\n",
            "Verifying document count:\n",
            "Documents places-*: 257\n",
            "\n",
            "Searching for countries of type Lease...\n",
            "[ne_countries] USNB Guantanamo Bay [USNB Guantanamo Bay]\n",
            "[ne_countries] Baikonur [Baikonur]\n"
          ]
        }
      ],
      "source": [
        "# Verify ingestion by searching in places-*\n",
        "print(f\"\\nVerifying document count:\")\n",
        "try:\n",
        "    count_response = client.count(index=index_name)\n",
        "    print(f\"Documents places-*: {count_response['count']}\")\n",
        "except Exception as e:\n",
        "    print(f\"Error verifying documents: {e}\")\n",
        "\n",
        "\n",
        "print(f\"\\nSearching for countries of type Lease...\")\n",
        "try:\n",
        "    response = client.search(\n",
        "        index=index_name,\n",
        "        query={\"term\":{\"type\":{\"value\": \"Lease\"}}},\n",
        "        size=10\n",
        "    )\n",
        "\n",
        "    # Process the search results\n",
        "    if response['hits']['total']['value'] > 0:\n",
        "        for hit in response['hits']['hits']:\n",
        "            print(f\"[{hit['_index']}] {hit['_source']['name']} [{hit['_source']['name']}]\")\n",
        "    else:\n",
        "        print(\"No documents found in the index.\")\n",
        "\n",
        "except Exception as e:\n",
        "    print(f\"Error during search: {e}\")"
      ]
    },
    {
      "cell_type": "markdown",
      "id": "HM0rRhDexLRE",
      "metadata": {
        "id": "HM0rRhDexLRE"
      },
      "source": [
        "### Checking for a missing document\n",
        "\n",
        "We indexed `257` document but our Natural Earth dataset has `258` document. What is missing? Why?"
      ]
    },
    {
      "cell_type": "code",
      "execution_count": null,
      "id": "0q4cLXELxfhc",
      "metadata": {
        "colab": {
          "base_uri": "https://localhost:8080/"
        },
        "id": "0q4cLXELxfhc",
        "outputId": "53316119-a2ea-4427-f0b5-fa41b333178c"
      },
      "outputs": [
        {
          "output_type": "stream",
          "name": "stdout",
          "text": [
            "There are 257 different countries in our ES index\n",
            "There are 258 different countries in the Natural Earth DataFrame\n"
          ]
        }
      ],
      "source": [
        "# Let's get the countries in our index\n",
        "es_names_docs=client.search(\n",
        "    index=index_name,\n",
        "    query={\"match_all\": {}},\n",
        "    _source_includes=False,\n",
        "    fields=[\"name\"],\n",
        "    size=1000\n",
        ")\n",
        "es_countries = set([hit['fields']['name'][0] for hit in es_names_docs[\"hits\"][\"hits\"]])\n",
        "print(f\"There are {len(es_countries)} different countries in our ES index\")\n",
        "\n",
        "\n",
        "# And a set from the \"WOE_ID_EH\" in the DataFrame\n",
        "gdf_countries = set(gdf[\"NAME\"])\n",
        "print(f\"There are {len(gdf_countries)} different countries in the Natural Earth DataFrame\")"
      ]
    },
    {
      "cell_type": "code",
      "execution_count": null,
      "id": "JFZGSCGUx4qM",
      "metadata": {
        "colab": {
          "base_uri": "https://localhost:8080/"
        },
        "id": "JFZGSCGUx4qM",
        "outputId": "ccdaad93-1853-48b9-a24d-78ef736d4e4f"
      },
      "outputs": [
        {
          "output_type": "execute_result",
          "data": {
            "text/plain": [
              "{'Antarctica'}"
            ]
          },
          "metadata": {},
          "execution_count": 23
        }
      ],
      "source": [
        "# Let's substract the sets to get the missing country\n",
        "gdf_countries - es_countries"
      ]
    },
    {
      "cell_type": "code",
      "execution_count": null,
      "id": "32fbe5ff-eeb2-4f56-a7f6-0e5957acf19a",
      "metadata": {
        "colab": {
          "base_uri": "https://localhost:8080/"
        },
        "id": "32fbe5ff-eeb2-4f56-a7f6-0e5957acf19a",
        "outputId": "587ce595-9ab1-4ae8-e8d6-c79e84024436"
      },
      "outputs": [
        {
          "output_type": "stream",
          "name": "stdout",
          "text": [
            "{\n",
            "  \"error\": {\n",
            "    \"root_cause\": [\n",
            "      {\n",
            "        \"type\": \"document_parsing_exception\",\n",
            "        \"reason\": \"[1:13] failed to parse field [geometry] of type [geo_shape]\"\n",
            "      }\n",
            "    ],\n",
            "    \"type\": \"document_parsing_exception\",\n",
            "    \"reason\": \"[1:13] failed to parse field [geometry] of type [geo_shape]\",\n",
            "    \"caused_by\": {\n",
            "      \"type\": \"illegal_argument_exception\",\n",
            "      \"reason\": \"Polygon self-intersection at lat=-84.3517829528102 lon=-163.03271507289995\"\n",
            "    }\n",
            "  },\n",
            "  \"status\": 400\n",
            "}\n"
          ]
        }
      ],
      "source": [
        "# Antarctica was not indexed in our bulk process, let's try to index it manually\n",
        "from elasticsearch.exceptions import BadRequestError\n",
        "\n",
        "# Get the Antarctica row\n",
        "antarctica = gdf[gdf['NAME'] == 'Antarctica'].copy()\n",
        "\n",
        "# Try the classic buffer-zero fix\n",
        "antarctica[\"geometry\"] = antarctica[\"geometry\"].buffer(0)\n",
        "doc = antarctica.iloc[0]\n",
        "\n",
        "# Try to manually index that geometry\n",
        "try:\n",
        "    client.index(\n",
        "        index=\"ne_countries\",\n",
        "        document={\"geometry\": str(doc[\"geometry\"]),\"name\": doc[\"NAME\"]}\n",
        "    )\n",
        "except BadRequestError as e:\n",
        "    print(json.dumps(e.info, indent=2))"
      ]
    },
    {
      "cell_type": "markdown",
      "id": "csw1tJ8XghTy",
      "metadata": {
        "id": "csw1tJ8XghTy",
        "jp-MarkdownHeadingCollapsed": true
      },
      "source": [
        "## Other snapshots"
      ]
    },
    {
      "cell_type": "markdown",
      "id": "thM6mzZSgo2y",
      "metadata": {
        "id": "thM6mzZSgo2y"
      },
      "source": [
        "We maintain on a GCP bucket exposed as HTTP resources a number of snapshots that can be imported into any ES cluster in 8 or 9 series.\n",
        "\n",
        "First add this snippet to the `elasticsearch.yml` configuration file:\n",
        "\n",
        "```\n",
        "repositories.url.allowed_urls:\n",
        "        - \"https://storage.googleapis.com/jsanz-bucket/*\"\n",
        "```\n",
        "\n",
        "Then see the code on how to create a snapshot and execute a restore request"
      ]
    },
    {
      "cell_type": "code",
      "execution_count": null,
      "id": "44fDqqbHhcKX",
      "metadata": {
        "id": "44fDqqbHhcKX"
      },
      "outputs": [],
      "source": [
        "snapshot_data = [\n",
        "    {\n",
        "      \"repo_name\": \"ghcd\",\n",
        "      \"base_path\": \"v8/ghcnd\",\n",
        "      \"snapshots\": [\n",
        "          \"ghcnd_daily_observations\"\n",
        "      ],\n",
        "      \"index_pattern\": \"ghcnd_daily_observations\",\n",
        "      \"time_field\": \"date\"\n",
        "    },\n",
        "    {\n",
        "      \"repo_name\": \"osm_data\",\n",
        "      \"base_path\": \"v8/osm\",\n",
        "      \"snapshots\": [\n",
        "          \"osm_italy_centro\",\n",
        "          \"osm_estonia\",\n",
        "          \"osm_spain_valencia\",\n",
        "          \"osm_usa_arizona\",\n",
        "          \"osm_andorra\"\n",
        "      ],\n",
        "      \"index_pattern\": \"osm_*\",\n",
        "      \"time_field\": \"timestamp\"\n",
        "    },\n",
        "    {\n",
        "      \"repo_name\": \"geonames\",\n",
        "      \"base_path\": \"v8/geospatial_demos\",\n",
        "      \"snapshots\": [\n",
        "          \"geonames\"\n",
        "      ],\n",
        "      \"index_pattern\": \"geonames\",\n",
        "      \"time_field\": \"modification_date\"\n",
        "    }\n",
        "]"
      ]
    },
    {
      "cell_type": "code",
      "execution_count": null,
      "id": "BOJMCC_9iLSC",
      "metadata": {
        "id": "BOJMCC_9iLSC"
      },
      "outputs": [],
      "source": [
        "def restore_snapshot(snapshot_data):\n",
        "  # Create the repository\n",
        "  from elasticsearch.exceptions import NotFoundError\n",
        "  repo_name = snapshot_data[\"repo_name\"]\n",
        "\n",
        "  # Check if the repo exists, create it if fails\n",
        "  try:\n",
        "    repo = client.snapshot.get_repository(name=repo_name)\n",
        "  except NotFoundError:\n",
        "    # Create the repo if not found\n",
        "    print(f\"Creating repository {repo_name}\")\n",
        "    client.snapshot.create_repository(name=repo_name,body={\n",
        "      \"type\": \"url\",\n",
        "      \"settings\": {\n",
        "        \"url\": f\"https://storage.googleapis.com/jsanz-bucket/{snapshot_data['base_path']}/\"\n",
        "      }\n",
        "    })\n",
        "\n",
        "  # Restore all snapshots stored in the repository\n",
        "  for snapshot in snapshot_data['snapshots']:\n",
        "    print(f\"Restoring {snapshot} from {repo_name}\")\n",
        "    client.snapshot.restore(repository=repo_name, snapshot=snapshot, wait_for_completion=False)"
      ]
    },
    {
      "cell_type": "code",
      "execution_count": null,
      "id": "DY8BznSimURA",
      "metadata": {
        "colab": {
          "base_uri": "https://localhost:8080/"
        },
        "id": "DY8BznSimURA",
        "outputId": "a3155ef1-3c56-4a70-e40c-3ace08210c9c"
      },
      "outputs": [
        {
          "name": "stdout",
          "output_type": "stream",
          "text": [
            "ghcnd_daily_observations has data, skipping.\n",
            "osm_* has data, skipping.\n",
            "geonames has data, skipping.\n"
          ]
        }
      ],
      "source": [
        "# Iterate over the repository entries\n",
        "for entry in snapshot_data:\n",
        "  # Check if index_pattern returns any data\n",
        "  pattern = entry['index_pattern']\n",
        "  count = client.count(index=pattern)\n",
        "\n",
        "  # If no data is found, restore the snapshots\n",
        "  if count.get('count',-1) == 0:\n",
        "    print(f\"Restoring snapshots from {entry['base_path']}\")\n",
        "    restore_snapshot(entry)\n",
        "  # If count is not found in the API response, something went wrong\n",
        "  elif count.get('count',-1) == -1:\n",
        "    print(f\"{pattern} count request went wrong, skipping.\")\n",
        "  # Data is already restored\n",
        "  else:\n",
        "    print(f\"{pattern} has data, skipping.\")"
      ]
    },
    {
      "cell_type": "code",
      "execution_count": null,
      "id": "SQ6Nfdd0nbau",
      "metadata": {
        "colab": {
          "base_uri": "https://localhost:8080/"
        },
        "id": "SQ6Nfdd0nbau",
        "outputId": "159aefb4-dd7e-486f-fee7-1c0d168c3e7b"
      },
      "outputs": [
        {
          "name": "stdout",
          "output_type": "stream",
          "text": [
            "Data view for [ghcnd_daily_observations] created!\n",
            "Data view for [osm_*] created!\n",
            "Data view for [geonames] created!\n"
          ]
        }
      ],
      "source": [
        "for entry in snapshot_data:\n",
        "  # Create a Kibana data view for index pattern\n",
        "  payload = {\n",
        "      \"data_view\": {\n",
        "          \"title\": entry['index_pattern'],\n",
        "          \"timeFieldName\": entry['time_field']\n",
        "    }\n",
        "  }\n",
        "  # Add the data view using the Kibana API\n",
        "  r_dataview = kib_post(\"/api/data_views/data_view\", data=payload).json()\n",
        "\n",
        "  if 'data_view' in r_dataview:\n",
        "      print(f\"Data view for [{entry['index_pattern']}] created!\")\n",
        "  else:\n",
        "      print(\"Data view not created\")\n",
        "      print(f\"Message: {r_dataview['message']}\")"
      ]
    },
    {
      "cell_type": "code",
      "execution_count": null,
      "id": "rAd7IEp_q-f8",
      "metadata": {
        "colab": {
          "base_uri": "https://localhost:8080/"
        },
        "id": "rAd7IEp_q-f8",
        "outputId": "5bd33e75-4b37-49b7-e008-e8402fd91bcf"
      },
      "outputs": [
        {
          "name": "stdout",
          "output_type": "stream",
          "text": [
            "ghcnd_daily_observations: 29,075,053\n",
            "osm_*: 99,589,937\n",
            "geonames: 11,968,314\n"
          ]
        }
      ],
      "source": [
        "# Check how much data was stored\n",
        "for entry in snapshot_data:\n",
        "  count = client.count(index=entry['index_pattern'])\n",
        "  print(f\"{entry['index_pattern']}: {count.get('count',0):,}\")"
      ]
    },
    {
      "cell_type": "markdown",
      "id": "26c138a1-0875-46a6-a7ea-4603787598c3",
      "metadata": {
        "id": "26c138a1-0875-46a6-a7ea-4603787598c3"
      },
      "source": [
        "## Civio fires data"
      ]
    },
    {
      "cell_type": "code",
      "execution_count": 10,
      "id": "7c4a6c04-701b-4b04-876b-e215a9cee1a7",
      "metadata": {
        "id": "7c4a6c04-701b-4b04-876b-e215a9cee1a7"
      },
      "outputs": [],
      "source": [
        "# Get the data\n",
        "! mkdir -p data\n",
        "! if [ ! -f ./data/fires-all.csv ]; then wget -qO ./data/fires-all.csv -nc https://data.civio.es/espanaenllamas/fires-map/fires-all.csv; fi\n",
        "! if [ ! -f ./data/civio-causes.csv ]; then wget -qO ./data/civio-causes.csv -nc https://raw.githubusercontent.com/jsanz/elastic_esql_lab/refs/heads/main/data/civio-causes.csv; fi\n",
        "! if [ ! -f ./data/civio-causes_desc.csv ]; then wget -qO ./data/civio-causes_desc.csv -nc https://raw.githubusercontent.com/jsanz/elastic_esql_lab/refs/heads/main/data/civio-causes_desc.csv; fi\n",
        "! if [ ! -f ./data/civio-regions.csv ]; then wget -qO ./data/civio-regions.csv -nc https://raw.githubusercontent.com/jsanz/elastic_esql_lab/refs/heads/main/data/civio-regions.csv; fi"
      ]
    },
    {
      "cell_type": "code",
      "execution_count": 12,
      "id": "30aff6a8-f0e4-4789-a3bf-fe651ff2621c",
      "metadata": {
        "id": "30aff6a8-f0e4-4789-a3bf-fe651ff2621c",
        "outputId": "4cf78bbd-3ca7-4180-ee60-ee238f34e0ff",
        "colab": {
          "base_uri": "https://localhost:8080/",
          "height": 711
        }
      },
      "outputs": [
        {
          "output_type": "execute_result",
          "data": {
            "text/plain": [
              "id                             1980324276\n",
              "superficie                           20.0\n",
              "fecha                          1980-09-18\n",
              "lat                             42.376191\n",
              "lng                             -7.004868\n",
              "latlng_explicit                       0.0\n",
              "idprovincia                            32\n",
              "idmunicipio                             9\n",
              "municipio          BARCO DE VALDEORRAS, O\n",
              "causa                                   4\n",
              "causa_supuesta                          1\n",
              "causa_desc                             99\n",
              "muertos                                 0\n",
              "heridos                                 0\n",
              "time_ctrl                               0\n",
              "time_ext                              420\n",
              "personal                               12\n",
              "medios                                  0\n",
              "gastos                                  0\n",
              "perdidas                                1\n",
              "Name: 39655, dtype: object"
            ],
            "text/html": [
              "<div>\n",
              "<style scoped>\n",
              "    .dataframe tbody tr th:only-of-type {\n",
              "        vertical-align: middle;\n",
              "    }\n",
              "\n",
              "    .dataframe tbody tr th {\n",
              "        vertical-align: top;\n",
              "    }\n",
              "\n",
              "    .dataframe thead th {\n",
              "        text-align: right;\n",
              "    }\n",
              "</style>\n",
              "<table border=\"1\" class=\"dataframe\">\n",
              "  <thead>\n",
              "    <tr style=\"text-align: right;\">\n",
              "      <th></th>\n",
              "      <th>39655</th>\n",
              "    </tr>\n",
              "  </thead>\n",
              "  <tbody>\n",
              "    <tr>\n",
              "      <th>id</th>\n",
              "      <td>1980324276</td>\n",
              "    </tr>\n",
              "    <tr>\n",
              "      <th>superficie</th>\n",
              "      <td>20.0</td>\n",
              "    </tr>\n",
              "    <tr>\n",
              "      <th>fecha</th>\n",
              "      <td>1980-09-18</td>\n",
              "    </tr>\n",
              "    <tr>\n",
              "      <th>lat</th>\n",
              "      <td>42.376191</td>\n",
              "    </tr>\n",
              "    <tr>\n",
              "      <th>lng</th>\n",
              "      <td>-7.004868</td>\n",
              "    </tr>\n",
              "    <tr>\n",
              "      <th>latlng_explicit</th>\n",
              "      <td>0.0</td>\n",
              "    </tr>\n",
              "    <tr>\n",
              "      <th>idprovincia</th>\n",
              "      <td>32</td>\n",
              "    </tr>\n",
              "    <tr>\n",
              "      <th>idmunicipio</th>\n",
              "      <td>9</td>\n",
              "    </tr>\n",
              "    <tr>\n",
              "      <th>municipio</th>\n",
              "      <td>BARCO DE VALDEORRAS, O</td>\n",
              "    </tr>\n",
              "    <tr>\n",
              "      <th>causa</th>\n",
              "      <td>4</td>\n",
              "    </tr>\n",
              "    <tr>\n",
              "      <th>causa_supuesta</th>\n",
              "      <td>1</td>\n",
              "    </tr>\n",
              "    <tr>\n",
              "      <th>causa_desc</th>\n",
              "      <td>99</td>\n",
              "    </tr>\n",
              "    <tr>\n",
              "      <th>muertos</th>\n",
              "      <td>0</td>\n",
              "    </tr>\n",
              "    <tr>\n",
              "      <th>heridos</th>\n",
              "      <td>0</td>\n",
              "    </tr>\n",
              "    <tr>\n",
              "      <th>time_ctrl</th>\n",
              "      <td>0</td>\n",
              "    </tr>\n",
              "    <tr>\n",
              "      <th>time_ext</th>\n",
              "      <td>420</td>\n",
              "    </tr>\n",
              "    <tr>\n",
              "      <th>personal</th>\n",
              "      <td>12</td>\n",
              "    </tr>\n",
              "    <tr>\n",
              "      <th>medios</th>\n",
              "      <td>0</td>\n",
              "    </tr>\n",
              "    <tr>\n",
              "      <th>gastos</th>\n",
              "      <td>0</td>\n",
              "    </tr>\n",
              "    <tr>\n",
              "      <th>perdidas</th>\n",
              "      <td>1</td>\n",
              "    </tr>\n",
              "  </tbody>\n",
              "</table>\n",
              "</div><br><label><b>dtype:</b> object</label>"
            ]
          },
          "metadata": {},
          "execution_count": 12
        }
      ],
      "source": [
        "import pandas as pd\n",
        "df = pd.read_csv('./data/fires-all.csv')\n",
        "# read complementary CSV files\n",
        "df_causes = pd.read_csv('./data/civio-causes.csv')\n",
        "df_causes_desc = pd.read_csv('./data/civio-causes_desc.csv')\n",
        "df_regions = pd.read_csv('./data/civio-regions.csv')\n",
        "\n",
        "# Remove unnecessary comunidad column\n",
        "df.drop(\"idcomunidad\", axis=1, inplace=True)\n",
        "df[df['lat'].notna()].iloc[0]"
      ]
    },
    {
      "cell_type": "code",
      "execution_count": 14,
      "id": "be7db6dd-d4bb-4b16-900d-52f9b42fc02e",
      "metadata": {
        "id": "be7db6dd-d4bb-4b16-900d-52f9b42fc02e",
        "outputId": "129f2ec8-7872-4e61-89db-f38b4724d580",
        "colab": {
          "base_uri": "https://localhost:8080/",
          "height": 931
        }
      },
      "outputs": [
        {
          "output_type": "execute_result",
          "data": {
            "text/plain": [
              "id                             1980324276\n",
              "superficie                           20.0\n",
              "fecha                          1980-09-18\n",
              "lat                             42.376191\n",
              "lng                             -7.004868\n",
              "latlng_explicit                       0.0\n",
              "idprovincia                            32\n",
              "idmunicipio                             9\n",
              "municipio          BARCO DE VALDEORRAS, O\n",
              "causa                                   4\n",
              "causa_supuesta                          1\n",
              "causa_desc                             99\n",
              "muertos                                 0\n",
              "heridos                                 0\n",
              "time_ctrl                               0\n",
              "time_ext                              420\n",
              "personal                               12\n",
              "medios                                  0\n",
              "gastos                                  0\n",
              "perdidas                                1\n",
              "idcomunidad                            12\n",
              "comunidad                         Galicia\n",
              "provincia                         Ourense\n",
              "causa_es               Fuego intencionado\n",
              "causa_en                 Intentional fire\n",
              "causa_desc_es                         NaN\n",
              "causa_desc_en                         NaN\n",
              "Name: 39655, dtype: object"
            ],
            "text/html": [
              "<div>\n",
              "<style scoped>\n",
              "    .dataframe tbody tr th:only-of-type {\n",
              "        vertical-align: middle;\n",
              "    }\n",
              "\n",
              "    .dataframe tbody tr th {\n",
              "        vertical-align: top;\n",
              "    }\n",
              "\n",
              "    .dataframe thead th {\n",
              "        text-align: right;\n",
              "    }\n",
              "</style>\n",
              "<table border=\"1\" class=\"dataframe\">\n",
              "  <thead>\n",
              "    <tr style=\"text-align: right;\">\n",
              "      <th></th>\n",
              "      <th>39655</th>\n",
              "    </tr>\n",
              "  </thead>\n",
              "  <tbody>\n",
              "    <tr>\n",
              "      <th>id</th>\n",
              "      <td>1980324276</td>\n",
              "    </tr>\n",
              "    <tr>\n",
              "      <th>superficie</th>\n",
              "      <td>20.0</td>\n",
              "    </tr>\n",
              "    <tr>\n",
              "      <th>fecha</th>\n",
              "      <td>1980-09-18</td>\n",
              "    </tr>\n",
              "    <tr>\n",
              "      <th>lat</th>\n",
              "      <td>42.376191</td>\n",
              "    </tr>\n",
              "    <tr>\n",
              "      <th>lng</th>\n",
              "      <td>-7.004868</td>\n",
              "    </tr>\n",
              "    <tr>\n",
              "      <th>latlng_explicit</th>\n",
              "      <td>0.0</td>\n",
              "    </tr>\n",
              "    <tr>\n",
              "      <th>idprovincia</th>\n",
              "      <td>32</td>\n",
              "    </tr>\n",
              "    <tr>\n",
              "      <th>idmunicipio</th>\n",
              "      <td>9</td>\n",
              "    </tr>\n",
              "    <tr>\n",
              "      <th>municipio</th>\n",
              "      <td>BARCO DE VALDEORRAS, O</td>\n",
              "    </tr>\n",
              "    <tr>\n",
              "      <th>causa</th>\n",
              "      <td>4</td>\n",
              "    </tr>\n",
              "    <tr>\n",
              "      <th>causa_supuesta</th>\n",
              "      <td>1</td>\n",
              "    </tr>\n",
              "    <tr>\n",
              "      <th>causa_desc</th>\n",
              "      <td>99</td>\n",
              "    </tr>\n",
              "    <tr>\n",
              "      <th>muertos</th>\n",
              "      <td>0</td>\n",
              "    </tr>\n",
              "    <tr>\n",
              "      <th>heridos</th>\n",
              "      <td>0</td>\n",
              "    </tr>\n",
              "    <tr>\n",
              "      <th>time_ctrl</th>\n",
              "      <td>0</td>\n",
              "    </tr>\n",
              "    <tr>\n",
              "      <th>time_ext</th>\n",
              "      <td>420</td>\n",
              "    </tr>\n",
              "    <tr>\n",
              "      <th>personal</th>\n",
              "      <td>12</td>\n",
              "    </tr>\n",
              "    <tr>\n",
              "      <th>medios</th>\n",
              "      <td>0</td>\n",
              "    </tr>\n",
              "    <tr>\n",
              "      <th>gastos</th>\n",
              "      <td>0</td>\n",
              "    </tr>\n",
              "    <tr>\n",
              "      <th>perdidas</th>\n",
              "      <td>1</td>\n",
              "    </tr>\n",
              "    <tr>\n",
              "      <th>idcomunidad</th>\n",
              "      <td>12</td>\n",
              "    </tr>\n",
              "    <tr>\n",
              "      <th>comunidad</th>\n",
              "      <td>Galicia</td>\n",
              "    </tr>\n",
              "    <tr>\n",
              "      <th>provincia</th>\n",
              "      <td>Ourense</td>\n",
              "    </tr>\n",
              "    <tr>\n",
              "      <th>causa_es</th>\n",
              "      <td>Fuego intencionado</td>\n",
              "    </tr>\n",
              "    <tr>\n",
              "      <th>causa_en</th>\n",
              "      <td>Intentional fire</td>\n",
              "    </tr>\n",
              "    <tr>\n",
              "      <th>causa_desc_es</th>\n",
              "      <td>NaN</td>\n",
              "    </tr>\n",
              "    <tr>\n",
              "      <th>causa_desc_en</th>\n",
              "      <td>NaN</td>\n",
              "    </tr>\n",
              "  </tbody>\n",
              "</table>\n",
              "</div><br><label><b>dtype:</b> object</label>"
            ]
          },
          "metadata": {},
          "execution_count": 14
        }
      ],
      "source": [
        "# Merge with regions and causes\n",
        "df_merge = pd.merge(df, df_regions, on=\"idprovincia\",how=\"left\")\n",
        "df_merge = pd.merge(df_merge, df_causes, on=\"causa\",how=\"left\")\n",
        "df_merge = pd.merge(df_merge, df_causes_desc, on='causa_desc',how=\"left\")\n",
        "df_merge[df_merge['lat'].notna()].iloc[0]"
      ]
    },
    {
      "cell_type": "code",
      "execution_count": 15,
      "id": "6bb49eeb-5243-4d19-bdd1-7df5581a7c15",
      "metadata": {
        "colab": {
          "base_uri": "https://localhost:8080/"
        },
        "id": "6bb49eeb-5243-4d19-bdd1-7df5581a7c15",
        "outputId": "4f2f3e44-48c2-48f5-9566-a52a135583e7"
      },
      "outputs": [
        {
          "output_type": "execute_result",
          "data": {
            "text/plain": [
              "ObjectApiResponse({'acknowledged': True})"
            ]
          },
          "metadata": {},
          "execution_count": 15
        }
      ],
      "source": [
        "# Define an index template for places indices\n",
        "index_name = \"civio-fires\"\n",
        "index_shards = 1\n",
        "index_replicas = 0 if ES_URL.startswith(\"http://elasticsearch\") else 1\n",
        "\n",
        "component_template_body = {\n",
        "  \"mappings\": {\n",
        "    \"properties\": {\n",
        "      \"id\": { \"type\": \"text\" },\n",
        "      \"fecha\": { \"type\": \"date\" },\n",
        "      \"geometry\": { \"type\": \"geo_point\" },\n",
        "      \"latlng_explicit\": { \"type\": \"boolean\" },\n",
        "      \"superficie\": { \"type\": \"integer\" },\n",
        "      \"causa\": { \"type\": \"keyword\" },\n",
        "      \"causa_desc\": { \"type\": \"keyword\" },\n",
        "      \"causa_es\" : { \"type\": \"keyword\" },\n",
        "      \"causa_desc_en\": { \"type\": \"keyword\" },\n",
        "      \"causa_supuesta\": { \"type\": \"boolean\" },\n",
        "      \"comunidad\": { \"type\": \"keyword\" },\n",
        "      \"provincia\": { \"type\": \"keyword\" },\n",
        "      \"municipio\": { \"type\": \"keyword\" },\n",
        "      \"muertos\": { \"type\": \"integer\" },\n",
        "      \"heridos\": { \"type\": \"integer\" },\n",
        "      \"medios\": { \"type\": \"integer\" },\n",
        "      \"personal\": { \"type\": \"integer\" },\n",
        "      \"gastos\": { \"type\": \"integer\" },\n",
        "      \"perdidas\": { \"type\": \"integer\" },\n",
        "      \"time_ctrl\": { \"type\": \"integer\" },\n",
        "      \"time_ext\": { \"type\": \"integer\" }\n",
        "    }\n",
        "  }\n",
        "}\n",
        "\n",
        "# Self-hosted allow to set up shards and replica settings\n",
        "if not is_serverless:\n",
        "    component_template_body[\"settings\"] = {\n",
        "        \"number_of_shards\": index_shards,\n",
        "        \"number_of_replicas\": index_replicas\n",
        "    }\n",
        "\n",
        "# Create a template that automatically configures indices named as places*\n",
        "client.indices.put_index_template(\n",
        "    name=index_name,\n",
        "    index_patterns=index_name,\n",
        "    template=component_template_body)"
      ]
    },
    {
      "cell_type": "code",
      "execution_count": 16,
      "id": "ba0802af-14f2-420c-b850-505b6906a31f",
      "metadata": {
        "colab": {
          "base_uri": "https://localhost:8080/"
        },
        "id": "ba0802af-14f2-420c-b850-505b6906a31f",
        "outputId": "cd4a0c7c-ecda-402c-97d6-e8a7a1ff5fef"
      },
      "outputs": [
        {
          "output_type": "stream",
          "name": "stdout",
          "text": [
            "{\n",
            "  \"id\": 1968290001,\n",
            "  \"geometry\": null,\n",
            "  \"fecha\": \"1968-01-01\",\n",
            "  \"latlng_explicit\": false,\n",
            "  \"superficie\": 14.0,\n",
            "  \"causa\": \"Fire caused by accident or negligence\",\n",
            "  \"causa_desc\": null,\n",
            "  \"causa_es\": \"Fuego por accidente o negligencia\",\n",
            "  \"causa_desc_es\": null,\n",
            "  \"causa_supuesta\": true,\n",
            "  \"comunidad\": \"Andaluc\\u00eda\",\n",
            "  \"provincia\": \"M\\u00e1laga\",\n",
            "  \"municipio\": \"INDETERMINADO\",\n",
            "  \"muertos\": 0,\n",
            "  \"heridos\": 0,\n",
            "  \"medios\": 0,\n",
            "  \"personal\": 0,\n",
            "  \"gastos\": 0,\n",
            "  \"perdidas\": 0,\n",
            "  \"time_ctrl\": 0,\n",
            "  \"time_ext\": 360\n",
            "}\n",
            "---\n",
            "{\n",
            "  \"id\": 1980324276,\n",
            "  \"geometry\": [\n",
            "    -7.0048679,\n",
            "    42.3761908\n",
            "  ],\n",
            "  \"fecha\": \"1980-09-18\",\n",
            "  \"latlng_explicit\": true,\n",
            "  \"superficie\": 20.0,\n",
            "  \"causa\": \"Intentional fire\",\n",
            "  \"causa_desc\": null,\n",
            "  \"causa_es\": \"Fuego intencionado\",\n",
            "  \"causa_desc_es\": null,\n",
            "  \"causa_supuesta\": true,\n",
            "  \"comunidad\": \"Galicia\",\n",
            "  \"provincia\": \"Ourense\",\n",
            "  \"municipio\": \"BARCO DE VALDEORRAS, O\",\n",
            "  \"muertos\": 0,\n",
            "  \"heridos\": 0,\n",
            "  \"medios\": 0,\n",
            "  \"personal\": 12,\n",
            "  \"gastos\": 0,\n",
            "  \"perdidas\": 1,\n",
            "  \"time_ctrl\": 0,\n",
            "  \"time_ext\": 420\n",
            "}\n",
            "{\n",
            "  \"id\": 2016030009,\n",
            "  \"geometry\": [\n",
            "    -0.4991773,\n",
            "    38.573232\n",
            "  ],\n",
            "  \"fecha\": \"2016-02-12\",\n",
            "  \"latlng_explicit\": true,\n",
            "  \"superficie\": 1.0,\n",
            "  \"causa\": \"Fire caused by accident or negligence\",\n",
            "  \"causa_desc\": \"chasing away animals (wolves, wild boars)\",\n",
            "  \"causa_es\": \"Fuego por accidente o negligencia\",\n",
            "  \"causa_desc_es\": \"ahuyentar animales (lobos, jabal\\u00edes)\",\n",
            "  \"causa_supuesta\": false,\n",
            "  \"comunidad\": \"Comunitat Valenciana\",\n",
            "  \"provincia\": \"Alicante/Alacant\",\n",
            "  \"municipio\": \"XIXONA/JIJONA\",\n",
            "  \"muertos\": 0,\n",
            "  \"heridos\": 0,\n",
            "  \"medios\": 6,\n",
            "  \"personal\": 41,\n",
            "  \"gastos\": 0,\n",
            "  \"perdidas\": 0,\n",
            "  \"time_ctrl\": 105,\n",
            "  \"time_ext\": 685\n",
            "}\n"
          ]
        }
      ],
      "source": [
        "# Generator funcion to yield documents to upload to ES\n",
        "import math\n",
        "import json\n",
        "\n",
        "def generate_geometry(doc):\n",
        "    if math.isnan(doc[\"lat\"]) or math.isnan(doc[\"lng\"]):\n",
        "        return None\n",
        "    else:\n",
        "        return [round(doc[\"lng\"],7),round(doc[\"lat\"],7)]\n",
        "\n",
        "def get_none_if_nan(value):\n",
        "    if type(value) is str:\n",
        "        return value\n",
        "    else:\n",
        "        return None if math.isnan(value) else value\n",
        "\n",
        "def generate_actions(df):\n",
        "    for index, doc in df.iterrows():\n",
        "        yield {\n",
        "            \"_index\": index_name,\n",
        "            \"_id\": doc[\"id\"],\n",
        "            \"_source\": {\n",
        "                \"id\": doc[\"id\"],\n",
        "                \"geometry\": generate_geometry(doc),\n",
        "                \"fecha\": doc[\"fecha\"],\n",
        "                \"latlng_explicit\": not math.isnan(doc[\"latlng_explicit\"]),\n",
        "                \"superficie\": doc[\"superficie\"],\n",
        "                \"causa\": get_none_if_nan(doc[\"causa_en\"]),\n",
        "                \"causa_desc\": get_none_if_nan(doc[\"causa_desc_en\"]),\n",
        "                \"causa_es\": get_none_if_nan(doc[\"causa_es\"]),\n",
        "                \"causa_desc_es\": get_none_if_nan(doc[\"causa_desc_es\"]),\n",
        "                \"causa_supuesta\": int(doc[\"causa_supuesta\"]) == 1,\n",
        "                \"comunidad\": doc[\"comunidad\"],\n",
        "                \"provincia\": doc[\"provincia\"],\n",
        "                \"municipio\": doc[\"municipio\"],\n",
        "                \"muertos\": doc[\"muertos\"],\n",
        "                \"heridos\": doc[\"heridos\"],\n",
        "                \"medios\": doc[\"medios\"],\n",
        "                \"personal\": doc[\"personal\"],\n",
        "                \"gastos\": doc[\"gastos\"],\n",
        "                \"perdidas\": doc[\"perdidas\"],\n",
        "                \"time_ctrl\": doc[\"time_ctrl\"],\n",
        "                \"time_ext\": doc[\"time_ext\"],\n",
        "            }\n",
        "        }\n",
        "for r in generate_actions(df_merge[:1]):\n",
        "    print(json.dumps(r[\"_source\"], indent=2))\n",
        "print(\"---\")\n",
        "for r in generate_actions(df_merge[df_merge['lat'].notna()][:1]):\n",
        "    print(json.dumps(r[\"_source\"], indent=2))\n",
        "for r in generate_actions(df_merge[df_merge['causa_desc_es'].notna()][:1]):\n",
        "    print(json.dumps(r[\"_source\"], indent=2))"
      ]
    },
    {
      "cell_type": "code",
      "execution_count": 17,
      "id": "908fd0dc-1276-4781-884e-aa722a4f0f0d",
      "metadata": {
        "colab": {
          "base_uri": "https://localhost:8080/"
        },
        "id": "908fd0dc-1276-4781-884e-aa722a4f0f0d",
        "outputId": "a54ff7f3-6a65-4a0f-bcc1-3384caf9cc17"
      },
      "outputs": [
        {
          "output_type": "stream",
          "name": "stdout",
          "text": [
            "Start processing civio-fires\n",
            "Index is present, skipping upload\n",
            "CPU times: user 10.1 ms, sys: 2 µs, total: 10.1 ms\n",
            "Wall time: 85.6 ms\n"
          ]
        }
      ],
      "source": [
        "%%time\n",
        "from elasticsearch import helpers\n",
        "import time\n",
        "\n",
        "DELETE_INDEX=False\n",
        "\n",
        "print(f\"Start processing {index_name}\")\n",
        "\n",
        "# Remove the index if necessary\n",
        "if client.indices.exists(index=index_name):\n",
        "    if DELETE_INDEX:\n",
        "        print(f\"Deleting previous index {index_name}\")\n",
        "        client.indices.delete(index=index_name)\n",
        "    else:\n",
        "        print(\"Index is present, skipping upload\")\n",
        "\n",
        "if not client.indices.exists(index=index_name):\n",
        "    # Create the index with the correct mappings and properties\n",
        "    client.indices.create(index=index_name)\n",
        "\n",
        "    try:\n",
        "        # Perform the bulk ingestion\n",
        "        print(f\"Starting ingestion into {index_name}...\")\n",
        "        start_time = time.time()\n",
        "        success_count, errors = helpers.bulk(\n",
        "            client,\n",
        "            generate_actions(df_merge),\n",
        "            stats_only=True\n",
        "        )\n",
        "        end_time = time.time()\n",
        "\n",
        "        print(f\"Bulk ingestion completed in {end_time - start_time:.2f} seconds.\")\n",
        "        print(f\"Successfully indexed: {success_count} documents.\")\n",
        "        if errors:\n",
        "            print(f\"Errors encountered: {len(errors)}\")\n",
        "            print(\"First few errors:\", errors[:5]) # Uncomment to see actual errors\n",
        "\n",
        "        # (Optional) Refresh the index to make documents searchable immediately\n",
        "        # This is usually done for testing/development. For production, rely on refresh_interval.\n",
        "        refresh = client.indices.refresh(index=index_name)\n",
        "        if refresh.get(\"_shards\",{}).get(\"successful\",0) == 1:\n",
        "            print(\"Index refresh successful\")\n",
        "    except helpers.BulkIndexError as e:\n",
        "        from pprint import pprint\n",
        "        print(pprint(e.errors[0]))"
      ]
    },
    {
      "cell_type": "code",
      "execution_count": 18,
      "id": "1868b1ee-2d6a-4e83-9eb6-7b814bd5d5ba",
      "metadata": {
        "colab": {
          "base_uri": "https://localhost:8080/"
        },
        "id": "1868b1ee-2d6a-4e83-9eb6-7b814bd5d5ba",
        "outputId": "ef1ac8e0-8545-420f-e7b3-01552c2661f2"
      },
      "outputs": [
        {
          "output_type": "stream",
          "name": "stdout",
          "text": [
            "Data view not created\n",
            "Message: Duplicate data view: civio-fires\n"
          ]
        }
      ],
      "source": [
        "# Create a Kibana data view\n",
        "payload = {\n",
        "    \"data_view\": {\n",
        "        \"name\": index_name,\n",
        "        \"title\": index_name,\n",
        "        \"timeFieldName\": \"fecha\"\n",
        "  }\n",
        "}\n",
        "# Add the data view using the Kibana API\n",
        "r_dataview = kib_post(\"/api/data_views/data_view\", data=payload).json()\n",
        "\n",
        "if 'data_view' in r_dataview:\n",
        "    print(\"Data view created!\")\n",
        "else:\n",
        "    print(\"Data view not created\")\n",
        "    print(f\"Message: {r_dataview['message']}\")"
      ]
    },
    {
      "cell_type": "code",
      "execution_count": 19,
      "id": "089bf462-0879-4e7c-be5f-3ac9242df00a",
      "metadata": {
        "colab": {
          "base_uri": "https://localhost:8080/"
        },
        "id": "089bf462-0879-4e7c-be5f-3ac9242df00a",
        "outputId": "0f4b586f-47b3-4b76-c020-31bcbfa45a89"
      },
      "outputs": [
        {
          "output_type": "stream",
          "name": "stdout",
          "text": [
            "Verifying document count:\n",
            "Documents places-*: 292181\n",
            "\n",
            "Searching for documents\n",
            "{\n",
            "  \"id\": 1985275004,\n",
            "  \"geometry\": [\n",
            "    -7.4397402,\n",
            "    42.5531536\n",
            "  ],\n",
            "  \"fecha\": \"1985-10-03\",\n",
            "  \"latlng_explicit\": true,\n",
            "  \"superficie\": 112.0,\n",
            "  \"causa\": \"Intentional fire\",\n",
            "  \"causa_desc\": null,\n",
            "  \"causa_es\": \"Fuego intencionado\",\n",
            "  \"causa_desc_es\": null,\n",
            "  \"causa_supuesta\": true,\n",
            "  \"comunidad\": \"Galicia\",\n",
            "  \"provincia\": \"Lugo\",\n",
            "  \"municipio\": \"MONFORTE DE LEMOS\",\n",
            "  \"muertos\": 0,\n",
            "  \"heridos\": 0,\n",
            "  \"medios\": 2,\n",
            "  \"personal\": 32,\n",
            "  \"gastos\": 0,\n",
            "  \"perdidas\": 2,\n",
            "  \"time_ctrl\": 0,\n",
            "  \"time_ext\": 420\n",
            "}\n",
            "{\n",
            "  \"id\": 1985277859,\n",
            "  \"geometry\": [\n",
            "    -7.1736219,\n",
            "    42.7798126\n",
            "  ],\n",
            "  \"fecha\": \"1985-10-03\",\n",
            "  \"latlng_explicit\": true,\n",
            "  \"superficie\": 9.0,\n",
            "  \"causa\": \"Intentional fire\",\n",
            "  \"causa_desc\": null,\n",
            "  \"causa_es\": \"Fuego intencionado\",\n",
            "  \"causa_desc_es\": null,\n",
            "  \"causa_supuesta\": true,\n",
            "  \"comunidad\": \"Galicia\",\n",
            "  \"provincia\": \"Lugo\",\n",
            "  \"municipio\": \"NOGAIS, AS\",\n",
            "  \"muertos\": 0,\n",
            "  \"heridos\": 0,\n",
            "  \"medios\": 0,\n",
            "  \"personal\": 1,\n",
            "  \"gastos\": 0,\n",
            "  \"perdidas\": 1,\n",
            "  \"time_ctrl\": 0,\n",
            "  \"time_ext\": 600\n",
            "}\n",
            "{\n",
            "  \"id\": 1985312124,\n",
            "  \"geometry\": [\n",
            "    -1.7181918,\n",
            "    43.2885961\n",
            "  ],\n",
            "  \"fecha\": \"1985-10-03\",\n",
            "  \"latlng_explicit\": true,\n",
            "  \"superficie\": 2.0,\n",
            "  \"causa\": \"Fire caused by unknown reasons\",\n",
            "  \"causa_desc\": null,\n",
            "  \"causa_es\": \"Fuego por causa desconocida\",\n",
            "  \"causa_desc_es\": null,\n",
            "  \"causa_supuesta\": true,\n",
            "  \"comunidad\": \"Navarra, Comunidad Foral de\",\n",
            "  \"provincia\": \"Navarra\",\n",
            "  \"municipio\": \"LESAKA\",\n",
            "  \"muertos\": 0,\n",
            "  \"heridos\": 0,\n",
            "  \"medios\": 0,\n",
            "  \"personal\": 0,\n",
            "  \"gastos\": 0,\n",
            "  \"perdidas\": 0,\n",
            "  \"time_ctrl\": 0,\n",
            "  \"time_ext\": 1620\n",
            "}\n"
          ]
        }
      ],
      "source": [
        "# Verify ingestion by searching in the index\n",
        "print(\"Verifying document count:\")\n",
        "try:\n",
        "    count_response = client.count(index=index_name)\n",
        "    print(f\"Documents places-*: {count_response['count']}\")\n",
        "except Exception as e:\n",
        "    print(f\"Error verifying documents: {e}\")\n",
        "\n",
        "\n",
        "print(\"\\nSearching for documents\")\n",
        "try:\n",
        "    response = client.search(\n",
        "        index=index_name,\n",
        "        query={\"bool\": {\"filter\": {\"exists\": {\"field\": \"geometry\"}}}},\n",
        "        size=3\n",
        "    )\n",
        "\n",
        "    # Process the search results\n",
        "    if response['hits']['total']['value'] > 0:\n",
        "        for hit in response['hits']['hits']:\n",
        "            print(json.dumps(hit['_source'], indent=2))\n",
        "    else:\n",
        "        print(\"No documents found in the index.\")\n",
        "\n",
        "except Exception as e:\n",
        "    print(f\"Error during search: {e}\")"
      ]
    }
  ],
  "metadata": {
    "colab": {
      "provenance": [],
      "include_colab_link": true
    },
    "kernelspec": {
      "display_name": "Python 3 (ipykernel)",
      "language": "python",
      "name": "python3"
    },
    "language_info": {
      "codemirror_mode": {
        "name": "ipython",
        "version": 3
      },
      "file_extension": ".py",
      "mimetype": "text/x-python",
      "name": "python",
      "nbconvert_exporter": "python",
      "pygments_lexer": "ipython3",
      "version": "3.13.5"
    }
  },
  "nbformat": 4,
  "nbformat_minor": 5
}