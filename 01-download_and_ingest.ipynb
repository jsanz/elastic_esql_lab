{
  "cells": [
    {
      "cell_type": "markdown",
      "id": "0a51e27c-374b-4f35-812e-5d086cdd3fcc",
      "metadata": {
        "id": "0a51e27c-374b-4f35-812e-5d086cdd3fcc"
      },
      "source": [
        "# Prepare data"
      ]
    },
    {
      "cell_type": "markdown",
      "id": "8ed42302",
      "metadata": {
        "id": "8ed42302"
      },
      "source": [
        "Run this notebook in Google Colaboratory if your Elastic Stack is available from the internet. Otherwise, download the notebook and run it from your computer.\n",
        "\n",
        "https://colab.research.google.com/github/jsanz/foss4g_europe_lab/blob/main/01-download_and_ingest.ipynb"
      ]
    },
    {
      "cell_type": "code",
      "execution_count": 1,
      "id": "c1d23ca3-0851-413b-90e1-dc2a6e26dc8d",
      "metadata": {
        "id": "c1d23ca3-0851-413b-90e1-dc2a6e26dc8d"
      },
      "outputs": [],
      "source": [
        "# Install the dependencies for this lab\n",
        "!pip install -qU elasticsearch overturemaps geopandas matplotlib\n",
        "\n",
        "# Data dir\n",
        "WORK_DIR=\"./data\""
      ]
    },
    {
      "cell_type": "markdown",
      "id": "751eeb7e-3afd-4ac8-b751-28c95252e97f",
      "metadata": {
        "id": "751eeb7e-3afd-4ac8-b751-28c95252e97f"
      },
      "source": [
        "## Get the data from Overturemaps Places dataset"
      ]
    },
    {
      "cell_type": "markdown",
      "id": "0X_CKA7-GeKY",
      "metadata": {
        "id": "0X_CKA7-GeKY"
      },
      "source": [
        "Get Overturemaps Foundation Points of Interest (`places` dataset) using thir python library.\n",
        "\n",
        "[Library](https://github.com/OvertureMaps/overturemaps-py/tree/main) | [Documentation](https://docs.overturemaps.org/guides/places/)  | [Reference](https://docs.overturemaps.org/schema/reference/places/place/)"
      ]
    },
    {
      "cell_type": "code",
      "execution_count": 2,
      "id": "cbd7e26a-8060-4b4e-8cd2-44e396ecafff",
      "metadata": {
        "colab": {
          "base_uri": "https://localhost:8080/"
        },
        "id": "cbd7e26a-8060-4b4e-8cd2-44e396ecafff",
        "outputId": "cf5ae793-293b-4704-bfc8-f551d5681e0b"
      },
      "outputs": [
        {
          "output_type": "stream",
          "name": "stdout",
          "text": [
            "./data/places_bosnia.parquet already downloaded\n",
            "./data/places_valencia.parquet already downloaded\n",
            "./data/places_belem.parquet already downloaded\n",
            "./data/places_auckland.parquet already downloaded\n",
            "./data/places_victoria.parquet already downloaded\n",
            "./data/places_capetown.parquet already downloaded\n",
            "./data/places_seoul.parquet already downloaded\n",
            "CPU times: user 435 ms, sys: 52.9 ms, total: 488 ms\n",
            "Wall time: 608 ms\n"
          ]
        }
      ],
      "source": [
        "%%time\n",
        "import os\n",
        "import io\n",
        "import pandas as pd\n",
        "import geopandas as gpd\n",
        "from overturemaps import core\n",
        "\n",
        "# Get different bounding boxes from http://bboxfinder.com\n",
        "# or https://boundingbox.klokantech.com/\n",
        "places = {\n",
        "    \"bosnia\": { \"bbox\": [15.688477,41.873651,20.489502,45.278752]},\n",
        "    \"valencia\": {\"bbox\": [-0.432243,39.419221,-0.296288,39.504306]},\n",
        "    \"belem\": {\"bbox\": [-48.524294,-1.492160,-48.371258,-1.397691]},\n",
        "    \"auckland\": {\"bbox\": [174.484692,-37.071341,175.065937,-36.769142]},\n",
        "    \"victoria\": {\"bbox\": [-123.9091,48.2283,-122.8083,48.6444]},\n",
        "    \"capetown\": {\"bbox\": [18.1061,-34.4464,19.1823,-33.6852]},\n",
        "    \"seoul\": {\"bbox\": [126.9216,37.5381,127.0341,37.5963]}\n",
        "}\n",
        "\n",
        "# Create the data dir if not exists\n",
        "if not os.path.exists(WORK_DIR):\n",
        "    os.makedirs(WORK_DIR)\n",
        "\n",
        "for key, value in places.items():\n",
        "    places_path = os.path.join(WORK_DIR, f\"places_{key}.parquet\")\n",
        "    # Only download if file does not exist\n",
        "    if not os.path.isfile(path=places_path):\n",
        "\n",
        "        # Download places (POI) from the Overturemaps parquet release\n",
        "        # using the overture library\n",
        "        print(f\"Downloading data for {key}\")\n",
        "        gdf = core.geodataframe(\"place\",bbox=value[\"bbox\"])\n",
        "        print(f\"{len(gdf)} features downloaded into {places_path}\")\n",
        "\n",
        "        # Save the content into a file\n",
        "        gdf.to_parquet(path=places_path)\n",
        "    else:\n",
        "        print(f\"{places_path} already downloaded\")"
      ]
    },
    {
      "cell_type": "code",
      "execution_count": 3,
      "id": "c22137f5-6913-4878-bf71-baf2759c083b",
      "metadata": {
        "colab": {
          "base_uri": "https://localhost:8080/"
        },
        "id": "c22137f5-6913-4878-bf71-baf2759c083b",
        "outputId": "31ddbf5f-20a8-49ad-c663-d53211d3a128"
      },
      "outputs": [
        {
          "output_type": "stream",
          "name": "stdout",
          "text": [
            "166644 features loaded from ./data/places_bosnia.parquet\n",
            "36193 features loaded from ./data/places_valencia.parquet\n",
            "27736 features loaded from ./data/places_belem.parquet\n",
            "43678 features loaded from ./data/places_auckland.parquet\n",
            "15762 features loaded from ./data/places_victoria.parquet\n",
            "83924 features loaded from ./data/places_capetown.parquet\n",
            "34607 features loaded from ./data/places_seoul.parquet\n"
          ]
        }
      ],
      "source": [
        "# Get the parquet files from disk as GeoDataFrames into a list\n",
        "dataframes = []\n",
        "\n",
        "for key in places.keys():\n",
        "    places_path = os.path.join(WORK_DIR, f\"places_{key}.parquet\")\n",
        "    places[key][\"gdf\"] = gpd.read_parquet(path=places_path)\n",
        "    print(f\"{len(places[key]['gdf'])} features loaded from {places_path}\")\n"
      ]
    },
    {
      "cell_type": "code",
      "execution_count": 4,
      "id": "44be0ae4-c130-47eb-94e9-e195a90ad14d",
      "metadata": {
        "colab": {
          "base_uri": "https://localhost:8080/",
          "height": 669
        },
        "id": "44be0ae4-c130-47eb-94e9-e195a90ad14d",
        "outputId": "e01eab7a-d839-457a-c3c7-6b7451162fa4"
      },
      "outputs": [
        {
          "output_type": "execute_result",
          "data": {
            "text/plain": [
              "id                         284b4fcf-224a-438a-b665-9ca6f572d909\n",
              "geometry                          POINT (15.6921637 41.9091427)\n",
              "bbox          {'xmax': 15.69216537475586, 'xmin': 15.6921634...\n",
              "version                                                       1\n",
              "sources       [{'between': None, 'confidence': 0.98792562183...\n",
              "names         {'common': None, 'primary': 'Village Camping R...\n",
              "categories    {'alternate': ['restaurant', 'accommodation'],...\n",
              "confidence                                             0.987926\n",
              "websites                                [http://www.rancho.it/]\n",
              "socials                  [https://www.facebook.com/48506552944]\n",
              "emails                                                     None\n",
              "phones                                          [+393281871361]\n",
              "brand                                                      None\n",
              "addresses     [{'country': 'IT', 'freeform': 'Contrada Capoi...\n",
              "Name: 0, dtype: object"
            ],
            "text/html": [
              "<div>\n",
              "<style scoped>\n",
              "    .dataframe tbody tr th:only-of-type {\n",
              "        vertical-align: middle;\n",
              "    }\n",
              "\n",
              "    .dataframe tbody tr th {\n",
              "        vertical-align: top;\n",
              "    }\n",
              "\n",
              "    .dataframe thead th {\n",
              "        text-align: right;\n",
              "    }\n",
              "</style>\n",
              "<table border=\"1\" class=\"dataframe\">\n",
              "  <thead>\n",
              "    <tr style=\"text-align: right;\">\n",
              "      <th></th>\n",
              "      <th>0</th>\n",
              "    </tr>\n",
              "  </thead>\n",
              "  <tbody>\n",
              "    <tr>\n",
              "      <th>id</th>\n",
              "      <td>284b4fcf-224a-438a-b665-9ca6f572d909</td>\n",
              "    </tr>\n",
              "    <tr>\n",
              "      <th>geometry</th>\n",
              "      <td>POINT (15.6921637 41.9091427)</td>\n",
              "    </tr>\n",
              "    <tr>\n",
              "      <th>bbox</th>\n",
              "      <td>{'xmax': 15.69216537475586, 'xmin': 15.6921634...</td>\n",
              "    </tr>\n",
              "    <tr>\n",
              "      <th>version</th>\n",
              "      <td>1</td>\n",
              "    </tr>\n",
              "    <tr>\n",
              "      <th>sources</th>\n",
              "      <td>[{'between': None, 'confidence': 0.98792562183...</td>\n",
              "    </tr>\n",
              "    <tr>\n",
              "      <th>names</th>\n",
              "      <td>{'common': None, 'primary': 'Village Camping R...</td>\n",
              "    </tr>\n",
              "    <tr>\n",
              "      <th>categories</th>\n",
              "      <td>{'alternate': ['restaurant', 'accommodation'],...</td>\n",
              "    </tr>\n",
              "    <tr>\n",
              "      <th>confidence</th>\n",
              "      <td>0.987926</td>\n",
              "    </tr>\n",
              "    <tr>\n",
              "      <th>websites</th>\n",
              "      <td>[http://www.rancho.it/]</td>\n",
              "    </tr>\n",
              "    <tr>\n",
              "      <th>socials</th>\n",
              "      <td>[https://www.facebook.com/48506552944]</td>\n",
              "    </tr>\n",
              "    <tr>\n",
              "      <th>emails</th>\n",
              "      <td>None</td>\n",
              "    </tr>\n",
              "    <tr>\n",
              "      <th>phones</th>\n",
              "      <td>[+393281871361]</td>\n",
              "    </tr>\n",
              "    <tr>\n",
              "      <th>brand</th>\n",
              "      <td>None</td>\n",
              "    </tr>\n",
              "    <tr>\n",
              "      <th>addresses</th>\n",
              "      <td>[{'country': 'IT', 'freeform': 'Contrada Capoi...</td>\n",
              "    </tr>\n",
              "  </tbody>\n",
              "</table>\n",
              "</div><br><label><b>dtype:</b> object</label>"
            ]
          },
          "metadata": {},
          "execution_count": 4
        },
        {
          "output_type": "display_data",
          "data": {
            "text/plain": [
              "<Figure size 640x480 with 1 Axes>"
            ],
            "image/png": "[encoded data removed]"
          },
          "metadata": {}
        }
      ],
      "source": [
        "# See the first row and some points on a map\n",
        "gdf = list(places.items())[0][1][\"gdf\"]\n",
        "# See the first row and some points on a map\n",
        "gdf.head(200).plot()\n",
        "gdf.iloc[0]"
      ]
    },
    {
      "cell_type": "markdown",
      "id": "6121cdc3-6587-4a88-9d15-63c91302ff6c",
      "metadata": {
        "id": "6121cdc3-6587-4a88-9d15-63c91302ff6c"
      },
      "source": [
        "## Connect to Elasticsearch"
      ]
    },
    {
      "cell_type": "markdown",
      "id": "mXCfulGBqUIZ",
      "metadata": {
        "id": "mXCfulGBqUIZ"
      },
      "source": [
        "If running in Google Colab, get the Elastic cluster credentials from the session **Secrets**. Otherwise update the cell to use `os.getenv` to get details from environment variables, for example."
      ]
    },
    {
      "cell_type": "code",
      "execution_count": 5,
      "id": "9760861d-f9cf-4934-a499-7d5a1562656d",
      "metadata": {
        "id": "9760861d-f9cf-4934-a499-7d5a1562656d"
      },
      "outputs": [],
      "source": [
        "try:\n",
        "    from google.colab import userdata\n",
        "    from elasticsearch import Elasticsearch\n",
        "    # Login details\n",
        "    ES_URL=userdata.get('es_url_foss4ge')\n",
        "    KB_URL=userdata.get('kb_url_foss4ge')\n",
        "    ES_APIKEY=userdata.get('apikey_foss4ge')\n",
        "except ImportError:\n",
        "    if os.environ.get('ES_URL') and os.environ.get('KB_URL'):\n",
        "        import os\n",
        "        # Local development\n",
        "        ES_URL = os.environ.get('ES_URL', 'http://localhost:9200')\n",
        "        KB_URL = os.environ.get('KB_URL', 'http://localhost:8000')\n",
        "        ES_APIKEY = os.environ.get('ES_APIKEY', None)\n",
        "    else:\n",
        "        import getpass\n",
        "        ES_URL = getpass.getpass(prompt='Enter the Elasticsearch URL: ')\n",
        "        KB_URL = getpass.getpass(prompt='Enter the Kibana URL: ')\n",
        "        ES_APIKEY = getpass.getpass(prompt='Enter the Elasticsearch API Key: ')"
      ]
    },
    {
      "cell_type": "code",
      "execution_count": 6,
      "id": "d2b1805c-0882-4a4a-81c3-b2e752eb22aa",
      "metadata": {
        "colab": {
          "base_uri": "https://localhost:8080/"
        },
        "id": "d2b1805c-0882-4a4a-81c3-b2e752eb22aa",
        "outputId": "563c9d22-5309-41c9-dac9-d9857add6e27"
      },
      "outputs": [
        {
          "output_type": "stream",
          "name": "stdout",
          "text": [
            "Connected to https://foss4ge-lab.es.us-central1.gcp.cloud.es.io\n",
            "Elasticsearch URL: https://foss4ge-lab.es.us-central1.gcp.cloud.es.io\n",
            "Cluster name: instance-0000000003\n",
            "Version: 9.0.3\n",
            "License is active and on **enterprise** until **2028-02-29T23:59:59.999Z**\n"
          ]
        }
      ],
      "source": [
        "from elasticsearch import Elasticsearch\n",
        "\n",
        "# Create the Elasticsearch lient and print some cluster details\n",
        "client = Elasticsearch(hosts=[ES_URL], api_key=ES_APIKEY)\n",
        "\n",
        "if client.ping():\n",
        "  print(f\"Connected to {ES_URL}\")\n",
        "  c_info = client.info()\n",
        "  c_license = client.license.get()['license']\n",
        "  is_serverless = c_info['version']['build_flavor'] == 'serverless'\n",
        "\n",
        "  print(f\"Elasticsearch URL: {ES_URL}\")\n",
        "  print(f\"Cluster name: {c_info['name']}\")\n",
        "  print(f\"Version: {c_info['version']['number'] if not is_serverless else 'serverless'}\")\n",
        "  print(f\"License is {c_license.get('status')} and on **{c_license.get('type')}** until **{c_license.get('expiry_date', 'N/A')}**\")\n",
        "else:\n",
        "  print(\"Connection failed\")"
      ]
    },
    {
      "cell_type": "markdown",
      "id": "04121822-7943-46ab-9785-5cb522a00d73",
      "metadata": {
        "id": "04121822-7943-46ab-9785-5cb522a00d73"
      },
      "source": [
        "## Connect to Kibana"
      ]
    },
    {
      "cell_type": "code",
      "execution_count": 7,
      "id": "0369115c-7e8d-4bd0-a0d2-0348c7d3746a",
      "metadata": {
        "id": "0369115c-7e8d-4bd0-a0d2-0348c7d3746a"
      },
      "outputs": [],
      "source": [
        "import requests\n",
        "import json\n",
        "from functools import partial\n",
        "\n",
        "session = requests.Session()\n",
        "kibana_headers = {\n",
        "    \"kbn-xsrf\": \"true\",\n",
        "    \"Content-Type\": \"application/json\",\n",
        "    \"Authorization\": f\"ApiKey {ES_APIKEY}\"\n",
        "    }\n",
        "\n",
        "# Helper functions to just pass API paths and data\n",
        "def kib_get(path):\n",
        "    return session.get(f\"{KB_URL}{path}\", headers=kibana_headers)\n",
        "def kib_put(path, data):\n",
        "    return session.put(f\"{KB_URL}{path}\",\n",
        "                       headers=kibana_headers,\n",
        "                       data=json.dumps(data))\n",
        "def kib_post(path, data):\n",
        "    return session.post(f\"{KB_URL}{path}\",\n",
        "                        headers=kibana_headers,\n",
        "                        data=json.dumps(data))"
      ]
    },
    {
      "cell_type": "code",
      "execution_count": 8,
      "id": "e6444281-309a-482f-af10-955a016531c5",
      "metadata": {
        "colab": {
          "base_uri": "https://localhost:8080/"
        },
        "id": "e6444281-309a-482f-af10-955a016531c5",
        "outputId": "1bb89375-00bc-4495-fadd-130b1703eb1b"
      },
      "outputs": [
        {
          "output_type": "stream",
          "name": "stdout",
          "text": [
            "Kibana URL: https://foss4ge-lab.kb.us-central1.gcp.cloud.es.io\n",
            "{\n",
            "  \"level\": \"available\",\n",
            "  \"summary\": \"All services and plugins are available\"\n",
            "}\n"
          ]
        }
      ],
      "source": [
        "# Check the status\n",
        "print(f\"Kibana URL: {KB_URL}\")\n",
        "k_status = kib_get(\"/api/status\").json()\n",
        "if 'status' in k_status:\n",
        "    print(json.dumps(k_status['status']['overall'], indent=2))\n",
        "else:\n",
        "    print(\"Kibana is not available\")"
      ]
    },
    {
      "cell_type": "code",
      "execution_count": 9,
      "id": "2cf6eace-87f0-415c-b001-b0beb3355f2e",
      "metadata": {
        "colab": {
          "base_uri": "https://localhost:8080/"
        },
        "id": "2cf6eace-87f0-415c-b001-b0beb3355f2e",
        "outputId": "8fb34e93-a971-4eb0-deee-7396bf51a2a1"
      },
      "outputs": [
        {
          "output_type": "stream",
          "name": "stdout",
          "text": [
            "Space is already a search type\n"
          ]
        }
      ],
      "source": [
        "# Optional: change default space to Search type (simpler UI)\n",
        "desired_solution = \"es\"\n",
        "\n",
        "# Get the default space data\n",
        "default_space = kib_get(\"/api/spaces/space/default\").json()\n",
        "\n",
        "if not is_serverless:\n",
        "    # If a solution is not defined or the desired, change it\n",
        "    solution = default_space.get(\"solution\", False)\n",
        "    if solution != desired_solution:\n",
        "        payload = {\n",
        "            \"id\": default_space[\"id\"],\n",
        "            \"name\": default_space[\"name\"],\n",
        "            \"solution\": desired_solution\n",
        "        }\n",
        "\n",
        "        # Modify the Space with the new solution\n",
        "        r_space = kib_put(\"/api/spaces/space/default\", data=payload)\n",
        "        r_space_json = r_space.json()\n",
        "        print(f\"Space is now a '{r_space_json.get('solution')}' type\")\n",
        "    else:\n",
        "        print(\"Space is already a search type\")\n",
        "else:\n",
        "    print(\"Serverless projects can't set up Spaces solutions\")"
      ]
    },
    {
      "cell_type": "markdown",
      "id": "20e1ed20-7ccd-4a9c-8658-a5386ccaf576",
      "metadata": {
        "id": "20e1ed20-7ccd-4a9c-8658-a5386ccaf576"
      },
      "source": [
        "## Upload the Overturemaps datasets"
      ]
    },
    {
      "cell_type": "code",
      "execution_count": 10,
      "id": "e0257ef9-84db-4eae-8d7d-3241d2531231",
      "metadata": {
        "colab": {
          "base_uri": "https://localhost:8080/"
        },
        "id": "e0257ef9-84db-4eae-8d7d-3241d2531231",
        "outputId": "9dd76f5a-23e3-41a7-a496-0303937cea90"
      },
      "outputs": [
        {
          "output_type": "execute_result",
          "data": {
            "text/plain": [
              "ObjectApiResponse({'acknowledged': True})"
            ]
          },
          "metadata": {},
          "execution_count": 10
        }
      ],
      "source": [
        "# Define an index template for places indices\n",
        "index_shards = 1\n",
        "index_replicas = 0 if ES_URL.startswith(\"http://elasticsearch\") else 1\n",
        "\n",
        "component_template_body = {\n",
        "    \"mappings\": {\n",
        "        \"properties\": {\n",
        "            \"id\": {\"type\": \"text\"},\n",
        "            \"geometry\": {\"type\": \"geo_point\"},\n",
        "            \"version\": {\"type\": \"integer\"},\n",
        "            \"source\": {\"type\": \"keyword\"},\n",
        "            \"confidence\": {\"type\": \"float\"},\n",
        "            \"name\": {\"type\": \"text\"},\n",
        "            \"category\": {\"type\": \"keyword\"},\n",
        "            \"alt_categories\": {\"type\": \"keyword\"},\n",
        "            \"websites\": {\"type\": \"text\"},\n",
        "            \"socials\": {\"type\": \"text\"},\n",
        "            \"emails\": {\"type\": \"text\"},\n",
        "            \"phones\": {\"type\": \"text\"},\n",
        "            \"brand\": {\"type\": \"keyword\"},\n",
        "            \"addresses\": {\n",
        "                \"properties\": {\n",
        "                    \"country\": {\"type\": \"keyword\"},\n",
        "                    \"freeform\": {\"type\": \"text\"},\n",
        "                    \"locality\": {\"type\": \"keyword\"},\n",
        "                    \"postcode\": {\"type\": \"keyword\"},\n",
        "                    \"region\": {\"type\": \"keyword\"},\n",
        "                }\n",
        "            },\n",
        "            \"updated\": {\"type\": \"date\"}\n",
        "        }\n",
        "    }\n",
        "}\n",
        "\n",
        "# Self-hosted allow to set up shards and replica settings\n",
        "if not is_serverless:\n",
        "    component_template_body[\"settings\"] = {\n",
        "        \"number_of_shards\": index_shards,\n",
        "        \"number_of_replicas\": index_replicas\n",
        "    }\n",
        "\n",
        "# Create a template that automatically configures indices named as places*\n",
        "client.indices.put_index_template(\n",
        "    name=\"overturemaps-places\",\n",
        "    index_patterns=\"places-*\",\n",
        "    template=component_template_body)"
      ]
    },
    {
      "cell_type": "code",
      "execution_count": 11,
      "id": "0e253d23-b1af-4379-8054-5c88ad81e031",
      "metadata": {
        "id": "0e253d23-b1af-4379-8054-5c88ad81e031"
      },
      "outputs": [],
      "source": [
        "# Generator funcion to yield documents to upload to ES\n",
        "def generate_actions(gdf):\n",
        "    for index, doc in gdf.iterrows():\n",
        "        yield {\n",
        "            \"_index\": index_name,\n",
        "            \"_id\": doc[\"id\"],\n",
        "            \"_source\": {\n",
        "                \"id\": doc[\"id\"],\n",
        "                \"geometry\": str(doc[\"geometry\"]),\n",
        "                \"version\": doc[\"version\"],\n",
        "                \"source\": [s.get(\"dataset\",None) for s in doc.get(\"sources\",[])],\n",
        "                \"name\": doc.get(\"names\").get(\"primary\", None) if \"names\" in doc else None,\n",
        "                \"category\": doc.get(\"categories\").get(\"primary\", None) if \"categories\" in doc else None,\n",
        "                \"alt_categories\": doc.get(\"categories\").get(\"alternate\", []),\n",
        "                \"brand\": doc.get(\"brand\").get(\"primary\",None) if doc.get(\"brand\", None) is not None else None,\n",
        "                \"websites\": doc.get(\"websites\",[]),\n",
        "                \"socials\": doc.get(\"socials\",[]),\n",
        "                \"emails\": doc.get(\"emails\",[]),\n",
        "                \"phones\": doc.get(\"phones\",[]),\n",
        "                \"addresses\": doc.get(\"addresses\",[]),\n",
        "                \"updated\": [s.get('update_time') for s in doc.get('sources')][0],\n",
        "                \"confidence\": [s.get('confidence') for s in doc.get('sources')][0],\n",
        "            }\n",
        "        }"
      ]
    },
    {
      "cell_type": "code",
      "execution_count": 12,
      "id": "69c2c4f9-bfdf-4b40-9d23-91c45addd8c3",
      "metadata": {
        "colab": {
          "base_uri": "https://localhost:8080/"
        },
        "id": "69c2c4f9-bfdf-4b40-9d23-91c45addd8c3",
        "outputId": "a37ac293-fd46-4556-f5ed-d06e929c5cb3"
      },
      "outputs": [
        {
          "output_type": "stream",
          "name": "stdout",
          "text": [
            "Start processing places-bosnia\n",
            "Index is present, skipping upload\n",
            "Start processing places-valencia\n",
            "Index is present, skipping upload\n",
            "Start processing places-belem\n",
            "Index is present, skipping upload\n",
            "Start processing places-auckland\n",
            "Index is present, skipping upload\n",
            "Start processing places-victoria\n",
            "Index is present, skipping upload\n",
            "Start processing places-capetown\n",
            "Index is present, skipping upload\n",
            "Start processing places-seoul\n",
            "Index is present, skipping upload\n",
            "CPU times: user 17.3 ms, sys: 2.79 ms, total: 20.1 ms\n",
            "Wall time: 84.3 ms\n"
          ]
        }
      ],
      "source": [
        "%%time\n",
        "from elasticsearch import helpers\n",
        "import time\n",
        "\n",
        "DELETE_INDEX=False\n",
        "\n",
        "# Iterate over the geodataframes to create\n",
        "# one index per parquet file\n",
        "for key, value in places.items():\n",
        "    index_name = f\"places-{key}\"\n",
        "    print(f\"Start processing {index_name}\")\n",
        "\n",
        "    # Remove the index if necessary\n",
        "    if client.indices.exists(index=index_name):\n",
        "        if DELETE_INDEX:\n",
        "            print(f\"Deleting previous index {index_name}\")\n",
        "            client.indices.delete(index=index_name)\n",
        "        else:\n",
        "            print(\"Index is present, skipping upload\")\n",
        "\n",
        "    if not client.indices.exists(index=index_name):\n",
        "        # Create the index with the correct mappings and properties\n",
        "        client.indices.create(index=index_name)\n",
        "\n",
        "        # Perform the bulk ingestion\n",
        "        print(f\"Starting ingestion into {index_name}...\")\n",
        "        start_time = time.time()\n",
        "        success_count, errors = helpers.bulk(\n",
        "            client,\n",
        "            generate_actions(value[\"gdf\"]),\n",
        "            stats_only=True\n",
        "        )\n",
        "        end_time = time.time()\n",
        "\n",
        "        print(f\"Bulk ingestion completed in {end_time - start_time:.2f} seconds.\")\n",
        "        print(f\"Successfully indexed: {success_count} documents.\")\n",
        "        if errors:\n",
        "            print(f\"Errors encountered: {len(errors)}\")\n",
        "            # print(\"First few errors:\", errors[:5]) # Uncomment to see actual errors\n",
        "\n",
        "        # (Optional) Refresh the index to make documents searchable immediately\n",
        "        # This is usually done for testing/development. For production, rely on refresh_interval.\n",
        "        refresh = client.indices.refresh(index=index_name)\n",
        "        if refresh.get(\"_shards\",{}).get(\"successful\",0) == 1:\n",
        "            print(\"Index refresh successful\")\n",
        "\n",
        "        print(\"-----------------------------------\")"
      ]
    },
    {
      "cell_type": "code",
      "execution_count": 13,
      "id": "9611def7-14cd-46e9-8271-f3239513ff90",
      "metadata": {
        "colab": {
          "base_uri": "https://localhost:8080/"
        },
        "id": "9611def7-14cd-46e9-8271-f3239513ff90",
        "outputId": "cfc31306-a46a-4c77-b39d-24929e1af953"
      },
      "outputs": [
        {
          "output_type": "stream",
          "name": "stdout",
          "text": [
            "Data view not created\n",
            "Message: Duplicate data view: Overturemaps Places\n"
          ]
        }
      ],
      "source": [
        "# Create a Kibana data view for the places-* pattern\n",
        "payload = {\n",
        "    \"data_view\": {\n",
        "        \"name\": \"Overturemaps Places\",\n",
        "        \"title\": \"places-*\",\n",
        "        \"timeFieldName\": \"update_time\"\n",
        "  }\n",
        "}\n",
        "# Add the data view using the Kibana API\n",
        "r_dataview = kib_post(\"/api/data_views/data_view\", data=payload).json()\n",
        "\n",
        "if 'data_view' in r_dataview:\n",
        "    print(\"Data view created!\")\n",
        "else:\n",
        "    print(\"Data view not created\")\n",
        "    print(f\"Message: {r_dataview['message']}\")"
      ]
    },
    {
      "cell_type": "code",
      "execution_count": 14,
      "id": "df85fbc2-878b-4ddd-bc3e-db65af2f09f0",
      "metadata": {
        "colab": {
          "base_uri": "https://localhost:8080/"
        },
        "id": "df85fbc2-878b-4ddd-bc3e-db65af2f09f0",
        "outputId": "524bc9fa-41d3-40e7-cc15-36ba84feb5d3"
      },
      "outputs": [
        {
          "output_type": "stream",
          "name": "stdout",
          "text": [
            "Verifying document count in all places indices':\n",
            "Documents places-*: 495002\n",
            "\n",
            "Searching for documents in places-* with names...\n",
            "[places-auckland] Euromotive [automotive_repair]\n",
            "[places-auckland] Auckland Steel Fabrications Ltd [metal_fabricator]\n",
            "[places-auckland] Sparkz Automotive and Electrical [automotive_repair]\n",
            "[places-auckland] Wrought iron Specialists [metal_fabricator]\n",
            "[places-auckland] SFI [freight_forwarding_agency]\n",
            "[places-auckland] Supply Force International [industrial_equipment]\n",
            "[places-auckland] Otara Samoan Assembly of God [church_cathedral]\n",
            "[places-auckland] Sara Petesa A'oga Amata [school]\n",
            "[places-auckland] Apex Airconditioning Ltd [hvac_services]\n",
            "[places-auckland] Auto-Mobile Mechanics [automotive_repair]\n"
          ]
        }
      ],
      "source": [
        "# Verify ingestion by searching in places-*\n",
        "print(\"Verifying document count in all places indices':\")\n",
        "try:\n",
        "    count_response = client.count(index=\"places-*\")\n",
        "    print(f\"Documents places-*: {count_response['count']}\")\n",
        "except Exception as e:\n",
        "    print(f\"Error verifying documents: {e}\")\n",
        "\n",
        "\n",
        "print(\"\\nSearching for documents in places-* with names...\")\n",
        "try:\n",
        "    response = client.search(\n",
        "        index=\"places-*\",\n",
        "        query={\"bool\": {\"filter\": {\"exists\": {\"field\": \"name\"}}}},\n",
        "        size=10\n",
        "    )\n",
        "\n",
        "    # Process the search results\n",
        "    if response['hits']['total']['value'] > 0:\n",
        "        for hit in response['hits']['hits']:\n",
        "            print(f\"[{hit['_index']}] {hit['_source']['name']} [{hit['_source']['category']}]\")\n",
        "    else:\n",
        "        print(\"No documents found in the index.\")\n",
        "\n",
        "except Exception as e:\n",
        "    print(f\"Error during search: {e}\")"
      ]
    },
    {
      "cell_type": "markdown",
      "id": "cda4460b-43cc-4603-a7dd-a7781032a62e",
      "metadata": {
        "id": "cda4460b-43cc-4603-a7dd-a7781032a62e"
      },
      "source": [
        "## Download and ingest Countries data"
      ]
    },
    {
      "cell_type": "code",
      "execution_count": 15,
      "id": "466036e1-8354-48aa-b4a1-11ebc7d20483",
      "metadata": {
        "colab": {
          "base_uri": "https://localhost:8080/"
        },
        "id": "466036e1-8354-48aa-b4a1-11ebc7d20483",
        "outputId": "1664ba1b-56ea-4158-d60d-e4e8a26a0df7"
      },
      "outputs": [
        {
          "output_type": "stream",
          "name": "stdout",
          "text": [
            "data/ne_10m_admin_0_countries.shp ready to use\n"
          ]
        }
      ],
      "source": [
        "# Download and uncompress the NaturalEarth countries dataset\n",
        "from io import BytesIO\n",
        "import zipfile\n",
        "\n",
        "ne_countries_shp = \"data/ne_10m_admin_0_countries.shp\"\n",
        "\n",
        "try:\n",
        "    if not os.path.exists(ne_countries_shp):\n",
        "        url = \"https://naciscdn.org/naturalearth/10m/cultural/ne_10m_admin_0_countries.zip\"\n",
        "        extract_to = \"data/\"\n",
        "        print(f\"Downloading zip file from: {url}\")\n",
        "        response = requests.get(url, stream=True)\n",
        "        response.raise_for_status()  # Raise an exception for bad status codes (4xx or 5xx)\n",
        "\n",
        "        # Create a BytesIO object from the response content\n",
        "        zip_file_in_memory = BytesIO(response.content)\n",
        "\n",
        "        print(f\"Extracting contents to: {os.path.abspath(extract_to)}\")\n",
        "        # Create the extraction directory if it doesn't exist\n",
        "        os.makedirs(extract_to, exist_ok=True)\n",
        "\n",
        "        with zipfile.ZipFile(zip_file_in_memory, 'r') as zf:\n",
        "            zf.extractall(extract_to)\n",
        "        print(\"Zip file successfully downloaded and uncompressed.\")\n",
        "    else:\n",
        "        print(\"data/ne_10m_admin_0_countries.shp ready to use\")\n",
        "except requests.exceptions.RequestException as e:\n",
        "    print(f\"Error downloading the file: {e}\")\n",
        "except zipfile.BadZipFile:\n",
        "    print(\"Error: The downloaded file is not a valid zip file.\")\n",
        "except Exception as e:\n",
        "    print(f\"An unexpected error occurred: {e}\")\n"
      ]
    },
    {
      "cell_type": "code",
      "execution_count": 16,
      "id": "aed9df7c-8353-405b-989b-9ec28200c0f6",
      "metadata": {
        "id": "aed9df7c-8353-405b-989b-9ec28200c0f6"
      },
      "outputs": [],
      "source": [
        "gdf = gpd.GeoDataFrame.from_file(ne_countries_shp)\n",
        "\n",
        "# Simplify the geometries before uploading\n",
        "gdf['geometry'] = gdf['geometry'].simplify(0.0001, preserve_topology=True)"
      ]
    },
    {
      "cell_type": "code",
      "execution_count": 17,
      "id": "1ea48bb8-7dea-4074-8ef3-56206448c951",
      "metadata": {
        "colab": {
          "base_uri": "https://localhost:8080/"
        },
        "id": "1ea48bb8-7dea-4074-8ef3-56206448c951",
        "outputId": "8598edd5-bddc-4410-d83b-e4f2b9fa0d27"
      },
      "outputs": [
        {
          "output_type": "execute_result",
          "data": {
            "text/plain": [
              "ObjectApiResponse({'acknowledged': True})"
            ]
          },
          "metadata": {},
          "execution_count": 17
        }
      ],
      "source": [
        "# Select the columns to ingest as field mappings\n",
        "component_template_body = {\n",
        "    \"mappings\": {\n",
        "        \"properties\": {\n",
        "            \"id\": {\"type\": \"text\"},\n",
        "            \"geometry\": {\"type\": \"geo_shape\"},\n",
        "            \"type\": {\"type\": \"keyword\"},\n",
        "            \"name\": {\"type\": \"text\"},\n",
        "            \"iso_a2\": {\"type\": \"keyword\"},\n",
        "            \"iso_a3\": {\"type\": \"keyword\"},\n",
        "            \"continent\": {\"type\": \"keyword\"},\n",
        "            \"region_un\": {\"type\": \"keyword\"},\n",
        "            \"subregion\": {\"type\": \"keyword\"},\n",
        "            \"economy\": {\"type\": \"keyword\"},\n",
        "            \"income_grp\": {\"type\": \"keyword\"},\n",
        "            \"pop_est\": {\"type\": \"integer\"},\n",
        "            \"gdp_md\": {\"type\": \"integer\"},\n",
        "        }\n",
        "    }\n",
        "}\n",
        "\n",
        "# Self-hosted allow to set up shards and replica settings\n",
        "if not is_serverless:\n",
        "    component_template_body[\"settings\"] = {\n",
        "        \"number_of_shards\": 1,\n",
        "        \"number_of_replicas\": 0,\n",
        "        \"index.mode\": \"lookup\"\n",
        "    }\n",
        "\n",
        "# Create a template that automatically configures indices named as places*\n",
        "client.indices.put_index_template(\n",
        "    name=\"overturemaps-places\",\n",
        "    index_patterns=\"ne_countries\",\n",
        "    template=component_template_body)"
      ]
    },
    {
      "cell_type": "code",
      "execution_count": 18,
      "id": "27cf1d8e-7e05-484b-b997-ffb555896adb",
      "metadata": {
        "id": "27cf1d8e-7e05-484b-b997-ffb555896adb"
      },
      "outputs": [],
      "source": [
        "# Generator funcion to yield documents to upload to ES\n",
        "def generate_actions(gdf):\n",
        "    for index, doc in gdf.iterrows():\n",
        "        yield {\n",
        "            \"_index\": index_name,\n",
        "            \"_source\": {\n",
        "                \"id\": doc[\"WOE_ID_EH\"],\n",
        "                \"geometry\": str(doc[\"geometry\"]),\n",
        "                \"type\": doc[\"TYPE\"],\n",
        "                \"name\": doc[\"NAME\"],\n",
        "                \"iso_a2\": doc[\"ISO_A2_EH\"],\n",
        "                \"iso_a3\": doc[\"ISO_A3_EH\"],\n",
        "                \"continent\": doc[\"CONTINENT\"],\n",
        "                \"region_un\": doc[\"REGION_UN\"],\n",
        "                \"subregion\": doc[\"SUBREGION\"],\n",
        "                \"economy\": doc[\"ECONOMY\"],\n",
        "                \"income_grp\": doc[\"INCOME_GRP\"],\n",
        "                \"pop_est\": doc[\"POP_EST\"],\n",
        "                \"gdp_md\": doc[\"GDP_MD\"],\n",
        "            }\n",
        "        }"
      ]
    },
    {
      "cell_type": "code",
      "execution_count": 19,
      "id": "ee2bfaac-a0df-43c7-a13c-45842c291d04",
      "metadata": {
        "colab": {
          "base_uri": "https://localhost:8080/"
        },
        "id": "ee2bfaac-a0df-43c7-a13c-45842c291d04",
        "outputId": "1db95d50-8d78-4ae9-f46b-46129af026b7"
      },
      "outputs": [
        {
          "output_type": "stream",
          "name": "stdout",
          "text": [
            "Start processing ne_countries\n",
            "Index is present, skipping upload\n",
            "CPU times: user 2.8 ms, sys: 52 µs, total: 2.85 ms\n",
            "Wall time: 11.4 ms\n"
          ]
        }
      ],
      "source": [
        "%%time\n",
        "from elasticsearch import helpers\n",
        "import time\n",
        "\n",
        "DELETE_INDEX=False\n",
        "\n",
        "index_name = \"ne_countries\"\n",
        "print(f\"Start processing {index_name}\")\n",
        "\n",
        "# Remove the index if necessary\n",
        "if client.indices.exists(index=index_name):\n",
        "    if DELETE_INDEX:\n",
        "        print(f\"Deleting previous index {index_name}\")\n",
        "        client.indices.delete(index=index_name)\n",
        "    else:\n",
        "        print(\"Index is present, skipping upload\")\n",
        "\n",
        "if not client.indices.exists(index=index_name):\n",
        "    # Create the index with the correct mappings and properties\n",
        "    client.indices.create(index=index_name)\n",
        "\n",
        "    # Perform the bulk ingestion\n",
        "    print(f\"Starting ingestion into {index_name}...\")\n",
        "    start_time = time.time()\n",
        "    success_count, errors = helpers.bulk(\n",
        "        client,\n",
        "        generate_actions(gdf),\n",
        "        stats_only=True,\n",
        "        chunk_size=50,\n",
        "        raise_on_error=False\n",
        "    )\n",
        "    end_time = time.time()\n",
        "\n",
        "    print(f\"Bulk ingestion completed in {end_time - start_time:.2f} seconds.\")\n",
        "    print(f\"Successfully indexed: {success_count} documents.\")\n",
        "    if errors:\n",
        "        print(errors)\n",
        "        # print(f\"Errors encountered: {len(errors)}\")\n",
        "        # print(\"First few errors:\", errors[:5]) # Uncomment to see actual errors\n",
        "\n",
        "    # (Optional) Refresh the index to make documents searchable immediately\n",
        "    # This is usually done for testing/development. For production, rely on refresh_interval.\n",
        "    refresh = client.indices.refresh(index=index_name)\n",
        "    if refresh.get(\"_shards\",{}).get(\"successful\",0) == 1:\n",
        "        print(\"Index refresh successful\")\n",
        "\n",
        "    print(\"-----------------------------------\")"
      ]
    },
    {
      "cell_type": "code",
      "execution_count": 20,
      "id": "03ae5ee6-e178-4c7e-a036-826971749c81",
      "metadata": {
        "colab": {
          "base_uri": "https://localhost:8080/"
        },
        "id": "03ae5ee6-e178-4c7e-a036-826971749c81",
        "outputId": "8c54b0d7-a51f-40a3-e293-94b378ff924b"
      },
      "outputs": [
        {
          "output_type": "stream",
          "name": "stdout",
          "text": [
            "Data view not created\n",
            "Message: Duplicate data view: NaturalEarth Countries\n"
          ]
        }
      ],
      "source": [
        "# Create a Kibana data view for the places-* pattern\n",
        "payload = {\n",
        "    \"data_view\": {\n",
        "        \"name\": \"NaturalEarth Countries\",\n",
        "        \"title\": index_name\n",
        "  }\n",
        "}\n",
        "# Add the data view using the Kibana API\n",
        "r_dataview = kib_post(\"/api/data_views/data_view\", data=payload).json()\n",
        "\n",
        "if 'data_view' in r_dataview:\n",
        "    print(\"Data view created!\")\n",
        "else:\n",
        "    print(\"Data view not created\")\n",
        "    print(f\"Message: {r_dataview['message']}\")"
      ]
    },
    {
      "cell_type": "code",
      "execution_count": 21,
      "id": "8639de70-1708-4aac-94e2-d26400f2f468",
      "metadata": {
        "colab": {
          "base_uri": "https://localhost:8080/"
        },
        "id": "8639de70-1708-4aac-94e2-d26400f2f468",
        "outputId": "429041d8-877e-4af1-ddb1-c81498c34bf7"
      },
      "outputs": [
        {
          "output_type": "stream",
          "name": "stdout",
          "text": [
            "\n",
            "Verifying document count:\n",
            "Documents places-*: 257\n",
            "\n",
            "Searching for countries of type Lease...\n",
            "[ne_countries] USNB Guantanamo Bay [USNB Guantanamo Bay]\n",
            "[ne_countries] Baikonur [Baikonur]\n"
          ]
        }
      ],
      "source": [
        "# Verify ingestion by searching in places-*\n",
        "print(f\"\\nVerifying document count:\")\n",
        "try:\n",
        "    count_response = client.count(index=index_name)\n",
        "    print(f\"Documents places-*: {count_response['count']}\")\n",
        "except Exception as e:\n",
        "    print(f\"Error verifying documents: {e}\")\n",
        "\n",
        "\n",
        "print(f\"\\nSearching for countries of type Lease...\")\n",
        "try:\n",
        "    response = client.search(\n",
        "        index=index_name,\n",
        "        query={\"term\":{\"type\":{\"value\": \"Lease\"}}},\n",
        "        size=10\n",
        "    )\n",
        "\n",
        "    # Process the search results\n",
        "    if response['hits']['total']['value'] > 0:\n",
        "        for hit in response['hits']['hits']:\n",
        "            print(f\"[{hit['_index']}] {hit['_source']['name']} [{hit['_source']['name']}]\")\n",
        "    else:\n",
        "        print(\"No documents found in the index.\")\n",
        "\n",
        "except Exception as e:\n",
        "    print(f\"Error during search: {e}\")"
      ]
    },
    {
      "cell_type": "markdown",
      "id": "HM0rRhDexLRE",
      "metadata": {
        "id": "HM0rRhDexLRE"
      },
      "source": [
        "## Checking for a missing document\n",
        "\n",
        "We indexed `257` document but our Natural Earth dataset has `258` document. What is missing? Why?"
      ]
    },
    {
      "cell_type": "code",
      "execution_count": 22,
      "id": "0q4cLXELxfhc",
      "metadata": {
        "colab": {
          "base_uri": "https://localhost:8080/"
        },
        "id": "0q4cLXELxfhc",
        "outputId": "2da78f34-20aa-4bad-ed03-d23fadc36bb4"
      },
      "outputs": [
        {
          "output_type": "stream",
          "name": "stdout",
          "text": [
            "There are 257 different countries in our ES index\n",
            "There are 258 different countries in the Natural Earth DataFrame\n"
          ]
        }
      ],
      "source": [
        "# Let's get the countries in our index\n",
        "es_names_docs=client.search(\n",
        "    index=index_name,\n",
        "    query={\"match_all\": {}},\n",
        "    _source_includes=False,\n",
        "    fields=[\"name\"],\n",
        "    size=1000\n",
        ")\n",
        "es_countries = set([hit['fields']['name'][0] for hit in es_names_docs[\"hits\"][\"hits\"]])\n",
        "print(f\"There are {len(es_countries)} different countries in our ES index\")\n",
        "\n",
        "\n",
        "# And a set from the \"WOE_ID_EH\" in the DataFrame\n",
        "gdf_countries = set(gdf[\"NAME\"])\n",
        "print(f\"There are {len(gdf_countries)} different countries in the Natural Earth DataFrame\")"
      ]
    },
    {
      "cell_type": "code",
      "execution_count": 23,
      "id": "JFZGSCGUx4qM",
      "metadata": {
        "colab": {
          "base_uri": "https://localhost:8080/"
        },
        "id": "JFZGSCGUx4qM",
        "outputId": "2d2fdf4b-b028-43b7-a7a0-13dfb8657766"
      },
      "outputs": [
        {
          "output_type": "execute_result",
          "data": {
            "text/plain": [
              "{'Antarctica'}"
            ]
          },
          "metadata": {},
          "execution_count": 23
        }
      ],
      "source": [
        "# Let's substract the sets to get the missing country\n",
        "gdf_countries - es_countries"
      ]
    },
    {
      "cell_type": "code",
      "execution_count": 24,
      "id": "32fbe5ff-eeb2-4f56-a7f6-0e5957acf19a",
      "metadata": {
        "colab": {
          "base_uri": "https://localhost:8080/"
        },
        "id": "32fbe5ff-eeb2-4f56-a7f6-0e5957acf19a",
        "outputId": "094ee15e-b41d-4e37-f912-d07cdf11c612"
      },
      "outputs": [
        {
          "output_type": "stream",
          "name": "stdout",
          "text": [
            "{\n",
            "  \"error\": {\n",
            "    \"root_cause\": [\n",
            "      {\n",
            "        \"type\": \"document_parsing_exception\",\n",
            "        \"reason\": \"[1:13] failed to parse field [geometry] of type [geo_shape]\"\n",
            "      }\n",
            "    ],\n",
            "    \"type\": \"document_parsing_exception\",\n",
            "    \"reason\": \"[1:13] failed to parse field [geometry] of type [geo_shape]\",\n",
            "    \"caused_by\": {\n",
            "      \"type\": \"illegal_argument_exception\",\n",
            "      \"reason\": \"Polygon self-intersection at lat=-84.3517829528102 lon=-163.03271507289995\"\n",
            "    }\n",
            "  },\n",
            "  \"status\": 400\n",
            "}\n"
          ]
        }
      ],
      "source": [
        "# Antarctica was not indexed in our bulk process, let's try to index it manually\n",
        "from elasticsearch.exceptions import BadRequestError\n",
        "\n",
        "# Get the Antarctica row\n",
        "antarctica = gdf[gdf['NAME'] == 'Antarctica'].copy()\n",
        "\n",
        "# Try the classic buffer-zero fix\n",
        "antarctica[\"geometry\"] = antarctica[\"geometry\"].buffer(0)\n",
        "doc = antarctica.iloc[0]\n",
        "\n",
        "# Try to manually index that geometry\n",
        "try:\n",
        "    client.index(\n",
        "        index=\"ne_countries\",\n",
        "        document={\"geometry\": str(doc[\"geometry\"]),\"name\": doc[\"NAME\"]}\n",
        "    )\n",
        "except BadRequestError as e:\n",
        "    print(json.dumps(e.info, indent=2))"
      ]
    },
    {
      "cell_type": "markdown",
      "source": [
        "## Importing a few geospatial datasets from snapshots"
      ],
      "metadata": {
        "id": "csw1tJ8XghTy"
      },
      "id": "csw1tJ8XghTy"
    },
    {
      "cell_type": "markdown",
      "source": [
        "We maintain on a GCP bucket exposed as HTTP resources a number of snapshots that can be imported into any ES cluster in 8 or 9 series.\n",
        "\n",
        "First add this snippet to the `elasticsearch.yml` configuration file:\n",
        "\n",
        "```\n",
        "repositories.url.allowed_urls:\n",
        "        - \"https://storage.googleapis.com/jsanz-bucket/*\"\n",
        "```\n",
        "\n",
        "Then see the code on how to create a snapshot and execute a restore request"
      ],
      "metadata": {
        "id": "thM6mzZSgo2y"
      },
      "id": "thM6mzZSgo2y"
    },
    {
      "cell_type": "code",
      "execution_count": 56,
      "id": "44fDqqbHhcKX",
      "metadata": {
        "id": "44fDqqbHhcKX"
      },
      "outputs": [],
      "source": [
        "snapshot_data = [\n",
        "    {\n",
        "      \"repo_name\": \"ghcd\",\n",
        "      \"base_path\": \"v8/ghcnd\",\n",
        "      \"snapshots\": [\n",
        "          \"ghcnd_daily_observations\"\n",
        "      ],\n",
        "      \"index_pattern\": \"ghcnd_daily_observations\",\n",
        "      \"time_field\": \"date\"\n",
        "    },\n",
        "    {\n",
        "      \"repo_name\": \"osm_data\",\n",
        "      \"base_path\": \"v8/osm\",\n",
        "      \"snapshots\": [\n",
        "          \"osm_italy_centro\",\n",
        "          \"osm_estonia\",\n",
        "          \"osm_spain_valencia\",\n",
        "          \"osm_usa_arizona\",\n",
        "          \"osm_andorra\"\n",
        "      ],\n",
        "      \"index_pattern\": \"osm_*\",\n",
        "      \"time_field\": \"timestamp\"\n",
        "    },\n",
        "    {\n",
        "      \"repo_name\": \"geonames\",\n",
        "      \"base_path\": \"v8/geospatial_demos\",\n",
        "      \"snapshots\": [\n",
        "          \"geonames\"\n",
        "      ],\n",
        "      \"index_pattern\": \"geonames\",\n",
        "      \"time_field\": \"modification_date\"\n",
        "    }\n",
        "]"
      ]
    },
    {
      "cell_type": "code",
      "source": [
        "def restore_snapshot(snapshot_data):\n",
        "  # Create the repository\n",
        "  from elasticsearch.exceptions import NotFoundError\n",
        "  repo_name = snapshot_data[\"repo_name\"]\n",
        "\n",
        "  # Check if the repo exists, create it if fails\n",
        "  try:\n",
        "    repo = client.snapshot.get_repository(name=repo_name)\n",
        "  except NotFoundError:\n",
        "    # Create the repo if not found\n",
        "    print(f\"Creating repository {repo_name}\")\n",
        "    client.snapshot.create_repository(name=repo_name,body={\n",
        "      \"type\": \"url\",\n",
        "      \"settings\": {\n",
        "        \"url\": f\"https://storage.googleapis.com/jsanz-bucket/{snapshot_data['base_path']}/\"\n",
        "      }\n",
        "    })\n",
        "\n",
        "  # Restore all snapshots stored in the repository\n",
        "  for snapshot in snapshot_data['snapshots']:\n",
        "    print(f\"Restoring {snapshot} from {repo_name}\")\n",
        "    client.snapshot.restore(repository=repo_name, snapshot=snapshot, wait_for_completion=False)"
      ],
      "metadata": {
        "id": "BOJMCC_9iLSC"
      },
      "id": "BOJMCC_9iLSC",
      "execution_count": 57,
      "outputs": []
    },
    {
      "cell_type": "code",
      "source": [
        "# Iterate over the repository entries\n",
        "for entry in snapshot_data:\n",
        "  # Check if index_pattern returns any data\n",
        "  pattern = entry['index_pattern']\n",
        "  count = client.count(index=pattern)\n",
        "\n",
        "  # If no data is found, restore the snapshots\n",
        "  if count.get('count',-1) == 0:\n",
        "    print(f\"Restoring snapshots from {entry['base_path']}\")\n",
        "    restore_snapshot(entry)\n",
        "  # If count is not found in the API response, something went wrong\n",
        "  elif count.get('count',-1) == -1:\n",
        "    print(f\"{pattern} count request went wrong, skipping.\")\n",
        "  # Data is already restored\n",
        "  else:\n",
        "    print(f\"{pattern} has data, skipping.\")"
      ],
      "metadata": {
        "id": "DY8BznSimURA",
        "outputId": "a3155ef1-3c56-4a70-e40c-3ace08210c9c",
        "colab": {
          "base_uri": "https://localhost:8080/"
        }
      },
      "id": "DY8BznSimURA",
      "execution_count": 58,
      "outputs": [
        {
          "output_type": "stream",
          "name": "stdout",
          "text": [
            "ghcnd_daily_observations has data, skipping.\n",
            "osm_* has data, skipping.\n",
            "geonames has data, skipping.\n"
          ]
        }
      ]
    },
    {
      "cell_type": "code",
      "source": [
        "for entry in snapshot_data:\n",
        "  # Create a Kibana data view for index pattern\n",
        "  payload = {\n",
        "      \"data_view\": {\n",
        "          \"title\": entry['index_pattern'],\n",
        "          \"timeFieldName\": entry['time_field']\n",
        "    }\n",
        "  }\n",
        "  # Add the data view using the Kibana API\n",
        "  r_dataview = kib_post(\"/api/data_views/data_view\", data=payload).json()\n",
        "\n",
        "  if 'data_view' in r_dataview:\n",
        "      print(f\"Data view for [{entry['index_pattern']}] created!\")\n",
        "  else:\n",
        "      print(\"Data view not created\")\n",
        "      print(f\"Message: {r_dataview['message']}\")"
      ],
      "metadata": {
        "id": "SQ6Nfdd0nbau",
        "outputId": "159aefb4-dd7e-486f-fee7-1c0d168c3e7b",
        "colab": {
          "base_uri": "https://localhost:8080/"
        }
      },
      "id": "SQ6Nfdd0nbau",
      "execution_count": 60,
      "outputs": [
        {
          "output_type": "stream",
          "name": "stdout",
          "text": [
            "Data view for [ghcnd_daily_observations] created!\n",
            "Data view for [osm_*] created!\n",
            "Data view for [geonames] created!\n"
          ]
        }
      ]
    },
    {
      "cell_type": "code",
      "source": [
        "# Check how much data was stored\n",
        "for entry in snapshot_data:\n",
        "  count = client.count(index=entry['index_pattern'])\n",
        "  print(f\"{entry['index_pattern']}: {count.get('count',0):,}\")"
      ],
      "metadata": {
        "id": "rAd7IEp_q-f8",
        "outputId": "5bd33e75-4b37-49b7-e008-e8402fd91bcf",
        "colab": {
          "base_uri": "https://localhost:8080/"
        }
      },
      "id": "rAd7IEp_q-f8",
      "execution_count": 64,
      "outputs": [
        {
          "output_type": "stream",
          "name": "stdout",
          "text": [
            "ghcnd_daily_observations: 29,075,053\n",
            "osm_*: 99,589,937\n",
            "geonames: 11,968,314\n"
          ]
        }
      ]
    }
  ],
  "metadata": {
    "colab": {
      "provenance": []
    },
    "kernelspec": {
      "display_name": ".venv",
      "language": "python",
      "name": "python3"
    },
    "language_info": {
      "codemirror_mode": {
        "name": "ipython",
        "version": 3
      },
      "file_extension": ".py",
      "mimetype": "text/x-python",
      "name": "python",
      "nbconvert_exporter": "python",
      "pygments_lexer": "ipython3",
      "version": "3.12.10"
    }
  },
  "nbformat": 4,
  "nbformat_minor": 5
}